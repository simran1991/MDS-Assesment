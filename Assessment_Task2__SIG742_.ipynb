{
  "nbformat": 4,
  "nbformat_minor": 0,
  "metadata": {
    "colab": {
      "provenance": []
    },
    "kernelspec": {
      "name": "python3",
      "display_name": "Python 3"
    },
    "language_info": {
      "name": "python"
    }
  },
  "cells": [
    {
      "cell_type": "markdown",
      "source": [
        "**SIG742: Modern Data Science**\n",
        "\n",
        "\n",
        "Deakin University Trimester 2, 2023\n",
        "\n",
        "\n",
        "School of IT Assessment Task 2 (Full Mark: 100)\n",
        "\n",
        "\n",
        "\n",
        "Unit Team: SIG 742\n",
        "\n",
        "\n",
        "**Group Names :\n",
        "\n",
        "Ramchandar Mariappan -223914532\n",
        "\n",
        "Uthara Ravichanthar -\n",
        "\n",
        "\n",
        "Simranjit Singh -"
      ],
      "metadata": {
        "id": "0ITkSX60MyaV"
      }
    },
    {
      "cell_type": "markdown",
      "source": [
        "**Instructions**\n",
        "Assignment Questions\n",
        "\n",
        "There are total 2 parts in this assessment task:\n",
        "\n",
        "Part 1 The first part will focus on the data acquisition and manipulation which includes the numpy, the\n",
        "pandas, the Data Wrangling, the EDA from M03, and M04.\n",
        "\n",
        "Part 2 The second part will require to perform the time series analysis exercise, which includes the time\n",
        "series, the ARIMA, the Isolation Forest M05.\n"
      ],
      "metadata": {
        "id": "A-dG_PWYNZ8X"
      }
    },
    {
      "cell_type": "markdown",
      "source": [
        "**Part I**\n",
        "Data Acquisition and Manipulation\n",
        "\n",
        "There are 10 questions in this part for total 60 marks, and each question is for 5 marks.\n",
        "\n",
        "The quality of your explanation in the report and video will be 10 marks for all questions. You are required to use Google Colab to finish all the coding in the code block cell, and provide sufficient coding comments, and also save the result of running as well.\n",
        "\n",
        "**Dataset:**\n",
        "The (Item_listing_category.zip) data used for this part could be found in here. You will need to use Pandas to read the unzipped (csv) data for starting.\n"
      ],
      "metadata": {
        "id": "uZszxvaBOFsc"
      }
    },
    {
      "cell_type": "markdown",
      "source": [
        "**Pre requisites and prepartaion**"
      ],
      "metadata": {
        "id": "SlhVODCPOcbD"
      }
    },
    {
      "cell_type": "code",
      "source": [
        "# import libraries\n",
        "import numpy as np\n",
        "import pandas as pd\n",
        "import seaborn as sns\n",
        "import matplotlib.pyplot as plt\n",
        "import warnings\n",
        "warnings.filterwarnings('ignore')"
      ],
      "metadata": {
        "id": "v08o9b2WOQVU"
      },
      "execution_count": 2,
      "outputs": []
    },
    {
      "cell_type": "code",
      "source": [
        "#download the file from gitbug\n",
        "import os\n",
        "os.system(\"wget https://github.com/tulip-lab/sit742/raw/develop/Jupyter/data/item_listing_category.zip\")"
      ],
      "metadata": {
        "colab": {
          "base_uri": "https://localhost:8080/"
        },
        "id": "dGLvYSOePdYY",
        "outputId": "b5d0890b-dc54-4399-dfe6-1b8966164af6"
      },
      "execution_count": 3,
      "outputs": [
        {
          "output_type": "execute_result",
          "data": {
            "text/plain": [
              "0"
            ]
          },
          "metadata": {},
          "execution_count": 3
        }
      ]
    },
    {
      "cell_type": "code",
      "source": [
        "import os\n",
        "current_directory = os.getcwd()\n",
        "print(current_directory)\n"
      ],
      "metadata": {
        "colab": {
          "base_uri": "https://localhost:8080/"
        },
        "id": "cyddyPNGZ7RM",
        "outputId": "ea5dac51-0972-498c-e35e-a663dbe6fdb5"
      },
      "execution_count": 4,
      "outputs": [
        {
          "output_type": "stream",
          "name": "stdout",
          "text": [
            "/content\n"
          ]
        }
      ]
    },
    {
      "cell_type": "code",
      "source": [
        "import zipfile\n",
        "import pandas as pd\n",
        "\n",
        "# Specify the path to the downloaded ZIP file\n",
        "zip_file_path = \"/content/item_listing_category.zip\"\n",
        "\n",
        "# Specify the directory where you want to extract the contents\n",
        "extracted_dir_path = \"/content\"\n",
        "\n",
        "# Extract the contents of the ZIP file\n",
        "with zipfile.ZipFile(zip_file_path, 'r') as zip_ref:\n",
        "    zip_ref.extractall(extracted_dir_path)\n",
        "\n",
        "# Specify the path to the CSV file within the extracted contents\n",
        "csv_file_path = os.path.join(extracted_dir_path, \"item_list.csv\")\n",
        "\n"
      ],
      "metadata": {
        "id": "XTquZNLiUPaX"
      },
      "execution_count": 5,
      "outputs": []
    },
    {
      "cell_type": "code",
      "source": [
        "#read the csv file.\n",
        "item_list_df =pd.read_csv(\"/content/item_listing_category.csv\")"
      ],
      "metadata": {
        "id": "9xapdxzgYMda"
      },
      "execution_count": 6,
      "outputs": []
    },
    {
      "cell_type": "code",
      "source": [
        "#Loading top data\n",
        "item_list_df.head()"
      ],
      "metadata": {
        "colab": {
          "base_uri": "https://localhost:8080/",
          "height": 206
        },
        "id": "R6DK_hadb1xK",
        "outputId": "a9c8cfab-6f48-495a-9d4e-8e9380a02607"
      },
      "execution_count": 7,
      "outputs": [
        {
          "output_type": "execute_result",
          "data": {
            "text/plain": [
              "   train_id                            name  item_condition_id  \\\n",
              "0    128037        Bundle for Sassy Sisters                  3   \n",
              "1    491755                    PINK VS TANK                  2   \n",
              "2    470924      Funko Pop Unmasked Cyclops                  1   \n",
              "3    491263                 Baby Roshe Runs                  3   \n",
              "4    836489  Baby Girl Ralph Lauren dresses                  3   \n",
              "\n",
              "                        category_name    brand_name  price  shipping  \\\n",
              "0         Women/Tops & Blouses/Blouse           NaN   16.0         0   \n",
              "1     Women/Tops & Blouses/Tank, Cami           NaN   17.0         0   \n",
              "2  Kids/Toys/Action Figures & Statues         Funko   30.0         1   \n",
              "3               Kids/Boys 2T-5T/Shoes          Nike   19.0         0   \n",
              "4         Kids/Girls 0-24 Mos/Dresses  Ralph Lauren   24.0         0   \n",
              "\n",
              "                                   clean_description  \n",
              "0  max cleo black dress paper crane black tank to...  \n",
              "1       sequin pink sign sequins missing gently worn  \n",
              "2  box great condition comes soft pop protector p...  \n",
              "3                 baby black nike roshe runs size 5c  \n",
              "4  2 polo dresses 3 months wore washed dreft pink...  "
            ],
            "text/html": [
              "\n",
              "  <div id=\"df-914f9554-0ec8-4d47-9b2e-e2c343dcdb1e\" class=\"colab-df-container\">\n",
              "    <div>\n",
              "<style scoped>\n",
              "    .dataframe tbody tr th:only-of-type {\n",
              "        vertical-align: middle;\n",
              "    }\n",
              "\n",
              "    .dataframe tbody tr th {\n",
              "        vertical-align: top;\n",
              "    }\n",
              "\n",
              "    .dataframe thead th {\n",
              "        text-align: right;\n",
              "    }\n",
              "</style>\n",
              "<table border=\"1\" class=\"dataframe\">\n",
              "  <thead>\n",
              "    <tr style=\"text-align: right;\">\n",
              "      <th></th>\n",
              "      <th>train_id</th>\n",
              "      <th>name</th>\n",
              "      <th>item_condition_id</th>\n",
              "      <th>category_name</th>\n",
              "      <th>brand_name</th>\n",
              "      <th>price</th>\n",
              "      <th>shipping</th>\n",
              "      <th>clean_description</th>\n",
              "    </tr>\n",
              "  </thead>\n",
              "  <tbody>\n",
              "    <tr>\n",
              "      <th>0</th>\n",
              "      <td>128037</td>\n",
              "      <td>Bundle for Sassy Sisters</td>\n",
              "      <td>3</td>\n",
              "      <td>Women/Tops &amp; Blouses/Blouse</td>\n",
              "      <td>NaN</td>\n",
              "      <td>16.0</td>\n",
              "      <td>0</td>\n",
              "      <td>max cleo black dress paper crane black tank to...</td>\n",
              "    </tr>\n",
              "    <tr>\n",
              "      <th>1</th>\n",
              "      <td>491755</td>\n",
              "      <td>PINK VS TANK</td>\n",
              "      <td>2</td>\n",
              "      <td>Women/Tops &amp; Blouses/Tank, Cami</td>\n",
              "      <td>NaN</td>\n",
              "      <td>17.0</td>\n",
              "      <td>0</td>\n",
              "      <td>sequin pink sign sequins missing gently worn</td>\n",
              "    </tr>\n",
              "    <tr>\n",
              "      <th>2</th>\n",
              "      <td>470924</td>\n",
              "      <td>Funko Pop Unmasked Cyclops</td>\n",
              "      <td>1</td>\n",
              "      <td>Kids/Toys/Action Figures &amp; Statues</td>\n",
              "      <td>Funko</td>\n",
              "      <td>30.0</td>\n",
              "      <td>1</td>\n",
              "      <td>box great condition comes soft pop protector p...</td>\n",
              "    </tr>\n",
              "    <tr>\n",
              "      <th>3</th>\n",
              "      <td>491263</td>\n",
              "      <td>Baby Roshe Runs</td>\n",
              "      <td>3</td>\n",
              "      <td>Kids/Boys 2T-5T/Shoes</td>\n",
              "      <td>Nike</td>\n",
              "      <td>19.0</td>\n",
              "      <td>0</td>\n",
              "      <td>baby black nike roshe runs size 5c</td>\n",
              "    </tr>\n",
              "    <tr>\n",
              "      <th>4</th>\n",
              "      <td>836489</td>\n",
              "      <td>Baby Girl Ralph Lauren dresses</td>\n",
              "      <td>3</td>\n",
              "      <td>Kids/Girls 0-24 Mos/Dresses</td>\n",
              "      <td>Ralph Lauren</td>\n",
              "      <td>24.0</td>\n",
              "      <td>0</td>\n",
              "      <td>2 polo dresses 3 months wore washed dreft pink...</td>\n",
              "    </tr>\n",
              "  </tbody>\n",
              "</table>\n",
              "</div>\n",
              "    <div class=\"colab-df-buttons\">\n",
              "\n",
              "  <div class=\"colab-df-container\">\n",
              "    <button class=\"colab-df-convert\" onclick=\"convertToInteractive('df-914f9554-0ec8-4d47-9b2e-e2c343dcdb1e')\"\n",
              "            title=\"Convert this dataframe to an interactive table.\"\n",
              "            style=\"display:none;\">\n",
              "\n",
              "  <svg xmlns=\"http://www.w3.org/2000/svg\" height=\"24px\" viewBox=\"0 -960 960 960\">\n",
              "    <path d=\"M120-120v-720h720v720H120Zm60-500h600v-160H180v160Zm220 220h160v-160H400v160Zm0 220h160v-160H400v160ZM180-400h160v-160H180v160Zm440 0h160v-160H620v160ZM180-180h160v-160H180v160Zm440 0h160v-160H620v160Z\"/>\n",
              "  </svg>\n",
              "    </button>\n",
              "\n",
              "  <style>\n",
              "    .colab-df-container {\n",
              "      display:flex;\n",
              "      gap: 12px;\n",
              "    }\n",
              "\n",
              "    .colab-df-convert {\n",
              "      background-color: #E8F0FE;\n",
              "      border: none;\n",
              "      border-radius: 50%;\n",
              "      cursor: pointer;\n",
              "      display: none;\n",
              "      fill: #1967D2;\n",
              "      height: 32px;\n",
              "      padding: 0 0 0 0;\n",
              "      width: 32px;\n",
              "    }\n",
              "\n",
              "    .colab-df-convert:hover {\n",
              "      background-color: #E2EBFA;\n",
              "      box-shadow: 0px 1px 2px rgba(60, 64, 67, 0.3), 0px 1px 3px 1px rgba(60, 64, 67, 0.15);\n",
              "      fill: #174EA6;\n",
              "    }\n",
              "\n",
              "    .colab-df-buttons div {\n",
              "      margin-bottom: 4px;\n",
              "    }\n",
              "\n",
              "    [theme=dark] .colab-df-convert {\n",
              "      background-color: #3B4455;\n",
              "      fill: #D2E3FC;\n",
              "    }\n",
              "\n",
              "    [theme=dark] .colab-df-convert:hover {\n",
              "      background-color: #434B5C;\n",
              "      box-shadow: 0px 1px 3px 1px rgba(0, 0, 0, 0.15);\n",
              "      filter: drop-shadow(0px 1px 2px rgba(0, 0, 0, 0.3));\n",
              "      fill: #FFFFFF;\n",
              "    }\n",
              "  </style>\n",
              "\n",
              "    <script>\n",
              "      const buttonEl =\n",
              "        document.querySelector('#df-914f9554-0ec8-4d47-9b2e-e2c343dcdb1e button.colab-df-convert');\n",
              "      buttonEl.style.display =\n",
              "        google.colab.kernel.accessAllowed ? 'block' : 'none';\n",
              "\n",
              "      async function convertToInteractive(key) {\n",
              "        const element = document.querySelector('#df-914f9554-0ec8-4d47-9b2e-e2c343dcdb1e');\n",
              "        const dataTable =\n",
              "          await google.colab.kernel.invokeFunction('convertToInteractive',\n",
              "                                                    [key], {});\n",
              "        if (!dataTable) return;\n",
              "\n",
              "        const docLinkHtml = 'Like what you see? Visit the ' +\n",
              "          '<a target=\"_blank\" href=https://colab.research.google.com/notebooks/data_table.ipynb>data table notebook</a>'\n",
              "          + ' to learn more about interactive tables.';\n",
              "        element.innerHTML = '';\n",
              "        dataTable['output_type'] = 'display_data';\n",
              "        await google.colab.output.renderOutput(dataTable, element);\n",
              "        const docLink = document.createElement('div');\n",
              "        docLink.innerHTML = docLinkHtml;\n",
              "        element.appendChild(docLink);\n",
              "      }\n",
              "    </script>\n",
              "  </div>\n",
              "\n",
              "\n",
              "<div id=\"df-882f2dd2-52f4-432b-92e1-d1b997429ced\">\n",
              "  <button class=\"colab-df-quickchart\" onclick=\"quickchart('df-882f2dd2-52f4-432b-92e1-d1b997429ced')\"\n",
              "            title=\"Suggest charts.\"\n",
              "            style=\"display:none;\">\n",
              "\n",
              "<svg xmlns=\"http://www.w3.org/2000/svg\" height=\"24px\"viewBox=\"0 0 24 24\"\n",
              "     width=\"24px\">\n",
              "    <g>\n",
              "        <path d=\"M19 3H5c-1.1 0-2 .9-2 2v14c0 1.1.9 2 2 2h14c1.1 0 2-.9 2-2V5c0-1.1-.9-2-2-2zM9 17H7v-7h2v7zm4 0h-2V7h2v10zm4 0h-2v-4h2v4z\"/>\n",
              "    </g>\n",
              "</svg>\n",
              "  </button>\n",
              "\n",
              "<style>\n",
              "  .colab-df-quickchart {\n",
              "      --bg-color: #E8F0FE;\n",
              "      --fill-color: #1967D2;\n",
              "      --hover-bg-color: #E2EBFA;\n",
              "      --hover-fill-color: #174EA6;\n",
              "      --disabled-fill-color: #AAA;\n",
              "      --disabled-bg-color: #DDD;\n",
              "  }\n",
              "\n",
              "  [theme=dark] .colab-df-quickchart {\n",
              "      --bg-color: #3B4455;\n",
              "      --fill-color: #D2E3FC;\n",
              "      --hover-bg-color: #434B5C;\n",
              "      --hover-fill-color: #FFFFFF;\n",
              "      --disabled-bg-color: #3B4455;\n",
              "      --disabled-fill-color: #666;\n",
              "  }\n",
              "\n",
              "  .colab-df-quickchart {\n",
              "    background-color: var(--bg-color);\n",
              "    border: none;\n",
              "    border-radius: 50%;\n",
              "    cursor: pointer;\n",
              "    display: none;\n",
              "    fill: var(--fill-color);\n",
              "    height: 32px;\n",
              "    padding: 0;\n",
              "    width: 32px;\n",
              "  }\n",
              "\n",
              "  .colab-df-quickchart:hover {\n",
              "    background-color: var(--hover-bg-color);\n",
              "    box-shadow: 0 1px 2px rgba(60, 64, 67, 0.3), 0 1px 3px 1px rgba(60, 64, 67, 0.15);\n",
              "    fill: var(--button-hover-fill-color);\n",
              "  }\n",
              "\n",
              "  .colab-df-quickchart-complete:disabled,\n",
              "  .colab-df-quickchart-complete:disabled:hover {\n",
              "    background-color: var(--disabled-bg-color);\n",
              "    fill: var(--disabled-fill-color);\n",
              "    box-shadow: none;\n",
              "  }\n",
              "\n",
              "  .colab-df-spinner {\n",
              "    border: 2px solid var(--fill-color);\n",
              "    border-color: transparent;\n",
              "    border-bottom-color: var(--fill-color);\n",
              "    animation:\n",
              "      spin 1s steps(1) infinite;\n",
              "  }\n",
              "\n",
              "  @keyframes spin {\n",
              "    0% {\n",
              "      border-color: transparent;\n",
              "      border-bottom-color: var(--fill-color);\n",
              "      border-left-color: var(--fill-color);\n",
              "    }\n",
              "    20% {\n",
              "      border-color: transparent;\n",
              "      border-left-color: var(--fill-color);\n",
              "      border-top-color: var(--fill-color);\n",
              "    }\n",
              "    30% {\n",
              "      border-color: transparent;\n",
              "      border-left-color: var(--fill-color);\n",
              "      border-top-color: var(--fill-color);\n",
              "      border-right-color: var(--fill-color);\n",
              "    }\n",
              "    40% {\n",
              "      border-color: transparent;\n",
              "      border-right-color: var(--fill-color);\n",
              "      border-top-color: var(--fill-color);\n",
              "    }\n",
              "    60% {\n",
              "      border-color: transparent;\n",
              "      border-right-color: var(--fill-color);\n",
              "    }\n",
              "    80% {\n",
              "      border-color: transparent;\n",
              "      border-right-color: var(--fill-color);\n",
              "      border-bottom-color: var(--fill-color);\n",
              "    }\n",
              "    90% {\n",
              "      border-color: transparent;\n",
              "      border-bottom-color: var(--fill-color);\n",
              "    }\n",
              "  }\n",
              "</style>\n",
              "\n",
              "  <script>\n",
              "    async function quickchart(key) {\n",
              "      const quickchartButtonEl =\n",
              "        document.querySelector('#' + key + ' button');\n",
              "      quickchartButtonEl.disabled = true;  // To prevent multiple clicks.\n",
              "      quickchartButtonEl.classList.add('colab-df-spinner');\n",
              "      try {\n",
              "        const charts = await google.colab.kernel.invokeFunction(\n",
              "            'suggestCharts', [key], {});\n",
              "      } catch (error) {\n",
              "        console.error('Error during call to suggestCharts:', error);\n",
              "      }\n",
              "      quickchartButtonEl.classList.remove('colab-df-spinner');\n",
              "      quickchartButtonEl.classList.add('colab-df-quickchart-complete');\n",
              "    }\n",
              "    (() => {\n",
              "      let quickchartButtonEl =\n",
              "        document.querySelector('#df-882f2dd2-52f4-432b-92e1-d1b997429ced button');\n",
              "      quickchartButtonEl.style.display =\n",
              "        google.colab.kernel.accessAllowed ? 'block' : 'none';\n",
              "    })();\n",
              "  </script>\n",
              "</div>\n",
              "    </div>\n",
              "  </div>\n"
            ]
          },
          "metadata": {},
          "execution_count": 7
        }
      ]
    },
    {
      "cell_type": "code",
      "source": [
        "#Loading bottom data\n",
        "item_list_df.tail()"
      ],
      "metadata": {
        "colab": {
          "base_uri": "https://localhost:8080/",
          "height": 275
        },
        "id": "-3gkS20Xb5D0",
        "outputId": "bf9bad55-87dd-4f92-9ce2-9fd5985229e4"
      },
      "execution_count": 8,
      "outputs": [
        {
          "output_type": "execute_result",
          "data": {
            "text/plain": [
              "        train_id                                     name  item_condition_id  \\\n",
              "355803    760377                  Beats By Dre Solo White                  3   \n",
              "355804    780889  4 New Leap Frog Leapster Learning Games                  1   \n",
              "355805    650579                    Torrid bra size 42ddd                  3   \n",
              "355806    481154                               Vans shoes                  2   \n",
              "355807    361073    Kendra Scott Alex earrings in Magenta                  2   \n",
              "\n",
              "                                          category_name    brand_name  price  \\\n",
              "355803  Electronics/TV, Audio & Surveillance/Headphones         Beats   45.0   \n",
              "355804                   Kids/Toys/Learning & Education     Leap Frog    9.0   \n",
              "355805                             Women/Underwear/Bras        Torrid   20.0   \n",
              "355806                       Men/Shoes/Fashion Sneakers          VANS   23.0   \n",
              "355807                           Women/Jewelry/Earrings  Kendra Scott   38.0   \n",
              "\n",
              "        shipping                                  clean_description  \n",
              "355803         1        beats dre solo white gently used work great  \n",
              "355804         1  viewing 4 new leap frog leapster learning game...  \n",
              "355805         1  couple places lace snagged tell fairly good co...  \n",
              "355806         0                                            size 11  \n",
              "355807         1                                    description yet  "
            ],
            "text/html": [
              "\n",
              "  <div id=\"df-f43804d7-43b8-41bb-92fb-94f36bd03afc\" class=\"colab-df-container\">\n",
              "    <div>\n",
              "<style scoped>\n",
              "    .dataframe tbody tr th:only-of-type {\n",
              "        vertical-align: middle;\n",
              "    }\n",
              "\n",
              "    .dataframe tbody tr th {\n",
              "        vertical-align: top;\n",
              "    }\n",
              "\n",
              "    .dataframe thead th {\n",
              "        text-align: right;\n",
              "    }\n",
              "</style>\n",
              "<table border=\"1\" class=\"dataframe\">\n",
              "  <thead>\n",
              "    <tr style=\"text-align: right;\">\n",
              "      <th></th>\n",
              "      <th>train_id</th>\n",
              "      <th>name</th>\n",
              "      <th>item_condition_id</th>\n",
              "      <th>category_name</th>\n",
              "      <th>brand_name</th>\n",
              "      <th>price</th>\n",
              "      <th>shipping</th>\n",
              "      <th>clean_description</th>\n",
              "    </tr>\n",
              "  </thead>\n",
              "  <tbody>\n",
              "    <tr>\n",
              "      <th>355803</th>\n",
              "      <td>760377</td>\n",
              "      <td>Beats By Dre Solo White</td>\n",
              "      <td>3</td>\n",
              "      <td>Electronics/TV, Audio &amp; Surveillance/Headphones</td>\n",
              "      <td>Beats</td>\n",
              "      <td>45.0</td>\n",
              "      <td>1</td>\n",
              "      <td>beats dre solo white gently used work great</td>\n",
              "    </tr>\n",
              "    <tr>\n",
              "      <th>355804</th>\n",
              "      <td>780889</td>\n",
              "      <td>4 New Leap Frog Leapster Learning Games</td>\n",
              "      <td>1</td>\n",
              "      <td>Kids/Toys/Learning &amp; Education</td>\n",
              "      <td>Leap Frog</td>\n",
              "      <td>9.0</td>\n",
              "      <td>1</td>\n",
              "      <td>viewing 4 new leap frog leapster learning game...</td>\n",
              "    </tr>\n",
              "    <tr>\n",
              "      <th>355805</th>\n",
              "      <td>650579</td>\n",
              "      <td>Torrid bra size 42ddd</td>\n",
              "      <td>3</td>\n",
              "      <td>Women/Underwear/Bras</td>\n",
              "      <td>Torrid</td>\n",
              "      <td>20.0</td>\n",
              "      <td>1</td>\n",
              "      <td>couple places lace snagged tell fairly good co...</td>\n",
              "    </tr>\n",
              "    <tr>\n",
              "      <th>355806</th>\n",
              "      <td>481154</td>\n",
              "      <td>Vans shoes</td>\n",
              "      <td>2</td>\n",
              "      <td>Men/Shoes/Fashion Sneakers</td>\n",
              "      <td>VANS</td>\n",
              "      <td>23.0</td>\n",
              "      <td>0</td>\n",
              "      <td>size 11</td>\n",
              "    </tr>\n",
              "    <tr>\n",
              "      <th>355807</th>\n",
              "      <td>361073</td>\n",
              "      <td>Kendra Scott Alex earrings in Magenta</td>\n",
              "      <td>2</td>\n",
              "      <td>Women/Jewelry/Earrings</td>\n",
              "      <td>Kendra Scott</td>\n",
              "      <td>38.0</td>\n",
              "      <td>1</td>\n",
              "      <td>description yet</td>\n",
              "    </tr>\n",
              "  </tbody>\n",
              "</table>\n",
              "</div>\n",
              "    <div class=\"colab-df-buttons\">\n",
              "\n",
              "  <div class=\"colab-df-container\">\n",
              "    <button class=\"colab-df-convert\" onclick=\"convertToInteractive('df-f43804d7-43b8-41bb-92fb-94f36bd03afc')\"\n",
              "            title=\"Convert this dataframe to an interactive table.\"\n",
              "            style=\"display:none;\">\n",
              "\n",
              "  <svg xmlns=\"http://www.w3.org/2000/svg\" height=\"24px\" viewBox=\"0 -960 960 960\">\n",
              "    <path d=\"M120-120v-720h720v720H120Zm60-500h600v-160H180v160Zm220 220h160v-160H400v160Zm0 220h160v-160H400v160ZM180-400h160v-160H180v160Zm440 0h160v-160H620v160ZM180-180h160v-160H180v160Zm440 0h160v-160H620v160Z\"/>\n",
              "  </svg>\n",
              "    </button>\n",
              "\n",
              "  <style>\n",
              "    .colab-df-container {\n",
              "      display:flex;\n",
              "      gap: 12px;\n",
              "    }\n",
              "\n",
              "    .colab-df-convert {\n",
              "      background-color: #E8F0FE;\n",
              "      border: none;\n",
              "      border-radius: 50%;\n",
              "      cursor: pointer;\n",
              "      display: none;\n",
              "      fill: #1967D2;\n",
              "      height: 32px;\n",
              "      padding: 0 0 0 0;\n",
              "      width: 32px;\n",
              "    }\n",
              "\n",
              "    .colab-df-convert:hover {\n",
              "      background-color: #E2EBFA;\n",
              "      box-shadow: 0px 1px 2px rgba(60, 64, 67, 0.3), 0px 1px 3px 1px rgba(60, 64, 67, 0.15);\n",
              "      fill: #174EA6;\n",
              "    }\n",
              "\n",
              "    .colab-df-buttons div {\n",
              "      margin-bottom: 4px;\n",
              "    }\n",
              "\n",
              "    [theme=dark] .colab-df-convert {\n",
              "      background-color: #3B4455;\n",
              "      fill: #D2E3FC;\n",
              "    }\n",
              "\n",
              "    [theme=dark] .colab-df-convert:hover {\n",
              "      background-color: #434B5C;\n",
              "      box-shadow: 0px 1px 3px 1px rgba(0, 0, 0, 0.15);\n",
              "      filter: drop-shadow(0px 1px 2px rgba(0, 0, 0, 0.3));\n",
              "      fill: #FFFFFF;\n",
              "    }\n",
              "  </style>\n",
              "\n",
              "    <script>\n",
              "      const buttonEl =\n",
              "        document.querySelector('#df-f43804d7-43b8-41bb-92fb-94f36bd03afc button.colab-df-convert');\n",
              "      buttonEl.style.display =\n",
              "        google.colab.kernel.accessAllowed ? 'block' : 'none';\n",
              "\n",
              "      async function convertToInteractive(key) {\n",
              "        const element = document.querySelector('#df-f43804d7-43b8-41bb-92fb-94f36bd03afc');\n",
              "        const dataTable =\n",
              "          await google.colab.kernel.invokeFunction('convertToInteractive',\n",
              "                                                    [key], {});\n",
              "        if (!dataTable) return;\n",
              "\n",
              "        const docLinkHtml = 'Like what you see? Visit the ' +\n",
              "          '<a target=\"_blank\" href=https://colab.research.google.com/notebooks/data_table.ipynb>data table notebook</a>'\n",
              "          + ' to learn more about interactive tables.';\n",
              "        element.innerHTML = '';\n",
              "        dataTable['output_type'] = 'display_data';\n",
              "        await google.colab.output.renderOutput(dataTable, element);\n",
              "        const docLink = document.createElement('div');\n",
              "        docLink.innerHTML = docLinkHtml;\n",
              "        element.appendChild(docLink);\n",
              "      }\n",
              "    </script>\n",
              "  </div>\n",
              "\n",
              "\n",
              "<div id=\"df-b32bb2a0-b50e-4816-8898-760d99f5eb20\">\n",
              "  <button class=\"colab-df-quickchart\" onclick=\"quickchart('df-b32bb2a0-b50e-4816-8898-760d99f5eb20')\"\n",
              "            title=\"Suggest charts.\"\n",
              "            style=\"display:none;\">\n",
              "\n",
              "<svg xmlns=\"http://www.w3.org/2000/svg\" height=\"24px\"viewBox=\"0 0 24 24\"\n",
              "     width=\"24px\">\n",
              "    <g>\n",
              "        <path d=\"M19 3H5c-1.1 0-2 .9-2 2v14c0 1.1.9 2 2 2h14c1.1 0 2-.9 2-2V5c0-1.1-.9-2-2-2zM9 17H7v-7h2v7zm4 0h-2V7h2v10zm4 0h-2v-4h2v4z\"/>\n",
              "    </g>\n",
              "</svg>\n",
              "  </button>\n",
              "\n",
              "<style>\n",
              "  .colab-df-quickchart {\n",
              "      --bg-color: #E8F0FE;\n",
              "      --fill-color: #1967D2;\n",
              "      --hover-bg-color: #E2EBFA;\n",
              "      --hover-fill-color: #174EA6;\n",
              "      --disabled-fill-color: #AAA;\n",
              "      --disabled-bg-color: #DDD;\n",
              "  }\n",
              "\n",
              "  [theme=dark] .colab-df-quickchart {\n",
              "      --bg-color: #3B4455;\n",
              "      --fill-color: #D2E3FC;\n",
              "      --hover-bg-color: #434B5C;\n",
              "      --hover-fill-color: #FFFFFF;\n",
              "      --disabled-bg-color: #3B4455;\n",
              "      --disabled-fill-color: #666;\n",
              "  }\n",
              "\n",
              "  .colab-df-quickchart {\n",
              "    background-color: var(--bg-color);\n",
              "    border: none;\n",
              "    border-radius: 50%;\n",
              "    cursor: pointer;\n",
              "    display: none;\n",
              "    fill: var(--fill-color);\n",
              "    height: 32px;\n",
              "    padding: 0;\n",
              "    width: 32px;\n",
              "  }\n",
              "\n",
              "  .colab-df-quickchart:hover {\n",
              "    background-color: var(--hover-bg-color);\n",
              "    box-shadow: 0 1px 2px rgba(60, 64, 67, 0.3), 0 1px 3px 1px rgba(60, 64, 67, 0.15);\n",
              "    fill: var(--button-hover-fill-color);\n",
              "  }\n",
              "\n",
              "  .colab-df-quickchart-complete:disabled,\n",
              "  .colab-df-quickchart-complete:disabled:hover {\n",
              "    background-color: var(--disabled-bg-color);\n",
              "    fill: var(--disabled-fill-color);\n",
              "    box-shadow: none;\n",
              "  }\n",
              "\n",
              "  .colab-df-spinner {\n",
              "    border: 2px solid var(--fill-color);\n",
              "    border-color: transparent;\n",
              "    border-bottom-color: var(--fill-color);\n",
              "    animation:\n",
              "      spin 1s steps(1) infinite;\n",
              "  }\n",
              "\n",
              "  @keyframes spin {\n",
              "    0% {\n",
              "      border-color: transparent;\n",
              "      border-bottom-color: var(--fill-color);\n",
              "      border-left-color: var(--fill-color);\n",
              "    }\n",
              "    20% {\n",
              "      border-color: transparent;\n",
              "      border-left-color: var(--fill-color);\n",
              "      border-top-color: var(--fill-color);\n",
              "    }\n",
              "    30% {\n",
              "      border-color: transparent;\n",
              "      border-left-color: var(--fill-color);\n",
              "      border-top-color: var(--fill-color);\n",
              "      border-right-color: var(--fill-color);\n",
              "    }\n",
              "    40% {\n",
              "      border-color: transparent;\n",
              "      border-right-color: var(--fill-color);\n",
              "      border-top-color: var(--fill-color);\n",
              "    }\n",
              "    60% {\n",
              "      border-color: transparent;\n",
              "      border-right-color: var(--fill-color);\n",
              "    }\n",
              "    80% {\n",
              "      border-color: transparent;\n",
              "      border-right-color: var(--fill-color);\n",
              "      border-bottom-color: var(--fill-color);\n",
              "    }\n",
              "    90% {\n",
              "      border-color: transparent;\n",
              "      border-bottom-color: var(--fill-color);\n",
              "    }\n",
              "  }\n",
              "</style>\n",
              "\n",
              "  <script>\n",
              "    async function quickchart(key) {\n",
              "      const quickchartButtonEl =\n",
              "        document.querySelector('#' + key + ' button');\n",
              "      quickchartButtonEl.disabled = true;  // To prevent multiple clicks.\n",
              "      quickchartButtonEl.classList.add('colab-df-spinner');\n",
              "      try {\n",
              "        const charts = await google.colab.kernel.invokeFunction(\n",
              "            'suggestCharts', [key], {});\n",
              "      } catch (error) {\n",
              "        console.error('Error during call to suggestCharts:', error);\n",
              "      }\n",
              "      quickchartButtonEl.classList.remove('colab-df-spinner');\n",
              "      quickchartButtonEl.classList.add('colab-df-quickchart-complete');\n",
              "    }\n",
              "    (() => {\n",
              "      let quickchartButtonEl =\n",
              "        document.querySelector('#df-b32bb2a0-b50e-4816-8898-760d99f5eb20 button');\n",
              "      quickchartButtonEl.style.display =\n",
              "        google.colab.kernel.accessAllowed ? 'block' : 'none';\n",
              "    })();\n",
              "  </script>\n",
              "</div>\n",
              "    </div>\n",
              "  </div>\n"
            ]
          },
          "metadata": {},
          "execution_count": 8
        }
      ]
    },
    {
      "cell_type": "code",
      "source": [
        "# Get information about the dataset\n",
        "item_list_df.info()"
      ],
      "metadata": {
        "colab": {
          "base_uri": "https://localhost:8080/"
        },
        "id": "F4eXEswSb7tu",
        "outputId": "5370c432-31d6-4a27-db2e-fc0e89680635"
      },
      "execution_count": 9,
      "outputs": [
        {
          "output_type": "stream",
          "name": "stdout",
          "text": [
            "<class 'pandas.core.frame.DataFrame'>\n",
            "RangeIndex: 355808 entries, 0 to 355807\n",
            "Data columns (total 8 columns):\n",
            " #   Column             Non-Null Count   Dtype  \n",
            "---  ------             --------------   -----  \n",
            " 0   train_id           355808 non-null  int64  \n",
            " 1   name               355808 non-null  object \n",
            " 2   item_condition_id  355808 non-null  int64  \n",
            " 3   category_name      354269 non-null  object \n",
            " 4   brand_name         203852 non-null  object \n",
            " 5   price              355808 non-null  float64\n",
            " 6   shipping           355808 non-null  int64  \n",
            " 7   clean_description  355614 non-null  object \n",
            "dtypes: float64(1), int64(3), object(4)\n",
            "memory usage: 21.7+ MB\n"
          ]
        }
      ]
    },
    {
      "cell_type": "markdown",
      "source": [
        "From the information above, first checking the data types\n",
        "1. There are integers, float and object classification of variables by python.\n",
        "2. The train_id may not be a required column, so it will be dropped from the data fram\n",
        "3. item condition id - ranges from 1 to 5 as values\n",
        "4. price - right classification to be on float so changes are required\n",
        "5. shipping is more binary 0 and 1\n",
        "6. Rest are classified as object variables and there is no changes needed"
      ],
      "metadata": {
        "id": "wC2RO7WzcWfP"
      }
    },
    {
      "cell_type": "code",
      "source": [
        "# Describing the dataset\n",
        "item_list_df.describe(include='all').T"
      ],
      "metadata": {
        "colab": {
          "base_uri": "https://localhost:8080/",
          "height": 300
        },
        "id": "YxcAGqp8cHcy",
        "outputId": "dbb7ec12-6012-4873-8f27-ea20b4ee65a6"
      },
      "execution_count": 10,
      "outputs": [
        {
          "output_type": "execute_result",
          "data": {
            "text/plain": [
              "                      count  unique  \\\n",
              "train_id           355808.0     NaN   \n",
              "name                 355808  277067   \n",
              "item_condition_id  355808.0     NaN   \n",
              "category_name        354269    1135   \n",
              "brand_name           203852    3046   \n",
              "price              355808.0     NaN   \n",
              "shipping           355808.0     NaN   \n",
              "clean_description    355614  267826   \n",
              "\n",
              "                                                              top   freq  \\\n",
              "train_id                                                      NaN    NaN   \n",
              "name                                                       Bundle    522   \n",
              "item_condition_id                                             NaN    NaN   \n",
              "category_name      Women/Athletic Apparel/Pants, Tights, Leggings  14336   \n",
              "brand_name                                                   PINK  13376   \n",
              "price                                                         NaN    NaN   \n",
              "shipping                                                      NaN    NaN   \n",
              "clean_description                                 description yet  19868   \n",
              "\n",
              "                            mean            std  min        25%       50%  \\\n",
              "train_id           593110.518215  342519.488239  1.0  296508.25  593288.5   \n",
              "name                         NaN            NaN  NaN        NaN       NaN   \n",
              "item_condition_id       1.910128          0.904  1.0        1.0       2.0   \n",
              "category_name                NaN            NaN  NaN        NaN       NaN   \n",
              "brand_name                   NaN            NaN  NaN        NaN       NaN   \n",
              "price                  26.661885      38.146767  0.0       10.0      17.0   \n",
              "shipping                0.446151       0.497092  0.0        0.0       0.0   \n",
              "clean_description            NaN            NaN  NaN        NaN       NaN   \n",
              "\n",
              "                         75%        max  \n",
              "train_id           890472.25  1186024.0  \n",
              "name                     NaN        NaN  \n",
              "item_condition_id        3.0        5.0  \n",
              "category_name            NaN        NaN  \n",
              "brand_name               NaN        NaN  \n",
              "price                   29.0     2000.0  \n",
              "shipping                 1.0        1.0  \n",
              "clean_description        NaN        NaN  "
            ],
            "text/html": [
              "\n",
              "  <div id=\"df-7970429d-8c9d-4965-b5a4-758f92a556d8\" class=\"colab-df-container\">\n",
              "    <div>\n",
              "<style scoped>\n",
              "    .dataframe tbody tr th:only-of-type {\n",
              "        vertical-align: middle;\n",
              "    }\n",
              "\n",
              "    .dataframe tbody tr th {\n",
              "        vertical-align: top;\n",
              "    }\n",
              "\n",
              "    .dataframe thead th {\n",
              "        text-align: right;\n",
              "    }\n",
              "</style>\n",
              "<table border=\"1\" class=\"dataframe\">\n",
              "  <thead>\n",
              "    <tr style=\"text-align: right;\">\n",
              "      <th></th>\n",
              "      <th>count</th>\n",
              "      <th>unique</th>\n",
              "      <th>top</th>\n",
              "      <th>freq</th>\n",
              "      <th>mean</th>\n",
              "      <th>std</th>\n",
              "      <th>min</th>\n",
              "      <th>25%</th>\n",
              "      <th>50%</th>\n",
              "      <th>75%</th>\n",
              "      <th>max</th>\n",
              "    </tr>\n",
              "  </thead>\n",
              "  <tbody>\n",
              "    <tr>\n",
              "      <th>train_id</th>\n",
              "      <td>355808.0</td>\n",
              "      <td>NaN</td>\n",
              "      <td>NaN</td>\n",
              "      <td>NaN</td>\n",
              "      <td>593110.518215</td>\n",
              "      <td>342519.488239</td>\n",
              "      <td>1.0</td>\n",
              "      <td>296508.25</td>\n",
              "      <td>593288.5</td>\n",
              "      <td>890472.25</td>\n",
              "      <td>1186024.0</td>\n",
              "    </tr>\n",
              "    <tr>\n",
              "      <th>name</th>\n",
              "      <td>355808</td>\n",
              "      <td>277067</td>\n",
              "      <td>Bundle</td>\n",
              "      <td>522</td>\n",
              "      <td>NaN</td>\n",
              "      <td>NaN</td>\n",
              "      <td>NaN</td>\n",
              "      <td>NaN</td>\n",
              "      <td>NaN</td>\n",
              "      <td>NaN</td>\n",
              "      <td>NaN</td>\n",
              "    </tr>\n",
              "    <tr>\n",
              "      <th>item_condition_id</th>\n",
              "      <td>355808.0</td>\n",
              "      <td>NaN</td>\n",
              "      <td>NaN</td>\n",
              "      <td>NaN</td>\n",
              "      <td>1.910128</td>\n",
              "      <td>0.904</td>\n",
              "      <td>1.0</td>\n",
              "      <td>1.0</td>\n",
              "      <td>2.0</td>\n",
              "      <td>3.0</td>\n",
              "      <td>5.0</td>\n",
              "    </tr>\n",
              "    <tr>\n",
              "      <th>category_name</th>\n",
              "      <td>354269</td>\n",
              "      <td>1135</td>\n",
              "      <td>Women/Athletic Apparel/Pants, Tights, Leggings</td>\n",
              "      <td>14336</td>\n",
              "      <td>NaN</td>\n",
              "      <td>NaN</td>\n",
              "      <td>NaN</td>\n",
              "      <td>NaN</td>\n",
              "      <td>NaN</td>\n",
              "      <td>NaN</td>\n",
              "      <td>NaN</td>\n",
              "    </tr>\n",
              "    <tr>\n",
              "      <th>brand_name</th>\n",
              "      <td>203852</td>\n",
              "      <td>3046</td>\n",
              "      <td>PINK</td>\n",
              "      <td>13376</td>\n",
              "      <td>NaN</td>\n",
              "      <td>NaN</td>\n",
              "      <td>NaN</td>\n",
              "      <td>NaN</td>\n",
              "      <td>NaN</td>\n",
              "      <td>NaN</td>\n",
              "      <td>NaN</td>\n",
              "    </tr>\n",
              "    <tr>\n",
              "      <th>price</th>\n",
              "      <td>355808.0</td>\n",
              "      <td>NaN</td>\n",
              "      <td>NaN</td>\n",
              "      <td>NaN</td>\n",
              "      <td>26.661885</td>\n",
              "      <td>38.146767</td>\n",
              "      <td>0.0</td>\n",
              "      <td>10.0</td>\n",
              "      <td>17.0</td>\n",
              "      <td>29.0</td>\n",
              "      <td>2000.0</td>\n",
              "    </tr>\n",
              "    <tr>\n",
              "      <th>shipping</th>\n",
              "      <td>355808.0</td>\n",
              "      <td>NaN</td>\n",
              "      <td>NaN</td>\n",
              "      <td>NaN</td>\n",
              "      <td>0.446151</td>\n",
              "      <td>0.497092</td>\n",
              "      <td>0.0</td>\n",
              "      <td>0.0</td>\n",
              "      <td>0.0</td>\n",
              "      <td>1.0</td>\n",
              "      <td>1.0</td>\n",
              "    </tr>\n",
              "    <tr>\n",
              "      <th>clean_description</th>\n",
              "      <td>355614</td>\n",
              "      <td>267826</td>\n",
              "      <td>description yet</td>\n",
              "      <td>19868</td>\n",
              "      <td>NaN</td>\n",
              "      <td>NaN</td>\n",
              "      <td>NaN</td>\n",
              "      <td>NaN</td>\n",
              "      <td>NaN</td>\n",
              "      <td>NaN</td>\n",
              "      <td>NaN</td>\n",
              "    </tr>\n",
              "  </tbody>\n",
              "</table>\n",
              "</div>\n",
              "    <div class=\"colab-df-buttons\">\n",
              "\n",
              "  <div class=\"colab-df-container\">\n",
              "    <button class=\"colab-df-convert\" onclick=\"convertToInteractive('df-7970429d-8c9d-4965-b5a4-758f92a556d8')\"\n",
              "            title=\"Convert this dataframe to an interactive table.\"\n",
              "            style=\"display:none;\">\n",
              "\n",
              "  <svg xmlns=\"http://www.w3.org/2000/svg\" height=\"24px\" viewBox=\"0 -960 960 960\">\n",
              "    <path d=\"M120-120v-720h720v720H120Zm60-500h600v-160H180v160Zm220 220h160v-160H400v160Zm0 220h160v-160H400v160ZM180-400h160v-160H180v160Zm440 0h160v-160H620v160ZM180-180h160v-160H180v160Zm440 0h160v-160H620v160Z\"/>\n",
              "  </svg>\n",
              "    </button>\n",
              "\n",
              "  <style>\n",
              "    .colab-df-container {\n",
              "      display:flex;\n",
              "      gap: 12px;\n",
              "    }\n",
              "\n",
              "    .colab-df-convert {\n",
              "      background-color: #E8F0FE;\n",
              "      border: none;\n",
              "      border-radius: 50%;\n",
              "      cursor: pointer;\n",
              "      display: none;\n",
              "      fill: #1967D2;\n",
              "      height: 32px;\n",
              "      padding: 0 0 0 0;\n",
              "      width: 32px;\n",
              "    }\n",
              "\n",
              "    .colab-df-convert:hover {\n",
              "      background-color: #E2EBFA;\n",
              "      box-shadow: 0px 1px 2px rgba(60, 64, 67, 0.3), 0px 1px 3px 1px rgba(60, 64, 67, 0.15);\n",
              "      fill: #174EA6;\n",
              "    }\n",
              "\n",
              "    .colab-df-buttons div {\n",
              "      margin-bottom: 4px;\n",
              "    }\n",
              "\n",
              "    [theme=dark] .colab-df-convert {\n",
              "      background-color: #3B4455;\n",
              "      fill: #D2E3FC;\n",
              "    }\n",
              "\n",
              "    [theme=dark] .colab-df-convert:hover {\n",
              "      background-color: #434B5C;\n",
              "      box-shadow: 0px 1px 3px 1px rgba(0, 0, 0, 0.15);\n",
              "      filter: drop-shadow(0px 1px 2px rgba(0, 0, 0, 0.3));\n",
              "      fill: #FFFFFF;\n",
              "    }\n",
              "  </style>\n",
              "\n",
              "    <script>\n",
              "      const buttonEl =\n",
              "        document.querySelector('#df-7970429d-8c9d-4965-b5a4-758f92a556d8 button.colab-df-convert');\n",
              "      buttonEl.style.display =\n",
              "        google.colab.kernel.accessAllowed ? 'block' : 'none';\n",
              "\n",
              "      async function convertToInteractive(key) {\n",
              "        const element = document.querySelector('#df-7970429d-8c9d-4965-b5a4-758f92a556d8');\n",
              "        const dataTable =\n",
              "          await google.colab.kernel.invokeFunction('convertToInteractive',\n",
              "                                                    [key], {});\n",
              "        if (!dataTable) return;\n",
              "\n",
              "        const docLinkHtml = 'Like what you see? Visit the ' +\n",
              "          '<a target=\"_blank\" href=https://colab.research.google.com/notebooks/data_table.ipynb>data table notebook</a>'\n",
              "          + ' to learn more about interactive tables.';\n",
              "        element.innerHTML = '';\n",
              "        dataTable['output_type'] = 'display_data';\n",
              "        await google.colab.output.renderOutput(dataTable, element);\n",
              "        const docLink = document.createElement('div');\n",
              "        docLink.innerHTML = docLinkHtml;\n",
              "        element.appendChild(docLink);\n",
              "      }\n",
              "    </script>\n",
              "  </div>\n",
              "\n",
              "\n",
              "<div id=\"df-fad395d9-c2fb-41c6-a5b2-1642e4f0873f\">\n",
              "  <button class=\"colab-df-quickchart\" onclick=\"quickchart('df-fad395d9-c2fb-41c6-a5b2-1642e4f0873f')\"\n",
              "            title=\"Suggest charts.\"\n",
              "            style=\"display:none;\">\n",
              "\n",
              "<svg xmlns=\"http://www.w3.org/2000/svg\" height=\"24px\"viewBox=\"0 0 24 24\"\n",
              "     width=\"24px\">\n",
              "    <g>\n",
              "        <path d=\"M19 3H5c-1.1 0-2 .9-2 2v14c0 1.1.9 2 2 2h14c1.1 0 2-.9 2-2V5c0-1.1-.9-2-2-2zM9 17H7v-7h2v7zm4 0h-2V7h2v10zm4 0h-2v-4h2v4z\"/>\n",
              "    </g>\n",
              "</svg>\n",
              "  </button>\n",
              "\n",
              "<style>\n",
              "  .colab-df-quickchart {\n",
              "      --bg-color: #E8F0FE;\n",
              "      --fill-color: #1967D2;\n",
              "      --hover-bg-color: #E2EBFA;\n",
              "      --hover-fill-color: #174EA6;\n",
              "      --disabled-fill-color: #AAA;\n",
              "      --disabled-bg-color: #DDD;\n",
              "  }\n",
              "\n",
              "  [theme=dark] .colab-df-quickchart {\n",
              "      --bg-color: #3B4455;\n",
              "      --fill-color: #D2E3FC;\n",
              "      --hover-bg-color: #434B5C;\n",
              "      --hover-fill-color: #FFFFFF;\n",
              "      --disabled-bg-color: #3B4455;\n",
              "      --disabled-fill-color: #666;\n",
              "  }\n",
              "\n",
              "  .colab-df-quickchart {\n",
              "    background-color: var(--bg-color);\n",
              "    border: none;\n",
              "    border-radius: 50%;\n",
              "    cursor: pointer;\n",
              "    display: none;\n",
              "    fill: var(--fill-color);\n",
              "    height: 32px;\n",
              "    padding: 0;\n",
              "    width: 32px;\n",
              "  }\n",
              "\n",
              "  .colab-df-quickchart:hover {\n",
              "    background-color: var(--hover-bg-color);\n",
              "    box-shadow: 0 1px 2px rgba(60, 64, 67, 0.3), 0 1px 3px 1px rgba(60, 64, 67, 0.15);\n",
              "    fill: var(--button-hover-fill-color);\n",
              "  }\n",
              "\n",
              "  .colab-df-quickchart-complete:disabled,\n",
              "  .colab-df-quickchart-complete:disabled:hover {\n",
              "    background-color: var(--disabled-bg-color);\n",
              "    fill: var(--disabled-fill-color);\n",
              "    box-shadow: none;\n",
              "  }\n",
              "\n",
              "  .colab-df-spinner {\n",
              "    border: 2px solid var(--fill-color);\n",
              "    border-color: transparent;\n",
              "    border-bottom-color: var(--fill-color);\n",
              "    animation:\n",
              "      spin 1s steps(1) infinite;\n",
              "  }\n",
              "\n",
              "  @keyframes spin {\n",
              "    0% {\n",
              "      border-color: transparent;\n",
              "      border-bottom-color: var(--fill-color);\n",
              "      border-left-color: var(--fill-color);\n",
              "    }\n",
              "    20% {\n",
              "      border-color: transparent;\n",
              "      border-left-color: var(--fill-color);\n",
              "      border-top-color: var(--fill-color);\n",
              "    }\n",
              "    30% {\n",
              "      border-color: transparent;\n",
              "      border-left-color: var(--fill-color);\n",
              "      border-top-color: var(--fill-color);\n",
              "      border-right-color: var(--fill-color);\n",
              "    }\n",
              "    40% {\n",
              "      border-color: transparent;\n",
              "      border-right-color: var(--fill-color);\n",
              "      border-top-color: var(--fill-color);\n",
              "    }\n",
              "    60% {\n",
              "      border-color: transparent;\n",
              "      border-right-color: var(--fill-color);\n",
              "    }\n",
              "    80% {\n",
              "      border-color: transparent;\n",
              "      border-right-color: var(--fill-color);\n",
              "      border-bottom-color: var(--fill-color);\n",
              "    }\n",
              "    90% {\n",
              "      border-color: transparent;\n",
              "      border-bottom-color: var(--fill-color);\n",
              "    }\n",
              "  }\n",
              "</style>\n",
              "\n",
              "  <script>\n",
              "    async function quickchart(key) {\n",
              "      const quickchartButtonEl =\n",
              "        document.querySelector('#' + key + ' button');\n",
              "      quickchartButtonEl.disabled = true;  // To prevent multiple clicks.\n",
              "      quickchartButtonEl.classList.add('colab-df-spinner');\n",
              "      try {\n",
              "        const charts = await google.colab.kernel.invokeFunction(\n",
              "            'suggestCharts', [key], {});\n",
              "      } catch (error) {\n",
              "        console.error('Error during call to suggestCharts:', error);\n",
              "      }\n",
              "      quickchartButtonEl.classList.remove('colab-df-spinner');\n",
              "      quickchartButtonEl.classList.add('colab-df-quickchart-complete');\n",
              "    }\n",
              "    (() => {\n",
              "      let quickchartButtonEl =\n",
              "        document.querySelector('#df-fad395d9-c2fb-41c6-a5b2-1642e4f0873f button');\n",
              "      quickchartButtonEl.style.display =\n",
              "        google.colab.kernel.accessAllowed ? 'block' : 'none';\n",
              "    })();\n",
              "  </script>\n",
              "</div>\n",
              "    </div>\n",
              "  </div>\n"
            ]
          },
          "metadata": {},
          "execution_count": 10
        }
      ]
    },
    {
      "cell_type": "markdown",
      "source": [
        "If we focus on Price , mostly that is the target variable . The mean is around 26 and at 75% ut is 29 and have some max of 2000. Obvioulsly there seems to be outliers since the 75% is almost close to the mean"
      ],
      "metadata": {
        "id": "dvflVHQjdZPT"
      }
    },
    {
      "cell_type": "code",
      "source": [
        "#check for null values\n",
        "item_list_df.isnull().sum()"
      ],
      "metadata": {
        "colab": {
          "base_uri": "https://localhost:8080/"
        },
        "id": "Dy0qPofFdFA5",
        "outputId": "35e51dff-7391-4b02-ffaf-c10472fd566c"
      },
      "execution_count": 11,
      "outputs": [
        {
          "output_type": "execute_result",
          "data": {
            "text/plain": [
              "train_id                  0\n",
              "name                      0\n",
              "item_condition_id         0\n",
              "category_name          1539\n",
              "brand_name           151956\n",
              "price                     0\n",
              "shipping                  0\n",
              "clean_description       194\n",
              "dtype: int64"
            ]
          },
          "metadata": {},
          "execution_count": 11
        }
      ]
    },
    {
      "cell_type": "code",
      "source": [
        "#Identify total length to use for percentage calculations\n",
        "leng_item_list_df = len(item_list_df)\n",
        "print(leng_item_list_df)"
      ],
      "metadata": {
        "colab": {
          "base_uri": "https://localhost:8080/"
        },
        "id": "NjDT-SU8dw3T",
        "outputId": "ad4a10a1-6431-4ada-c2bf-1dd5b23deb05"
      },
      "execution_count": 12,
      "outputs": [
        {
          "output_type": "stream",
          "name": "stdout",
          "text": [
            "355808\n"
          ]
        }
      ]
    },
    {
      "cell_type": "code",
      "source": [
        "Percentage_null= item_list_df.isnull().sum()/leng_item_list_df*100"
      ],
      "metadata": {
        "id": "p19R919ZeSJN"
      },
      "execution_count": 13,
      "outputs": []
    },
    {
      "cell_type": "code",
      "source": [
        "#Percentage of teh null values\n",
        "Percentage_null"
      ],
      "metadata": {
        "colab": {
          "base_uri": "https://localhost:8080/"
        },
        "id": "XducBuODoCWY",
        "outputId": "b94789e3-23ab-43a8-9522-622e357ca5dc"
      },
      "execution_count": 14,
      "outputs": [
        {
          "output_type": "execute_result",
          "data": {
            "text/plain": [
              "train_id              0.000000\n",
              "name                  0.000000\n",
              "item_condition_id     0.000000\n",
              "category_name         0.432537\n",
              "brand_name           42.707303\n",
              "price                 0.000000\n",
              "shipping              0.000000\n",
              "clean_description     0.054524\n",
              "dtype: float64"
            ]
          },
          "metadata": {},
          "execution_count": 14
        }
      ]
    },
    {
      "cell_type": "markdown",
      "source": [
        "While category_name has  0.4% null values which can be imputed but the brand_name has 42% null values which can't be imputed. so i wil be imputing as \"unknown\" . Clean description has 0.05% of null values. All three columns that has null values are categorical and not numerical"
      ],
      "metadata": {
        "id": "7fle62JeoW7b"
      }
    },
    {
      "cell_type": "code",
      "source": [
        "# Identify for any duplicate values\n",
        "item_list_df.duplicated().sum()"
      ],
      "metadata": {
        "colab": {
          "base_uri": "https://localhost:8080/"
        },
        "id": "y5rL1UIfoD0o",
        "outputId": "2e405b72-00cd-4626-d282-a8d2082c6c15"
      },
      "execution_count": 15,
      "outputs": [
        {
          "output_type": "execute_result",
          "data": {
            "text/plain": [
              "48572"
            ]
          },
          "metadata": {},
          "execution_count": 15
        }
      ]
    },
    {
      "cell_type": "code",
      "source": [
        "#Identify what % of duplicates on the total\n",
        "item_list_df.duplicated().sum()/leng_item_list_df*100"
      ],
      "metadata": {
        "colab": {
          "base_uri": "https://localhost:8080/"
        },
        "id": "AFDygGmqo-GY",
        "outputId": "f31c22c1-4dfe-499c-85d3-87ad7bbe9b11"
      },
      "execution_count": 16,
      "outputs": [
        {
          "output_type": "execute_result",
          "data": {
            "text/plain": [
              "13.651182660311179"
            ]
          },
          "metadata": {},
          "execution_count": 16
        }
      ]
    },
    {
      "cell_type": "markdown",
      "source": [
        "Around 13% duplicate values exist in the data set. It can be removed but the steps will be executed later"
      ],
      "metadata": {
        "id": "-yXDO2cypP7b"
      }
    },
    {
      "cell_type": "code",
      "source": [
        "# Shape of the dataset\n",
        "item_list_df.shape\n",
        "print(f\"The total number of rows \" ,item_list_df.shape[0], \"and total number of columns\", item_list_df.shape[1])"
      ],
      "metadata": {
        "colab": {
          "base_uri": "https://localhost:8080/"
        },
        "id": "Fjfy7zQdpOPx",
        "outputId": "a7764710-a397-4074-f296-e9a2158d4b89"
      },
      "execution_count": 18,
      "outputs": [
        {
          "output_type": "stream",
          "name": "stdout",
          "text": [
            "The total number of rows  355808 and total number of columns 8\n"
          ]
        }
      ]
    },
    {
      "cell_type": "code",
      "source": [
        "#plot age, account_balance, duration\n",
        "plt.figure(figsize=(10,5))\n",
        "plt.title(\"price distribution plot\")\n",
        "sns.distplot(item_list_df['price'])"
      ],
      "metadata": {
        "colab": {
          "base_uri": "https://localhost:8080/",
          "height": 504
        },
        "id": "3t7v0P7tqIHb",
        "outputId": "07fdd687-15ce-460d-d147-ffeb5d9b1b41"
      },
      "execution_count": 23,
      "outputs": [
        {
          "output_type": "execute_result",
          "data": {
            "text/plain": [
              "<Axes: title={'center': 'price distribution plot'}, xlabel='price', ylabel='Density'>"
            ]
          },
          "metadata": {},
          "execution_count": 23
        },
        {
          "output_type": "display_data",
          "data": {
            "text/plain": [
              "<Figure size 1000x500 with 1 Axes>"
            ],
            "image/png": "[encoded data removed]"
          },
          "metadata": {}
        }
      ]
    },
    {
      "cell_type": "code",
      "source": [
        "item_list_df['price'].skew()"
      ],
      "metadata": {
        "colab": {
          "base_uri": "https://localhost:8080/"
        },
        "id": "zvPUiZh9rLxz",
        "outputId": "7db66c62-44d7-4f5a-8c14-6aa180b8bb07"
      },
      "execution_count": 24,
      "outputs": [
        {
          "output_type": "execute_result",
          "data": {
            "text/plain": [
              "11.429698667933051"
            ]
          },
          "metadata": {},
          "execution_count": 24
        }
      ]
    },
    {
      "cell_type": "markdown",
      "source": [
        " A skewness value of 11.429698667933051 indicates a highly positively skewed distribution, as it is significantly greater than 1"
      ],
      "metadata": {
        "id": "DSXn0DRirpOj"
      }
    },
    {
      "cell_type": "code",
      "source": [
        "# Outlier checking\n",
        "sns.boxplot(item_list_df.price)"
      ],
      "metadata": {
        "colab": {
          "base_uri": "https://localhost:8080/",
          "height": 447
        },
        "id": "zF_5Qe7-rCPd",
        "outputId": "de2ee1c4-6cbb-45b6-ebb9-42f21ac2a837"
      },
      "execution_count": 25,
      "outputs": [
        {
          "output_type": "execute_result",
          "data": {
            "text/plain": [
              "<Axes: >"
            ]
          },
          "metadata": {},
          "execution_count": 25
        },
        {
          "output_type": "display_data",
          "data": {
            "text/plain": [
              "<Figure size 640x480 with 1 Axes>"
            ],
            "image/png": "[encoded data removed]"
          },
          "metadata": {}
        }
      ]
    },
    {
      "cell_type": "markdown",
      "source": [
        "It is very clear the price has a good outlier in the dataset. For any modelling this needs to be treated"
      ],
      "metadata": {
        "id": "HgKe2XDWsGaT"
      }
    },
    {
      "cell_type": "code",
      "source": [
        "#split categorical variables and numerical variables\n",
        "cat=[]\n",
        "num=[]\n",
        "for i in item_list_df.columns:\n",
        "  if item_list_df[i].dtype=='object':\n",
        "    cat.append(i)\n",
        "  else:\n",
        "    num.append(i)\n",
        "print(cat)\n",
        "print(num)"
      ],
      "metadata": {
        "colab": {
          "base_uri": "https://localhost:8080/"
        },
        "id": "E1teCeLRs9ey",
        "outputId": "768501fb-cd95-41b2-bb47-9c422736c340"
      },
      "execution_count": 27,
      "outputs": [
        {
          "output_type": "stream",
          "name": "stdout",
          "text": [
            "['name', 'category_name', 'brand_name', 'clean_description']\n",
            "['train_id', 'item_condition_id', 'price', 'shipping']\n"
          ]
        }
      ]
    },
    {
      "cell_type": "markdown",
      "source": [
        "Questions and Answers:"
      ],
      "metadata": {
        "id": "N5uE9dWyteoq"
      }
    },
    {
      "cell_type": "markdown",
      "source": [
        "**Question 1. 1**\n",
        "\n",
        "\n",
        "Find the missing values:\n",
        "• Write the function missing_values_table and use the dataframe as the input. The function\n",
        "should return the information of missing values by column (only for columns which have\n",
        "missing values and the returned value should be the count of rows has missing values);\n",
        "\n",
        "----------------\n",
        "\n",
        "• For columns which have missing values, could you impute the missing values with the\n",
        "mean value of the particular columns? (if you think it could not be done with mean value,\n",
        "write down the reason in comments and report rather than code)"
      ],
      "metadata": {
        "id": "dvT1bCLdtXfa"
      }
    },
    {
      "cell_type": "markdown",
      "source": [
        "**Answer for identifying the missing values columns**"
      ],
      "metadata": {
        "id": "HAIdXzcRvoDE"
      }
    },
    {
      "cell_type": "code",
      "source": [
        "# Define the missing_values_table function\n",
        "def missing_values_table(item_list_df):\n",
        "    # Calculate the total number of missing values per column\n",
        "    missing_count = item_list_df.isnull().sum()\n",
        "\n",
        "    # Filter columns with missing values (count > 0)\n",
        "    missing_count = missing_count[missing_count > 0]\n",
        "\n",
        "    # Calculate the percentage of missing values per column\n",
        "    missing_percentage = (missing_count / len(item_list_df)) * 100\n",
        "\n",
        "    # Create a DataFrame to display the missing value information\n",
        "    missing_table = pd.DataFrame({\n",
        "        'Missing Values rows': missing_count,\n",
        "        'Missing Values Percentage': missing_percentage\n",
        "    })\n",
        "\n",
        "    return missing_table\n",
        "\n",
        "# Use the missing_values_table function\n",
        "missing_info = missing_values_table(item_list_df)\n",
        "\n",
        "# Print the missing value information\n",
        "print(\"Missing Values Information:\")\n",
        "print(missing_info)\n"
      ],
      "metadata": {
        "colab": {
          "base_uri": "https://localhost:8080/"
        },
        "id": "nvBkrRalsFkm",
        "outputId": "f20b1a02-b8c9-42b4-be98-0da42af54cc0"
      },
      "execution_count": 34,
      "outputs": [
        {
          "output_type": "stream",
          "name": "stdout",
          "text": [
            "Missing Values Information:\n",
            "                   Missing Values rows  Missing Values Percentage\n",
            "category_name                     1539                   0.432537\n",
            "brand_name                      151956                  42.707303\n",
            "clean_description                  194                   0.054524\n"
          ]
        }
      ]
    },
    {
      "cell_type": "markdown",
      "source": [
        "**Answer for commenting on whether imputation can be done using mean values**"
      ],
      "metadata": {
        "id": "5hu4HBmbt63M"
      }
    },
    {
      "cell_type": "code",
      "source": [
        "item_list_df['category_name'].value_counts()"
      ],
      "metadata": {
        "colab": {
          "base_uri": "https://localhost:8080/"
        },
        "id": "-caqQZ83t5mr",
        "outputId": "334ee62e-e4f1-4a03-a2c6-16cead145622"
      },
      "execution_count": 35,
      "outputs": [
        {
          "output_type": "execute_result",
          "data": {
            "text/plain": [
              "Women/Athletic Apparel/Pants, Tights, Leggings    14336\n",
              "Women/Tops & Blouses/T-Shirts                     11187\n",
              "Beauty/Makeup/Face                                 8234\n",
              "Beauty/Makeup/Lips                                 7188\n",
              "Electronics/Video Games & Consoles/Games           6391\n",
              "                                                  ...  \n",
              "Handmade/Patterns/Handmade                            1\n",
              "Vintage & Collectibles/Serving/Glassware              1\n",
              "Handmade/Clothing/Dress                               1\n",
              "Handmade/Pets/Toy                                     1\n",
              "Handmade/Books and Zines/Comic                        1\n",
              "Name: category_name, Length: 1135, dtype: int64"
            ]
          },
          "metadata": {},
          "execution_count": 35
        }
      ]
    },
    {
      "cell_type": "code",
      "source": [
        "item_list_df['brand_name'].value_counts()"
      ],
      "metadata": {
        "colab": {
          "base_uri": "https://localhost:8080/"
        },
        "id": "OJrnYUkCwYRl",
        "outputId": "f7a8d753-01e5-48e0-9ac0-5373ba3e11e1"
      },
      "execution_count": 36,
      "outputs": [
        {
          "output_type": "execute_result",
          "data": {
            "text/plain": [
              "PINK                 13376\n",
              "Nike                 13182\n",
              "Victoria's Secret    11544\n",
              "LuLaRoe               7272\n",
              "Apple                 3962\n",
              "                     ...  \n",
              "Cotton Express           1\n",
              "Gold's Gym               1\n",
              "Audi                     1\n",
              "Alstyle Apparel          1\n",
              "Doncaster                1\n",
              "Name: brand_name, Length: 3046, dtype: int64"
            ]
          },
          "metadata": {},
          "execution_count": 36
        }
      ]
    },
    {
      "cell_type": "code",
      "source": [
        "item_list_df['clean_description'].value_counts()"
      ],
      "metadata": {
        "colab": {
          "base_uri": "https://localhost:8080/"
        },
        "id": "7PQnM9RtweHl",
        "outputId": "94fbba70-2bf3-44e9-87f8-39e862092582"
      },
      "execution_count": 37,
      "outputs": [
        {
          "output_type": "execute_result",
          "data": {
            "text/plain": [
              "description yet                                                                                                                                                                                                                                                                                 19868\n",
              "brand new                                                                                                                                                                                                                                                                                        1285\n",
              "new                                                                                                                                                                                                                                                                                              1281\n",
              "good condition                                                                                                                                                                                                                                                                                    687\n",
              "great condition                                                                                                                                                                                                                                                                                   567\n",
              "                                                                                                                                                                                                                                                                                                ...  \n",
              "extra dog size 51 100 pounds one good 2018 heartguard plus                                                                                                                                                                                                                                          1\n",
              "beautiful dress sash toe back                                                                                                                                                                                                                                                                       1\n",
              "ankle sock 1 pair color red 3 rows pink yellow free shipping high quality bundle save                                                                                                                                                                                                               1\n",
              "exfoliating soap face body formulated designed effectively cleanse brighten even tone skin providing resurfacing benefits gentle enough use daily unique formula formulated ingredients designed lighten protect skin topical antioxidants helps condition skin retain moisture level 7 0 oz        1\n",
              "couple places lace snagged tell fairly good condition yellow anywhere little blue shirt worn underwire straps detached back cross need clasps hooks perfect condition wires sticking broken add two shirts aj ayers ourchased                                                                       1\n",
              "Name: clean_description, Length: 267826, dtype: int64"
            ]
          },
          "metadata": {},
          "execution_count": 37
        }
      ]
    },
    {
      "cell_type": "markdown",
      "source": [
        "All three variables which has missing values are categorical. Categorical variables cannot be imputed using a mean approach. Mean approach can be used only for continous variables\n",
        "\n",
        "Mode Imputation: This is a common choice when dealing with categorical data.\n",
        "K-Nearest Neighbors (K-NN) Imputation: This method imputes missing categorical values based on the categories of their nearest neighbors in the dataset"
      ],
      "metadata": {
        "id": "F5yRo6xGv_lH"
      }
    },
    {
      "cell_type": "markdown",
      "source": [
        "**Question 1. 2**\n",
        "\n",
        "Find the price information from the data:\n",
        "\n",
        "• Write code to print the median price of the items in the data;\n",
        "\n",
        "• What is the 90th percentile value on the price;\n",
        "\n",
        "• Draw the histogram chart for the price of the items in the data with 50 bins.\n"
      ],
      "metadata": {
        "id": "WvzmLRBDw-AX"
      }
    },
    {
      "cell_type": "markdown",
      "source": [
        "Answer for Q: • Write code to print the median price of the items in the data;"
      ],
      "metadata": {
        "id": "fOYAaVcUxHXe"
      }
    },
    {
      "cell_type": "code",
      "source": [
        "median_price = item_list_df['price'].median()\n",
        "print(f'The median price of the items in the data is', median_price)"
      ],
      "metadata": {
        "colab": {
          "base_uri": "https://localhost:8080/"
        },
        "id": "_3s3BxdbsD1C",
        "outputId": "d6f67183-aeb3-4243-e753-9f4dbadf711b"
      },
      "execution_count": 40,
      "outputs": [
        {
          "output_type": "stream",
          "name": "stdout",
          "text": [
            "The median price of the items in the data is 17.0\n"
          ]
        }
      ]
    },
    {
      "cell_type": "markdown",
      "source": [
        "Answer for Q: • What is the 90th percentile value on the price;\n"
      ],
      "metadata": {
        "id": "XM-M2TABxspT"
      }
    },
    {
      "cell_type": "code",
      "source": [
        "# Calculate the 90th percentile using numpy.percentile\n",
        "percentile_90 = np.percentile(item_list_df['price'], 90)\n",
        "print(f'90th Percentile Price:', percentile_90)\n"
      ],
      "metadata": {
        "colab": {
          "base_uri": "https://localhost:8080/"
        },
        "id": "Hooa7khixP3Z",
        "outputId": "8b533d4d-2376-49ab-f133-9e003eaee49e"
      },
      "execution_count": 44,
      "outputs": [
        {
          "output_type": "stream",
          "name": "stdout",
          "text": [
            "90th Percentile Price: 51.0\n"
          ]
        }
      ]
    },
    {
      "cell_type": "markdown",
      "source": [
        "Answer for Q: Draw the histogram chart for the price of the items in the data with 50 bins."
      ],
      "metadata": {
        "id": "G6zUilbKyRR8"
      }
    },
    {
      "cell_type": "code",
      "source": [
        "# Specify the number of bins\n",
        "num_bins = 50\n",
        "\n",
        "# Plot the histogram\n",
        "plt.hist(item_list_df['price'], bins=num_bins, color='blue', alpha=0.7)\n",
        "plt.xlabel('Price')\n",
        "plt.ylabel('Frequency')\n",
        "plt.title('Histogram of Item Prices')\n",
        "plt.grid(True)\n",
        "\n",
        "# Show the plot\n",
        "plt.show()\n"
      ],
      "metadata": {
        "colab": {
          "base_uri": "https://localhost:8080/",
          "height": 472
        },
        "id": "-l4QO3xBx4L4",
        "outputId": "6f346c21-ed52-48b3-d251-e2998910cf1a"
      },
      "execution_count": 47,
      "outputs": [
        {
          "output_type": "display_data",
          "data": {
            "text/plain": [
              "<Figure size 640x480 with 1 Axes>"
            ],
            "image/png": "[encoded data removed]"
          },
          "metadata": {}
        }
      ]
    },
    {
      "cell_type": "markdown",
      "source": [
        "Question 1.3\n",
        "Exploring the shipping information from the data:\n",
        "\n",
        "• Write code to find out the percentage of the items that are paid by the buyers.\n",
        "\n",
        "• Draw (two) histogram graphs in one plot on the price for seller pays shipping and buyer\n",
        "pays shipping (50 bins).\n",
        "\n",
        "• When buying the items online, do you need to pay higher price if seller pays for the shipping? Write the code to find out (Compare the median price of items paid by buyers and items paid by sellers, and explain the result in the comment and report).\n",
        "\n",
        "\n",
        "(Optional: You could use the subplot from EDA)"
      ],
      "metadata": {
        "id": "u8nKnUMXBBgT"
      }
    },
    {
      "cell_type": "code",
      "source": [
        "#Find the value counts of the shipping\n",
        "item_list_df['shipping'].value_counts()"
      ],
      "metadata": {
        "colab": {
          "base_uri": "https://localhost:8080/"
        },
        "id": "IDyazMEYybeO",
        "outputId": "385e9dcb-c747-4ccb-e3fa-712996bd57bb"
      },
      "execution_count": 48,
      "outputs": [
        {
          "output_type": "execute_result",
          "data": {
            "text/plain": [
              "0    197064\n",
              "1    158744\n",
              "Name: shipping, dtype: int64"
            ]
          },
          "metadata": {},
          "execution_count": 48
        }
      ]
    },
    {
      "cell_type": "markdown",
      "source": [
        "Answer for:  Write code to find out the percentage of the items that are paid by the buyers.\n",
        "\n",
        "Please Note* Assuming when shipping is 0 - then paid by buyers & 1 - then paid by sellers [ This is not given in the problem statement]"
      ],
      "metadata": {
        "id": "xfdCHt8KC1Kk"
      }
    },
    {
      "cell_type": "code",
      "source": [
        "#Taking the first value which is shipping as 0\n",
        "items_buyers = item_list_df['shipping'].value_counts()[0]\n",
        "#identifying the total records using the len function\n",
        "leng_item_list_df = len(item_list_df)\n",
        "#percentage is dividing the first value from the value counts and the total\n",
        "#records found using len function. Also it is rounded for 2 digits\n",
        "Percentage_buyers = round(items_buyers/leng_item_list_df*100,2)\n",
        "#print function to print the value\n",
        "print(f'The percentage of items that are paid by buyers',Percentage_buyers, '%')"
      ],
      "metadata": {
        "colab": {
          "base_uri": "https://localhost:8080/"
        },
        "id": "NfCxenZvF1rv",
        "outputId": "103f6f9a-4ea1-4b04-cfaa-0dd0551a6e0c"
      },
      "execution_count": 57,
      "outputs": [
        {
          "output_type": "stream",
          "name": "stdout",
          "text": [
            "The percentage of items that are paid by buyers 55.38 %\n"
          ]
        }
      ]
    },
    {
      "cell_type": "markdown",
      "source": [
        "Answer for: Draw (two) histogram graphs in one plot on the price for seller pays shipping and buyer pays shipping (50 bins).\n",
        "\n",
        "Please Note* Assuming when shipping is 0 - then paid by buyers & 1 - then paid by sellers [ This is not given in the problem statement]\n",
        "\n"
      ],
      "metadata": {
        "id": "4ycoszpOHTy9"
      }
    },
    {
      "cell_type": "code",
      "source": [
        "# Filter the DataFrame to separate data based on shipping category\n",
        "seller_pays_shipping = item_list_df[item_list_df['shipping'] == 1]['price']\n",
        "buyer_pays_shipping = item_list_df[item_list_df['shipping'] == 0]['price']\n",
        "\n",
        "# Specify the number of bins (50 in this case)\n",
        "num_bins = 50\n",
        "\n",
        "# Create subplots for side-by-side histograms\n",
        "fig, axs = plt.subplots(1, 2, figsize=(12, 6))\n",
        "\n",
        "# Plot the histogram for seller pays shipping\n",
        "axs[0].hist(seller_pays_shipping, bins=num_bins, color='blue', alpha=0.7)\n",
        "axs[0].set_xlabel('Price')\n",
        "axs[0].set_ylabel('Frequency')\n",
        "axs[0].set_title('Seller Pays Shipping')\n",
        "axs[0].grid(True)\n",
        "\n",
        "# Plot the histogram for buyer pays shipping\n",
        "axs[1].hist(buyer_pays_shipping, bins=num_bins, color='green', alpha=0.7)\n",
        "axs[1].set_xlabel('Price')\n",
        "axs[1].set_ylabel('Frequency')\n",
        "axs[1].set_title('Buyer Pays Shipping')\n",
        "axs[1].grid(True)\n",
        "\n",
        "# Adjust spacing between subplots\n",
        "plt.tight_layout()\n",
        "\n",
        "# Show the plot\n",
        "plt.show()\n"
      ],
      "metadata": {
        "colab": {
          "base_uri": "https://localhost:8080/",
          "height": 607
        },
        "id": "RfYfjcUeHdBx",
        "outputId": "7c607f29-b85f-4269-8ea8-7fa1dc6e5ced"
      },
      "execution_count": 59,
      "outputs": [
        {
          "output_type": "display_data",
          "data": {
            "text/plain": [
              "<Figure size 1200x600 with 2 Axes>"
            ],
            "image/png": "[encoded data removed]"
          },
          "metadata": {}
        }
      ]
    },
    {
      "cell_type": "markdown",
      "source": [
        "Answer for : When buying the items online, do you need to pay higher price if seller pays for the shipping? Write the code to find out (Compare the median price of items paid by buyers and items paid by sellers, and explain the result in the comment and report).\n",
        "\n",
        "(Optional: You could use the subplot from EDA)"
      ],
      "metadata": {
        "id": "IBE5KeQTIRhE"
      }
    },
    {
      "cell_type": "code",
      "source": [
        "# Filter the DataFrame to separate data based on shipping category\n",
        "seller_pays_shipping = item_list_df[item_list_df['shipping'] == 1]['price'].median()\n",
        "buyer_pays_shipping = item_list_df[item_list_df['shipping'] == 0]['price'].median()"
      ],
      "metadata": {
        "id": "3pqX5ISWH6AT"
      },
      "execution_count": 60,
      "outputs": []
    },
    {
      "cell_type": "code",
      "source": [
        "\n",
        "# Filter the DataFrame for items paid by sellers and buyers\n",
        "seller_pays_shipping = item_list_df[item_list_df['shipping'] == 1]['price']\n",
        "buyer_pays_shipping = item_list_df[item_list_df['shipping'] == 0]['price']\n",
        "\n",
        "# Calculate the median price for each category\n",
        "median_price_seller_pays = seller_pays_shipping.median()\n",
        "median_price_buyer_pays = buyer_pays_shipping.median()\n",
        "# Create a bar plot to compare median prices\n",
        "plt.bar(['Seller Pays', 'Buyer Pays'], [median_price_seller_pays, median_price_buyer_pays], color=['blue', 'green'])\n",
        "plt.xlabel('Shipping Category')\n",
        "plt.ylabel('Median Price')\n",
        "plt.title('Median Price Comparison: Seller Pays vs. Buyer Pays')\n",
        "plt.grid(True)\n",
        "\n",
        "# Show the plot\n",
        "plt.show()\n",
        "\n",
        "# Calculate the price difference\n",
        "price_difference = median_price_buyer_pays - median_price_seller_pays\n",
        "\n",
        "# Report the results\n",
        "print(f'On comparison of when the price is higher between seller and buyer pays for shipping:\\n')\n",
        "print(f'The median price when seller pays is', median_price_seller_pays)\n",
        "print(f'The median price when buyer pays is', median_price_buyer_pays)\n",
        "if price_difference < 0:\n",
        "    print(\"On average, items paid by sellers have a higher median price.\")\n",
        "elif price_difference > 0:\n",
        "    print(\"On average, items paid by buyers have a higher median price.\")\n",
        "else:\n",
        "    print(\"There is no significant difference in the median prices.\")\n"
      ],
      "metadata": {
        "colab": {
          "base_uri": "https://localhost:8080/",
          "height": 559
        },
        "id": "j4bPLzjQJJ1h",
        "outputId": "e14cf3ed-3f44-4f83-ba87-014a25417fc9"
      },
      "execution_count": 67,
      "outputs": [
        {
          "output_type": "display_data",
          "data": {
            "text/plain": [
              "<Figure size 640x480 with 1 Axes>"
            ],
            "image/png": "[encoded data removed]"
          },
          "metadata": {}
        },
        {
          "output_type": "stream",
          "name": "stdout",
          "text": [
            "On comparison of when the price is higher between seller and buyer pays for shipping:\n",
            "\n",
            "The median price when seller pays is 14.0\n",
            "The median price when buyer pays is 19.0\n",
            "On average, items paid by buyers have a higher median price.\n"
          ]
        }
      ]
    },
    {
      "cell_type": "code",
      "source": [],
      "metadata": {
        "id": "rhL4bwPJJNaO"
      },
      "execution_count": null,
      "outputs": []
    }
  ]
}