{
 "cells": [
  {
   "cell_type": "markdown",
   "metadata": {},
   "source": [
    "## <center>Deakin University</center> \n",
    "### <center>SIG742: Modern Data Science Assessment 2</center>\n",
    "### <center>Trimester 2, 2023</center>\n",
    "### Submitted by\n",
    "#### Ramchandar Mariappan -223914532\n",
    "#### Uthara Ravichanthar -\n",
    "#### Simranjit Singh-s223925193\n",
    "#### 26/09/2023"
   ]
  },
  {
   "cell_type": "markdown",
   "metadata": {
    "id": "A-dG_PWYNZ8X"
   },
   "source": [
    "#### Instructions\n",
    "Assignment Questions\n",
    "\n",
    "There are total 2 parts in this assessment task:\n",
    "\n",
    "Part 1 The first part will focus on the data acquisition and manipulation which includes the numpy, the\n",
    "pandas, the Data Wrangling, the EDA from M03, and M04.\n",
    "\n",
    "Part 2 The second part will require to perform the time series analysis exercise, which includes the time\n",
    "series, the ARIMA, the Isolation Forest M05.\n"
   ]
  },
  {
   "cell_type": "markdown",
   "metadata": {
    "id": "uZszxvaBOFsc"
   },
   "source": [
    "### Part I\n",
    "#### Data Acquisition and Manipulation\n",
    "\n",
    "There are 10 questions in this part for total 60 marks, and each question is for 5 marks.\n",
    "\n",
    "The quality of your explanation in the report and video will be 10 marks for all questions. You are required to use Google Colab to finish all the coding in the code block cell, and provide sufficient coding comments, and also save the result of running as well.\n",
    "\n",
    "**Dataset:**\n",
    "The (Item_listing_category.zip) data used for this part could be found in here. You will need to use Pandas to read the unzipped (csv) data for starting.\n"
   ]
  },
  {
   "cell_type": "markdown",
   "metadata": {
    "id": "SlhVODCPOcbD"
   },
   "source": [
    "**Pre requisites and prepartaion**"
   ]
  },
  {
   "cell_type": "code",
   "execution_count": 3,
   "metadata": {
    "id": "v08o9b2WOQVU"
   },
   "outputs": [],
   "source": [
    "# import libraries\n",
    "import numpy as np\n",
    "import pandas as pd\n",
    "import seaborn as sns\n",
    "import matplotlib.pyplot as plt\n",
    "import warnings\n",
    "warnings.filterwarnings('ignore')"
   ]
  },
  {
   "cell_type": "code",
   "execution_count": 8,
   "metadata": {
    "colab": {
     "base_uri": "https://localhost:8080/"
    },
    "id": "dGLvYSOePdYY",
    "outputId": "b5d0890b-dc54-4399-dfe6-1b8966164af6"
   },
   "outputs": [
    {
     "data": {
      "text/plain": [
       "1"
      ]
     },
     "execution_count": 8,
     "metadata": {},
     "output_type": "execute_result"
    }
   ],
   "source": [
    "#download the file from githug\n",
    "import os\n",
    "os.system(\"wget https://github.com/tulip-lab/sit742/raw/develop/Jupyter/data/item_listing_category.zip\")"
   ]
  },
  {
   "cell_type": "code",
   "execution_count": 12,
   "metadata": {
    "colab": {
     "base_uri": "https://localhost:8080/"
    },
    "id": "cyddyPNGZ7RM",
    "outputId": "ea5dac51-0972-498c-e35e-a663dbe6fdb5"
   },
   "outputs": [
    {
     "name": "stdout",
     "output_type": "stream",
     "text": [
      "/content\n"
     ]
    }
   ],
   "source": [
    "import os\n",
    "current_directory = os.getcwd()\n",
    "print(current_directory)\n"
   ]
  },
  {
   "cell_type": "code",
   "execution_count": 13,
   "metadata": {
    "id": "XTquZNLiUPaX"
   },
   "outputs": [],
   "source": [
    "import zipfile\n",
    "import pandas as pd\n",
    "\n",
    "# Specify the path to the downloaded ZIP file\n",
    "zip_file_path = \"/content/item_listing_category.zip\"\n",
    "\n",
    "# Specify the directory where you want to extract the contents\n",
    "extracted_dir_path = \"/content\"\n",
    "\n",
    "# Extract the contents of the ZIP file\n",
    "with zipfile.ZipFile(zip_file_path, 'r') as zip_ref:\n",
    "    zip_ref.extractall(extracted_dir_path)\n",
    "\n",
    "# Specify the path to the CSV file within the extracted contents\n",
    "csv_file_path = os.path.join(extracted_dir_path, \"item_list.csv\")\n",
    "\n"
   ]
  },
  {
   "cell_type": "code",
   "execution_count": 14,
   "metadata": {
    "id": "9xapdxzgYMda"
   },
   "outputs": [],
   "source": [
    "#read the csv file.\n",
    "item_list_df =pd.read_csv(\"/content/item_listing_category.csv\")"
   ]
  },
  {
   "cell_type": "code",
   "execution_count": 15,
   "metadata": {
    "colab": {
     "base_uri": "https://localhost:8080/",
     "height": 206
    },
    "id": "R6DK_hadb1xK",
    "outputId": "a9c8cfab-6f48-495a-9d4e-8e9380a02607"
   },
   "outputs": [
    {
     "data": {
      "text/html": [
       "<div>\n",
       "<style scoped>\n",
       "    .dataframe tbody tr th:only-of-type {\n",
       "        vertical-align: middle;\n",
       "    }\n",
       "\n",
       "    .dataframe tbody tr th {\n",
       "        vertical-align: top;\n",
       "    }\n",
       "\n",
       "    .dataframe thead th {\n",
       "        text-align: right;\n",
       "    }\n",
       "</style>\n",
       "<table border=\"1\" class=\"dataframe\">\n",
       "  <thead>\n",
       "    <tr style=\"text-align: right;\">\n",
       "      <th></th>\n",
       "      <th>train_id</th>\n",
       "      <th>name</th>\n",
       "      <th>item_condition_id</th>\n",
       "      <th>category_name</th>\n",
       "      <th>brand_name</th>\n",
       "      <th>price</th>\n",
       "      <th>shipping</th>\n",
       "      <th>clean_description</th>\n",
       "    </tr>\n",
       "  </thead>\n",
       "  <tbody>\n",
       "    <tr>\n",
       "      <th>0</th>\n",
       "      <td>128037</td>\n",
       "      <td>Bundle for Sassy Sisters</td>\n",
       "      <td>3</td>\n",
       "      <td>Women/Tops &amp; Blouses/Blouse</td>\n",
       "      <td>NaN</td>\n",
       "      <td>16.0</td>\n",
       "      <td>0</td>\n",
       "      <td>max cleo black dress paper crane black tank to...</td>\n",
       "    </tr>\n",
       "    <tr>\n",
       "      <th>1</th>\n",
       "      <td>491755</td>\n",
       "      <td>PINK VS TANK</td>\n",
       "      <td>2</td>\n",
       "      <td>Women/Tops &amp; Blouses/Tank, Cami</td>\n",
       "      <td>NaN</td>\n",
       "      <td>17.0</td>\n",
       "      <td>0</td>\n",
       "      <td>sequin pink sign sequins missing gently worn</td>\n",
       "    </tr>\n",
       "    <tr>\n",
       "      <th>2</th>\n",
       "      <td>470924</td>\n",
       "      <td>Funko Pop Unmasked Cyclops</td>\n",
       "      <td>1</td>\n",
       "      <td>Kids/Toys/Action Figures &amp; Statues</td>\n",
       "      <td>Funko</td>\n",
       "      <td>30.0</td>\n",
       "      <td>1</td>\n",
       "      <td>box great condition comes soft pop protector p...</td>\n",
       "    </tr>\n",
       "    <tr>\n",
       "      <th>3</th>\n",
       "      <td>491263</td>\n",
       "      <td>Baby Roshe Runs</td>\n",
       "      <td>3</td>\n",
       "      <td>Kids/Boys 2T-5T/Shoes</td>\n",
       "      <td>Nike</td>\n",
       "      <td>19.0</td>\n",
       "      <td>0</td>\n",
       "      <td>baby black nike roshe runs size 5c</td>\n",
       "    </tr>\n",
       "    <tr>\n",
       "      <th>4</th>\n",
       "      <td>836489</td>\n",
       "      <td>Baby Girl Ralph Lauren dresses</td>\n",
       "      <td>3</td>\n",
       "      <td>Kids/Girls 0-24 Mos/Dresses</td>\n",
       "      <td>Ralph Lauren</td>\n",
       "      <td>24.0</td>\n",
       "      <td>0</td>\n",
       "      <td>2 polo dresses 3 months wore washed dreft pink...</td>\n",
       "    </tr>\n",
       "  </tbody>\n",
       "</table>\n",
       "</div>"
      ],
      "text/plain": [
       "   train_id                            name  item_condition_id  \\\n",
       "0    128037        Bundle for Sassy Sisters                  3   \n",
       "1    491755                    PINK VS TANK                  2   \n",
       "2    470924      Funko Pop Unmasked Cyclops                  1   \n",
       "3    491263                 Baby Roshe Runs                  3   \n",
       "4    836489  Baby Girl Ralph Lauren dresses                  3   \n",
       "\n",
       "                        category_name    brand_name  price  shipping  \\\n",
       "0         Women/Tops & Blouses/Blouse           NaN   16.0         0   \n",
       "1     Women/Tops & Blouses/Tank, Cami           NaN   17.0         0   \n",
       "2  Kids/Toys/Action Figures & Statues         Funko   30.0         1   \n",
       "3               Kids/Boys 2T-5T/Shoes          Nike   19.0         0   \n",
       "4         Kids/Girls 0-24 Mos/Dresses  Ralph Lauren   24.0         0   \n",
       "\n",
       "                                   clean_description  \n",
       "0  max cleo black dress paper crane black tank to...  \n",
       "1       sequin pink sign sequins missing gently worn  \n",
       "2  box great condition comes soft pop protector p...  \n",
       "3                 baby black nike roshe runs size 5c  \n",
       "4  2 polo dresses 3 months wore washed dreft pink...  "
      ]
     },
     "execution_count": 15,
     "metadata": {},
     "output_type": "execute_result"
    }
   ],
   "source": [
    "#Loading top data\n",
    "item_list_df.head()"
   ]
  },
  {
   "cell_type": "code",
   "execution_count": 16,
   "metadata": {
    "colab": {
     "base_uri": "https://localhost:8080/",
     "height": 275
    },
    "id": "-3gkS20Xb5D0",
    "outputId": "bf9bad55-87dd-4f92-9ce2-9fd5985229e4"
   },
   "outputs": [
    {
     "data": {
      "text/html": [
       "<div>\n",
       "<style scoped>\n",
       "    .dataframe tbody tr th:only-of-type {\n",
       "        vertical-align: middle;\n",
       "    }\n",
       "\n",
       "    .dataframe tbody tr th {\n",
       "        vertical-align: top;\n",
       "    }\n",
       "\n",
       "    .dataframe thead th {\n",
       "        text-align: right;\n",
       "    }\n",
       "</style>\n",
       "<table border=\"1\" class=\"dataframe\">\n",
       "  <thead>\n",
       "    <tr style=\"text-align: right;\">\n",
       "      <th></th>\n",
       "      <th>train_id</th>\n",
       "      <th>name</th>\n",
       "      <th>item_condition_id</th>\n",
       "      <th>category_name</th>\n",
       "      <th>brand_name</th>\n",
       "      <th>price</th>\n",
       "      <th>shipping</th>\n",
       "      <th>clean_description</th>\n",
       "    </tr>\n",
       "  </thead>\n",
       "  <tbody>\n",
       "    <tr>\n",
       "      <th>355803</th>\n",
       "      <td>760377</td>\n",
       "      <td>Beats By Dre Solo White</td>\n",
       "      <td>3</td>\n",
       "      <td>Electronics/TV, Audio &amp; Surveillance/Headphones</td>\n",
       "      <td>Beats</td>\n",
       "      <td>45.0</td>\n",
       "      <td>1</td>\n",
       "      <td>beats dre solo white gently used work great</td>\n",
       "    </tr>\n",
       "    <tr>\n",
       "      <th>355804</th>\n",
       "      <td>780889</td>\n",
       "      <td>4 New Leap Frog Leapster Learning Games</td>\n",
       "      <td>1</td>\n",
       "      <td>Kids/Toys/Learning &amp; Education</td>\n",
       "      <td>Leap Frog</td>\n",
       "      <td>9.0</td>\n",
       "      <td>1</td>\n",
       "      <td>viewing 4 new leap frog leapster learning game...</td>\n",
       "    </tr>\n",
       "    <tr>\n",
       "      <th>355805</th>\n",
       "      <td>650579</td>\n",
       "      <td>Torrid bra size 42ddd</td>\n",
       "      <td>3</td>\n",
       "      <td>Women/Underwear/Bras</td>\n",
       "      <td>Torrid</td>\n",
       "      <td>20.0</td>\n",
       "      <td>1</td>\n",
       "      <td>couple places lace snagged tell fairly good co...</td>\n",
       "    </tr>\n",
       "    <tr>\n",
       "      <th>355806</th>\n",
       "      <td>481154</td>\n",
       "      <td>Vans shoes</td>\n",
       "      <td>2</td>\n",
       "      <td>Men/Shoes/Fashion Sneakers</td>\n",
       "      <td>VANS</td>\n",
       "      <td>23.0</td>\n",
       "      <td>0</td>\n",
       "      <td>size 11</td>\n",
       "    </tr>\n",
       "    <tr>\n",
       "      <th>355807</th>\n",
       "      <td>361073</td>\n",
       "      <td>Kendra Scott Alex earrings in Magenta</td>\n",
       "      <td>2</td>\n",
       "      <td>Women/Jewelry/Earrings</td>\n",
       "      <td>Kendra Scott</td>\n",
       "      <td>38.0</td>\n",
       "      <td>1</td>\n",
       "      <td>description yet</td>\n",
       "    </tr>\n",
       "  </tbody>\n",
       "</table>\n",
       "</div>"
      ],
      "text/plain": [
       "        train_id                                     name  item_condition_id  \\\n",
       "355803    760377                  Beats By Dre Solo White                  3   \n",
       "355804    780889  4 New Leap Frog Leapster Learning Games                  1   \n",
       "355805    650579                    Torrid bra size 42ddd                  3   \n",
       "355806    481154                               Vans shoes                  2   \n",
       "355807    361073    Kendra Scott Alex earrings in Magenta                  2   \n",
       "\n",
       "                                          category_name    brand_name  price  \\\n",
       "355803  Electronics/TV, Audio & Surveillance/Headphones         Beats   45.0   \n",
       "355804                   Kids/Toys/Learning & Education     Leap Frog    9.0   \n",
       "355805                             Women/Underwear/Bras        Torrid   20.0   \n",
       "355806                       Men/Shoes/Fashion Sneakers          VANS   23.0   \n",
       "355807                           Women/Jewelry/Earrings  Kendra Scott   38.0   \n",
       "\n",
       "        shipping                                  clean_description  \n",
       "355803         1        beats dre solo white gently used work great  \n",
       "355804         1  viewing 4 new leap frog leapster learning game...  \n",
       "355805         1  couple places lace snagged tell fairly good co...  \n",
       "355806         0                                            size 11  \n",
       "355807         1                                    description yet  "
      ]
     },
     "execution_count": 16,
     "metadata": {},
     "output_type": "execute_result"
    }
   ],
   "source": [
    "#Loading bottom data\n",
    "item_list_df.tail()"
   ]
  },
  {
   "cell_type": "code",
   "execution_count": 17,
   "metadata": {
    "colab": {
     "base_uri": "https://localhost:8080/"
    },
    "id": "F4eXEswSb7tu",
    "outputId": "5370c432-31d6-4a27-db2e-fc0e89680635"
   },
   "outputs": [
    {
     "name": "stdout",
     "output_type": "stream",
     "text": [
      "<class 'pandas.core.frame.DataFrame'>\n",
      "RangeIndex: 355808 entries, 0 to 355807\n",
      "Data columns (total 8 columns):\n",
      " #   Column             Non-Null Count   Dtype  \n",
      "---  ------             --------------   -----  \n",
      " 0   train_id           355808 non-null  int64  \n",
      " 1   name               355808 non-null  object \n",
      " 2   item_condition_id  355808 non-null  int64  \n",
      " 3   category_name      354269 non-null  object \n",
      " 4   brand_name         203852 non-null  object \n",
      " 5   price              355808 non-null  float64\n",
      " 6   shipping           355808 non-null  int64  \n",
      " 7   clean_description  355614 non-null  object \n",
      "dtypes: float64(1), int64(3), object(4)\n",
      "memory usage: 21.7+ MB\n"
     ]
    }
   ],
   "source": [
    "# Get information about the dataset\n",
    "item_list_df.info()"
   ]
  },
  {
   "cell_type": "markdown",
   "metadata": {
    "id": "wC2RO7WzcWfP"
   },
   "source": [
    "From the information above, first checking the data types\n",
    "1. There are integers, float and object classification of variables by python.\n",
    "2. The train_id may not be a required column, so it will be dropped from the data fram\n",
    "3. item condition id - ranges from 1 to 5 as values\n",
    "4. price - right classification to be on float so changes are required\n",
    "5. shipping is more binary 0 and 1\n",
    "6. Rest are classified as object variables and there is no changes needed"
   ]
  },
  {
   "cell_type": "code",
   "execution_count": 18,
   "metadata": {
    "colab": {
     "base_uri": "https://localhost:8080/",
     "height": 300
    },
    "id": "YxcAGqp8cHcy",
    "outputId": "dbb7ec12-6012-4873-8f27-ea20b4ee65a6"
   },
   "outputs": [
    {
     "data": {
      "text/html": [
       "<div>\n",
       "<style scoped>\n",
       "    .dataframe tbody tr th:only-of-type {\n",
       "        vertical-align: middle;\n",
       "    }\n",
       "\n",
       "    .dataframe tbody tr th {\n",
       "        vertical-align: top;\n",
       "    }\n",
       "\n",
       "    .dataframe thead th {\n",
       "        text-align: right;\n",
       "    }\n",
       "</style>\n",
       "<table border=\"1\" class=\"dataframe\">\n",
       "  <thead>\n",
       "    <tr style=\"text-align: right;\">\n",
       "      <th></th>\n",
       "      <th>count</th>\n",
       "      <th>unique</th>\n",
       "      <th>top</th>\n",
       "      <th>freq</th>\n",
       "      <th>mean</th>\n",
       "      <th>std</th>\n",
       "      <th>min</th>\n",
       "      <th>25%</th>\n",
       "      <th>50%</th>\n",
       "      <th>75%</th>\n",
       "      <th>max</th>\n",
       "    </tr>\n",
       "  </thead>\n",
       "  <tbody>\n",
       "    <tr>\n",
       "      <th>train_id</th>\n",
       "      <td>355808.0</td>\n",
       "      <td>NaN</td>\n",
       "      <td>NaN</td>\n",
       "      <td>NaN</td>\n",
       "      <td>593110.518215</td>\n",
       "      <td>342519.488239</td>\n",
       "      <td>1.0</td>\n",
       "      <td>296508.25</td>\n",
       "      <td>593288.5</td>\n",
       "      <td>890472.25</td>\n",
       "      <td>1186024.0</td>\n",
       "    </tr>\n",
       "    <tr>\n",
       "      <th>name</th>\n",
       "      <td>355808</td>\n",
       "      <td>277067</td>\n",
       "      <td>Bundle</td>\n",
       "      <td>522</td>\n",
       "      <td>NaN</td>\n",
       "      <td>NaN</td>\n",
       "      <td>NaN</td>\n",
       "      <td>NaN</td>\n",
       "      <td>NaN</td>\n",
       "      <td>NaN</td>\n",
       "      <td>NaN</td>\n",
       "    </tr>\n",
       "    <tr>\n",
       "      <th>item_condition_id</th>\n",
       "      <td>355808.0</td>\n",
       "      <td>NaN</td>\n",
       "      <td>NaN</td>\n",
       "      <td>NaN</td>\n",
       "      <td>1.910128</td>\n",
       "      <td>0.904</td>\n",
       "      <td>1.0</td>\n",
       "      <td>1.0</td>\n",
       "      <td>2.0</td>\n",
       "      <td>3.0</td>\n",
       "      <td>5.0</td>\n",
       "    </tr>\n",
       "    <tr>\n",
       "      <th>category_name</th>\n",
       "      <td>354269</td>\n",
       "      <td>1135</td>\n",
       "      <td>Women/Athletic Apparel/Pants, Tights, Leggings</td>\n",
       "      <td>14336</td>\n",
       "      <td>NaN</td>\n",
       "      <td>NaN</td>\n",
       "      <td>NaN</td>\n",
       "      <td>NaN</td>\n",
       "      <td>NaN</td>\n",
       "      <td>NaN</td>\n",
       "      <td>NaN</td>\n",
       "    </tr>\n",
       "    <tr>\n",
       "      <th>brand_name</th>\n",
       "      <td>203852</td>\n",
       "      <td>3046</td>\n",
       "      <td>PINK</td>\n",
       "      <td>13376</td>\n",
       "      <td>NaN</td>\n",
       "      <td>NaN</td>\n",
       "      <td>NaN</td>\n",
       "      <td>NaN</td>\n",
       "      <td>NaN</td>\n",
       "      <td>NaN</td>\n",
       "      <td>NaN</td>\n",
       "    </tr>\n",
       "    <tr>\n",
       "      <th>price</th>\n",
       "      <td>355808.0</td>\n",
       "      <td>NaN</td>\n",
       "      <td>NaN</td>\n",
       "      <td>NaN</td>\n",
       "      <td>26.661885</td>\n",
       "      <td>38.146767</td>\n",
       "      <td>0.0</td>\n",
       "      <td>10.0</td>\n",
       "      <td>17.0</td>\n",
       "      <td>29.0</td>\n",
       "      <td>2000.0</td>\n",
       "    </tr>\n",
       "    <tr>\n",
       "      <th>shipping</th>\n",
       "      <td>355808.0</td>\n",
       "      <td>NaN</td>\n",
       "      <td>NaN</td>\n",
       "      <td>NaN</td>\n",
       "      <td>0.446151</td>\n",
       "      <td>0.497092</td>\n",
       "      <td>0.0</td>\n",
       "      <td>0.0</td>\n",
       "      <td>0.0</td>\n",
       "      <td>1.0</td>\n",
       "      <td>1.0</td>\n",
       "    </tr>\n",
       "    <tr>\n",
       "      <th>clean_description</th>\n",
       "      <td>355614</td>\n",
       "      <td>267826</td>\n",
       "      <td>description yet</td>\n",
       "      <td>19868</td>\n",
       "      <td>NaN</td>\n",
       "      <td>NaN</td>\n",
       "      <td>NaN</td>\n",
       "      <td>NaN</td>\n",
       "      <td>NaN</td>\n",
       "      <td>NaN</td>\n",
       "      <td>NaN</td>\n",
       "    </tr>\n",
       "  </tbody>\n",
       "</table>\n",
       "</div>"
      ],
      "text/plain": [
       "                      count  unique  \\\n",
       "train_id           355808.0     NaN   \n",
       "name                 355808  277067   \n",
       "item_condition_id  355808.0     NaN   \n",
       "category_name        354269    1135   \n",
       "brand_name           203852    3046   \n",
       "price              355808.0     NaN   \n",
       "shipping           355808.0     NaN   \n",
       "clean_description    355614  267826   \n",
       "\n",
       "                                                              top   freq  \\\n",
       "train_id                                                      NaN    NaN   \n",
       "name                                                       Bundle    522   \n",
       "item_condition_id                                             NaN    NaN   \n",
       "category_name      Women/Athletic Apparel/Pants, Tights, Leggings  14336   \n",
       "brand_name                                                   PINK  13376   \n",
       "price                                                         NaN    NaN   \n",
       "shipping                                                      NaN    NaN   \n",
       "clean_description                                 description yet  19868   \n",
       "\n",
       "                            mean            std  min        25%       50%  \\\n",
       "train_id           593110.518215  342519.488239  1.0  296508.25  593288.5   \n",
       "name                         NaN            NaN  NaN        NaN       NaN   \n",
       "item_condition_id       1.910128          0.904  1.0        1.0       2.0   \n",
       "category_name                NaN            NaN  NaN        NaN       NaN   \n",
       "brand_name                   NaN            NaN  NaN        NaN       NaN   \n",
       "price                  26.661885      38.146767  0.0       10.0      17.0   \n",
       "shipping                0.446151       0.497092  0.0        0.0       0.0   \n",
       "clean_description            NaN            NaN  NaN        NaN       NaN   \n",
       "\n",
       "                         75%        max  \n",
       "train_id           890472.25  1186024.0  \n",
       "name                     NaN        NaN  \n",
       "item_condition_id        3.0        5.0  \n",
       "category_name            NaN        NaN  \n",
       "brand_name               NaN        NaN  \n",
       "price                   29.0     2000.0  \n",
       "shipping                 1.0        1.0  \n",
       "clean_description        NaN        NaN  "
      ]
     },
     "execution_count": 18,
     "metadata": {},
     "output_type": "execute_result"
    }
   ],
   "source": [
    "# Describing the dataset\n",
    "item_list_df.describe(include='all').T"
   ]
  },
  {
   "cell_type": "markdown",
   "metadata": {
    "id": "dvflVHQjdZPT"
   },
   "source": [
    "If we focus on Price , mostly that is the target variable . The mean is around 26 and at 75% ut is 29 and have some max of 2000. Obvioulsly there seems to be outliers since the 75% is almost close to the mean"
   ]
  },
  {
   "cell_type": "code",
   "execution_count": 19,
   "metadata": {
    "colab": {
     "base_uri": "https://localhost:8080/"
    },
    "id": "Dy0qPofFdFA5",
    "outputId": "35e51dff-7391-4b02-ffaf-c10472fd566c"
   },
   "outputs": [
    {
     "data": {
      "text/plain": [
       "train_id                  0\n",
       "name                      0\n",
       "item_condition_id         0\n",
       "category_name          1539\n",
       "brand_name           151956\n",
       "price                     0\n",
       "shipping                  0\n",
       "clean_description       194\n",
       "dtype: int64"
      ]
     },
     "execution_count": 19,
     "metadata": {},
     "output_type": "execute_result"
    }
   ],
   "source": [
    "#check for null values\n",
    "item_list_df.isnull().sum()"
   ]
  },
  {
   "cell_type": "code",
   "execution_count": 20,
   "metadata": {
    "colab": {
     "base_uri": "https://localhost:8080/"
    },
    "id": "NjDT-SU8dw3T",
    "outputId": "ad4a10a1-6431-4ada-c2bf-1dd5b23deb05"
   },
   "outputs": [
    {
     "name": "stdout",
     "output_type": "stream",
     "text": [
      "355808\n"
     ]
    }
   ],
   "source": [
    "#Identify total length to use for percentage calculations\n",
    "leng_item_list_df = len(item_list_df)\n",
    "print(leng_item_list_df)"
   ]
  },
  {
   "cell_type": "code",
   "execution_count": 21,
   "metadata": {
    "id": "p19R919ZeSJN"
   },
   "outputs": [],
   "source": [
    "Percentage_null= item_list_df.isnull().sum()/leng_item_list_df*100"
   ]
  },
  {
   "cell_type": "code",
   "execution_count": 22,
   "metadata": {
    "colab": {
     "base_uri": "https://localhost:8080/"
    },
    "id": "XducBuODoCWY",
    "outputId": "b94789e3-23ab-43a8-9522-622e357ca5dc"
   },
   "outputs": [
    {
     "data": {
      "text/plain": [
       "train_id              0.000000\n",
       "name                  0.000000\n",
       "item_condition_id     0.000000\n",
       "category_name         0.432537\n",
       "brand_name           42.707303\n",
       "price                 0.000000\n",
       "shipping              0.000000\n",
       "clean_description     0.054524\n",
       "dtype: float64"
      ]
     },
     "execution_count": 22,
     "metadata": {},
     "output_type": "execute_result"
    }
   ],
   "source": [
    "#Percentage of teh null values\n",
    "Percentage_null"
   ]
  },
  {
   "cell_type": "markdown",
   "metadata": {
    "id": "7fle62JeoW7b"
   },
   "source": [
    "While category_name has  0.4% null values which can be imputed but the brand_name has 42% null values which can't be imputed. so i wil be imputing as \"unknown\" . Clean description has 0.05% of null values. All three columns that has null values are categorical and not numerical"
   ]
  },
  {
   "cell_type": "code",
   "execution_count": 23,
   "metadata": {
    "colab": {
     "base_uri": "https://localhost:8080/"
    },
    "id": "y5rL1UIfoD0o",
    "outputId": "2e405b72-00cd-4626-d282-a8d2082c6c15"
   },
   "outputs": [
    {
     "data": {
      "text/plain": [
       "48572"
      ]
     },
     "execution_count": 23,
     "metadata": {},
     "output_type": "execute_result"
    }
   ],
   "source": [
    "# Identify for any duplicate values\n",
    "item_list_df.duplicated().sum()"
   ]
  },
  {
   "cell_type": "code",
   "execution_count": 24,
   "metadata": {
    "colab": {
     "base_uri": "https://localhost:8080/"
    },
    "id": "AFDygGmqo-GY",
    "outputId": "f31c22c1-4dfe-499c-85d3-87ad7bbe9b11"
   },
   "outputs": [
    {
     "data": {
      "text/plain": [
       "13.651182660311179"
      ]
     },
     "execution_count": 24,
     "metadata": {},
     "output_type": "execute_result"
    }
   ],
   "source": [
    "#Identify what % of duplicates on the total\n",
    "item_list_df.duplicated().sum()/leng_item_list_df*100"
   ]
  },
  {
   "cell_type": "markdown",
   "metadata": {
    "id": "-yXDO2cypP7b"
   },
   "source": [
    "Around 13% duplicate values exist in the data set. It can be removed but the steps will be executed later"
   ]
  },
  {
   "cell_type": "code",
   "execution_count": 25,
   "metadata": {
    "colab": {
     "base_uri": "https://localhost:8080/"
    },
    "id": "Fjfy7zQdpOPx",
    "outputId": "a7764710-a397-4074-f296-e9a2158d4b89"
   },
   "outputs": [
    {
     "name": "stdout",
     "output_type": "stream",
     "text": [
      "The total number of rows  355808 and total number of columns 8\n"
     ]
    }
   ],
   "source": [
    "# Shape of the dataset\n",
    "item_list_df.shape\n",
    "print(f\"The total number of rows \" ,item_list_df.shape[0], \"and total number of columns\", item_list_df.shape[1])"
   ]
  },
  {
   "cell_type": "code",
   "execution_count": 26,
   "metadata": {
    "colab": {
     "base_uri": "https://localhost:8080/",
     "height": 504
    },
    "id": "3t7v0P7tqIHb",
    "outputId": "07fdd687-15ce-460d-d147-ffeb5d9b1b41"
   },
   "outputs": [
    {
     "data": {
      "text/plain": [
       "<Axes: title={'center': 'price distribution plot'}, xlabel='price', ylabel='Density'>"
      ]
     },
     "execution_count": 26,
     "metadata": {},
     "output_type": "execute_result"
    },
    {
     "data": {
      "image/png": "[encoded data removed]",
      "text/plain": [
       "<Figure size 1000x500 with 1 Axes>"
      ]
     },
     "metadata": {},
     "output_type": "display_data"
    }
   ],
   "source": [
    "#plot age, account_balance, duration\n",
    "plt.figure(figsize=(10,5))\n",
    "plt.title(\"price distribution plot\")\n",
    "sns.distplot(item_list_df['price'])"
   ]
  },
  {
   "cell_type": "code",
   "execution_count": 27,
   "metadata": {
    "colab": {
     "base_uri": "https://localhost:8080/"
    },
    "id": "zvPUiZh9rLxz",
    "outputId": "7db66c62-44d7-4f5a-8c14-6aa180b8bb07"
   },
   "outputs": [
    {
     "data": {
      "text/plain": [
       "11.429698667933051"
      ]
     },
     "execution_count": 27,
     "metadata": {},
     "output_type": "execute_result"
    }
   ],
   "source": [
    "item_list_df['price'].skew()"
   ]
  },
  {
   "cell_type": "markdown",
   "metadata": {
    "id": "DSXn0DRirpOj"
   },
   "source": [
    " A skewness value of 11.429698667933051 indicates a highly positively skewed distribution, as it is significantly greater than 1"
   ]
  },
  {
   "cell_type": "code",
   "execution_count": 28,
   "metadata": {
    "colab": {
     "base_uri": "https://localhost:8080/",
     "height": 447
    },
    "id": "zF_5Qe7-rCPd",
    "outputId": "de2ee1c4-6cbb-45b6-ebb9-42f21ac2a837"
   },
   "outputs": [
    {
     "data": {
      "text/plain": [
       "<Axes: >"
      ]
     },
     "execution_count": 28,
     "metadata": {},
     "output_type": "execute_result"
    },
    {
     "data": {
      "image/png": "[encoded data removed]",
      "text/plain": [
       "<Figure size 640x480 with 1 Axes>"
      ]
     },
     "metadata": {},
     "output_type": "display_data"
    }
   ],
   "source": [
    "# Outlier checking\n",
    "sns.boxplot(item_list_df.price)"
   ]
  },
  {
   "cell_type": "markdown",
   "metadata": {
    "id": "HgKe2XDWsGaT"
   },
   "source": [
    "It is very clear the price has a good outlier in the dataset. For any modelling this needs to be treated"
   ]
  },
  {
   "cell_type": "code",
   "execution_count": 29,
   "metadata": {
    "colab": {
     "base_uri": "https://localhost:8080/"
    },
    "id": "E1teCeLRs9ey",
    "outputId": "768501fb-cd95-41b2-bb47-9c422736c340"
   },
   "outputs": [
    {
     "name": "stdout",
     "output_type": "stream",
     "text": [
      "['name', 'category_name', 'brand_name', 'clean_description']\n",
      "['train_id', 'item_condition_id', 'price', 'shipping']\n"
     ]
    }
   ],
   "source": [
    "#split categorical variables and numerical variables\n",
    "cat=[]\n",
    "num=[]\n",
    "for i in item_list_df.columns:\n",
    "  if item_list_df[i].dtype=='object':\n",
    "    cat.append(i)\n",
    "  else:\n",
    "    num.append(i)\n",
    "print(cat)\n",
    "print(num)"
   ]
  },
  {
   "cell_type": "markdown",
   "metadata": {
    "id": "N5uE9dWyteoq"
   },
   "source": [
    "Questions and Answers:"
   ]
  },
  {
   "cell_type": "markdown",
   "metadata": {
    "id": "dvT1bCLdtXfa"
   },
   "source": [
    "**Question 1. 1**\n",
    "\n",
    "\n",
    "Find the missing values:\n",
    "• Write the function missing_values_table and use the dataframe as the input. The function\n",
    "should return the information of missing values by column (only for columns which have\n",
    "missing values and the returned value should be the count of rows has missing values);\n",
    "\n",
    "----------------\n",
    "\n",
    "• For columns which have missing values, could you impute the missing values with the\n",
    "mean value of the particular columns? (if you think it could not be done with mean value,\n",
    "write down the reason in comments and report rather than code)"
   ]
  },
  {
   "cell_type": "markdown",
   "metadata": {
    "id": "HAIdXzcRvoDE"
   },
   "source": [
    "**Answer for identifying the missing values columns**"
   ]
  },
  {
   "cell_type": "code",
   "execution_count": 30,
   "metadata": {
    "colab": {
     "base_uri": "https://localhost:8080/"
    },
    "id": "nvBkrRalsFkm",
    "outputId": "f20b1a02-b8c9-42b4-be98-0da42af54cc0"
   },
   "outputs": [
    {
     "name": "stdout",
     "output_type": "stream",
     "text": [
      "Missing Values Information:\n",
      "                   Missing Values rows  Missing Values Percentage\n",
      "category_name                     1539                   0.432537\n",
      "brand_name                      151956                  42.707303\n",
      "clean_description                  194                   0.054524\n"
     ]
    }
   ],
   "source": [
    "# Define the missing_values_table function\n",
    "def missing_values_table(item_list_df):\n",
    "    # Calculate the total number of missing values per column\n",
    "    missing_count = item_list_df.isnull().sum()\n",
    "\n",
    "    # Filter columns with missing values (count > 0)\n",
    "    missing_count = missing_count[missing_count > 0]\n",
    "\n",
    "    # Calculate the percentage of missing values per column\n",
    "    missing_percentage = (missing_count / len(item_list_df)) * 100\n",
    "\n",
    "    # Create a DataFrame to display the missing value information\n",
    "    missing_table = pd.DataFrame({\n",
    "        'Missing Values rows': missing_count,\n",
    "        'Missing Values Percentage': missing_percentage\n",
    "    })\n",
    "\n",
    "    return missing_table\n",
    "\n",
    "# Use the missing_values_table function\n",
    "missing_info = missing_values_table(item_list_df)\n",
    "\n",
    "# Print the missing value information\n",
    "print(\"Missing Values Information:\")\n",
    "print(missing_info)\n"
   ]
  },
  {
   "cell_type": "markdown",
   "metadata": {
    "id": "5hu4HBmbt63M"
   },
   "source": [
    "**Answer for commenting on whether imputation can be done using mean values**"
   ]
  },
  {
   "cell_type": "code",
   "execution_count": 31,
   "metadata": {
    "colab": {
     "base_uri": "https://localhost:8080/"
    },
    "id": "-caqQZ83t5mr",
    "outputId": "334ee62e-e4f1-4a03-a2c6-16cead145622"
   },
   "outputs": [
    {
     "data": {
      "text/plain": [
       "Women/Athletic Apparel/Pants, Tights, Leggings    14336\n",
       "Women/Tops & Blouses/T-Shirts                     11187\n",
       "Beauty/Makeup/Face                                 8234\n",
       "Beauty/Makeup/Lips                                 7188\n",
       "Electronics/Video Games & Consoles/Games           6391\n",
       "                                                  ...  \n",
       "Handmade/Patterns/Handmade                            1\n",
       "Vintage & Collectibles/Serving/Glassware              1\n",
       "Handmade/Clothing/Dress                               1\n",
       "Handmade/Pets/Toy                                     1\n",
       "Handmade/Books and Zines/Comic                        1\n",
       "Name: category_name, Length: 1135, dtype: int64"
      ]
     },
     "execution_count": 31,
     "metadata": {},
     "output_type": "execute_result"
    }
   ],
   "source": [
    "item_list_df['category_name'].value_counts()"
   ]
  },
  {
   "cell_type": "code",
   "execution_count": 32,
   "metadata": {
    "colab": {
     "base_uri": "https://localhost:8080/"
    },
    "id": "OJrnYUkCwYRl",
    "outputId": "f7a8d753-01e5-48e0-9ac0-5373ba3e11e1"
   },
   "outputs": [
    {
     "data": {
      "text/plain": [
       "PINK                 13376\n",
       "Nike                 13182\n",
       "Victoria's Secret    11544\n",
       "LuLaRoe               7272\n",
       "Apple                 3962\n",
       "                     ...  \n",
       "Cotton Express           1\n",
       "Gold's Gym               1\n",
       "Audi                     1\n",
       "Alstyle Apparel          1\n",
       "Doncaster                1\n",
       "Name: brand_name, Length: 3046, dtype: int64"
      ]
     },
     "execution_count": 32,
     "metadata": {},
     "output_type": "execute_result"
    }
   ],
   "source": [
    "item_list_df['brand_name'].value_counts()"
   ]
  },
  {
   "cell_type": "code",
   "execution_count": 33,
   "metadata": {
    "colab": {
     "base_uri": "https://localhost:8080/"
    },
    "id": "7PQnM9RtweHl",
    "outputId": "94fbba70-2bf3-44e9-87f8-39e862092582"
   },
   "outputs": [
    {
     "data": {
      "text/plain": [
       "description yet                                                                                                                                                                                                                                                                                 19868\n",
       "brand new                                                                                                                                                                                                                                                                                        1285\n",
       "new                                                                                                                                                                                                                                                                                              1281\n",
       "good condition                                                                                                                                                                                                                                                                                    687\n",
       "great condition                                                                                                                                                                                                                                                                                   567\n",
       "                                                                                                                                                                                                                                                                                                ...  \n",
       "extra dog size 51 100 pounds one good 2018 heartguard plus                                                                                                                                                                                                                                          1\n",
       "beautiful dress sash toe back                                                                                                                                                                                                                                                                       1\n",
       "ankle sock 1 pair color red 3 rows pink yellow free shipping high quality bundle save                                                                                                                                                                                                               1\n",
       "exfoliating soap face body formulated designed effectively cleanse brighten even tone skin providing resurfacing benefits gentle enough use daily unique formula formulated ingredients designed lighten protect skin topical antioxidants helps condition skin retain moisture level 7 0 oz        1\n",
       "couple places lace snagged tell fairly good condition yellow anywhere little blue shirt worn underwire straps detached back cross need clasps hooks perfect condition wires sticking broken add two shirts aj ayers ourchased                                                                       1\n",
       "Name: clean_description, Length: 267826, dtype: int64"
      ]
     },
     "execution_count": 33,
     "metadata": {},
     "output_type": "execute_result"
    }
   ],
   "source": [
    "item_list_df['clean_description'].value_counts()"
   ]
  },
  {
   "cell_type": "markdown",
   "metadata": {
    "id": "F5yRo6xGv_lH"
   },
   "source": [
    "All three variables which has missing values are categorical. Categorical variables cannot be imputed using a mean approach. Mean approach can be used only for continous variables\n",
    "\n",
    "Mode Imputation: This is a common choice when dealing with categorical data.\n",
    "K-Nearest Neighbors (K-NN) Imputation: This method imputes missing categorical values based on the categories of their nearest neighbors in the dataset"
   ]
  },
  {
   "cell_type": "markdown",
   "metadata": {
    "id": "WvzmLRBDw-AX"
   },
   "source": [
    "**Question 1. 2**\n",
    "\n",
    "Find the price information from the data:\n",
    "\n",
    "• Write code to print the median price of the items in the data;\n",
    "\n",
    "• What is the 90th percentile value on the price;\n",
    "\n",
    "• Draw the histogram chart for the price of the items in the data with 50 bins.\n"
   ]
  },
  {
   "cell_type": "markdown",
   "metadata": {
    "id": "fOYAaVcUxHXe"
   },
   "source": [
    "Answer for Q: • Write code to print the median price of the items in the data;"
   ]
  },
  {
   "cell_type": "code",
   "execution_count": 34,
   "metadata": {
    "colab": {
     "base_uri": "https://localhost:8080/"
    },
    "id": "_3s3BxdbsD1C",
    "outputId": "d6f67183-aeb3-4243-e753-9f4dbadf711b"
   },
   "outputs": [
    {
     "name": "stdout",
     "output_type": "stream",
     "text": [
      "The median price of the items in the data is 17.0\n"
     ]
    }
   ],
   "source": [
    "median_price = item_list_df['price'].median()\n",
    "print(f'The median price of the items in the data is', median_price)"
   ]
  },
  {
   "cell_type": "markdown",
   "metadata": {
    "id": "XM-M2TABxspT"
   },
   "source": [
    "Answer for Q: • What is the 90th percentile value on the price;\n"
   ]
  },
  {
   "cell_type": "code",
   "execution_count": 35,
   "metadata": {
    "colab": {
     "base_uri": "https://localhost:8080/"
    },
    "id": "Hooa7khixP3Z",
    "outputId": "8b533d4d-2376-49ab-f133-9e003eaee49e"
   },
   "outputs": [
    {
     "name": "stdout",
     "output_type": "stream",
     "text": [
      "90th Percentile Price: 51.0\n"
     ]
    }
   ],
   "source": [
    "# Calculate the 90th percentile using numpy.percentile\n",
    "percentile_90 = np.percentile(item_list_df['price'], 90)\n",
    "print(f'90th Percentile Price:', percentile_90)\n"
   ]
  },
  {
   "cell_type": "markdown",
   "metadata": {
    "id": "G6zUilbKyRR8"
   },
   "source": [
    "Answer for Q: Draw the histogram chart for the price of the items in the data with 50 bins."
   ]
  },
  {
   "cell_type": "code",
   "execution_count": 36,
   "metadata": {
    "colab": {
     "base_uri": "https://localhost:8080/",
     "height": 472
    },
    "id": "-l4QO3xBx4L4",
    "outputId": "6f346c21-ed52-48b3-d251-e2998910cf1a"
   },
   "outputs": [
    {
     "data": {
      "image/png": "[encoded data removed]",
      "text/plain": [
       "<Figure size 640x480 with 1 Axes>"
      ]
     },
     "metadata": {},
     "output_type": "display_data"
    }
   ],
   "source": [
    "# Specify the number of bins\n",
    "num_bins = 50\n",
    "\n",
    "# Plot the histogram\n",
    "plt.hist(item_list_df['price'], bins=num_bins, color='blue', alpha=0.7)\n",
    "plt.xlabel('Price')\n",
    "plt.ylabel('Frequency')\n",
    "plt.title('Histogram of Item Prices')\n",
    "plt.grid(True)\n",
    "\n",
    "# Show the plot\n",
    "plt.show()\n"
   ]
  },
  {
   "cell_type": "markdown",
   "metadata": {
    "id": "u8nKnUMXBBgT"
   },
   "source": [
    "#### Question 1.3\n",
    "Exploring the shipping information from the data:\n",
    "\n",
    "• Write code to find out the percentage of the items that are paid by the buyers.\n",
    "\n",
    "• Draw (two) histogram graphs in one plot on the price for seller pays shipping and buyer\n",
    "pays shipping (50 bins).\n",
    "\n",
    "• When buying the items online, do you need to pay higher price if seller pays for the shipping? Write the code to find out (Compare the median price of items paid by buyers and items paid by sellers, and explain the result in the comment and report).\n",
    "\n",
    "\n",
    "(Optional: You could use the subplot from EDA)"
   ]
  },
  {
   "cell_type": "code",
   "execution_count": 37,
   "metadata": {
    "colab": {
     "base_uri": "https://localhost:8080/"
    },
    "id": "IDyazMEYybeO",
    "outputId": "385e9dcb-c747-4ccb-e3fa-712996bd57bb"
   },
   "outputs": [
    {
     "data": {
      "text/plain": [
       "0    197064\n",
       "1    158744\n",
       "Name: shipping, dtype: int64"
      ]
     },
     "execution_count": 37,
     "metadata": {},
     "output_type": "execute_result"
    }
   ],
   "source": [
    "#Find the value counts of the shipping\n",
    "item_list_df['shipping'].value_counts()"
   ]
  },
  {
   "cell_type": "markdown",
   "metadata": {
    "id": "xfdCHt8KC1Kk"
   },
   "source": [
    "Answer for:  Write code to find out the percentage of the items that are paid by the buyers.\n",
    "\n",
    "Please Note* Assuming when shipping is 0 - then paid by buyers & 1 - then paid by sellers [ This is not given in the problem statement]"
   ]
  },
  {
   "cell_type": "code",
   "execution_count": 38,
   "metadata": {
    "colab": {
     "base_uri": "https://localhost:8080/"
    },
    "id": "NfCxenZvF1rv",
    "outputId": "103f6f9a-4ea1-4b04-cfaa-0dd0551a6e0c"
   },
   "outputs": [
    {
     "name": "stdout",
     "output_type": "stream",
     "text": [
      "The percentage of items that are paid by buyers 55.38 %\n"
     ]
    }
   ],
   "source": [
    "#Taking the first value which is shipping as 0\n",
    "items_buyers = item_list_df['shipping'].value_counts()[0]\n",
    "#identifying the total records using the len function\n",
    "leng_item_list_df = len(item_list_df)\n",
    "#percentage is dividing the first value from the value counts and the total\n",
    "#records found using len function. Also it is rounded for 2 digits\n",
    "Percentage_buyers = round(items_buyers/leng_item_list_df*100,2)\n",
    "#print function to print the value\n",
    "print(f'The percentage of items that are paid by buyers',Percentage_buyers, '%')"
   ]
  },
  {
   "cell_type": "markdown",
   "metadata": {
    "id": "4ycoszpOHTy9"
   },
   "source": [
    "Answer for: Draw (two) histogram graphs in one plot on the price for seller pays shipping and buyer pays shipping (50 bins).\n",
    "\n",
    "Please Note* Assuming when shipping is 0 - then paid by buyers & 1 - then paid by sellers [ This is not given in the problem statement]\n",
    "\n"
   ]
  },
  {
   "cell_type": "code",
   "execution_count": 39,
   "metadata": {
    "colab": {
     "base_uri": "https://localhost:8080/",
     "height": 607
    },
    "id": "RfYfjcUeHdBx",
    "outputId": "7c607f29-b85f-4269-8ea8-7fa1dc6e5ced"
   },
   "outputs": [
    {
     "data": {
      "image/png": "[encoded data removed]",
      "text/plain": [
       "<Figure size 1200x600 with 2 Axes>"
      ]
     },
     "metadata": {},
     "output_type": "display_data"
    }
   ],
   "source": [
    "# Filter the DataFrame to separate data based on shipping category\n",
    "seller_pays_shipping = item_list_df[item_list_df['shipping'] == 1]['price']\n",
    "buyer_pays_shipping = item_list_df[item_list_df['shipping'] == 0]['price']\n",
    "\n",
    "# Specify the number of bins (50 in this case)\n",
    "num_bins = 50\n",
    "\n",
    "# Create subplots for side-by-side histograms\n",
    "fig, axs = plt.subplots(1, 2, figsize=(12, 6))\n",
    "\n",
    "# Plot the histogram for seller pays shipping\n",
    "axs[0].hist(seller_pays_shipping, bins=num_bins, color='blue', alpha=0.7)\n",
    "axs[0].set_xlabel('Price')\n",
    "axs[0].set_ylabel('Frequency')\n",
    "axs[0].set_title('Seller Pays Shipping')\n",
    "axs[0].grid(True)\n",
    "\n",
    "# Plot the histogram for buyer pays shipping\n",
    "axs[1].hist(buyer_pays_shipping, bins=num_bins, color='green', alpha=0.7)\n",
    "axs[1].set_xlabel('Price')\n",
    "axs[1].set_ylabel('Frequency')\n",
    "axs[1].set_title('Buyer Pays Shipping')\n",
    "axs[1].grid(True)\n",
    "\n",
    "# Adjust spacing between subplots\n",
    "plt.tight_layout()\n",
    "\n",
    "# Show the plot\n",
    "plt.show()\n"
   ]
  },
  {
   "cell_type": "markdown",
   "metadata": {
    "id": "IBE5KeQTIRhE"
   },
   "source": [
    "Answer for : When buying the items online, do you need to pay higher price if seller pays for the shipping? Write the code to find out (Compare the median price of items paid by buyers and items paid by sellers, and explain the result in the comment and report).\n",
    "\n",
    "(Optional: You could use the subplot from EDA)"
   ]
  },
  {
   "cell_type": "code",
   "execution_count": 40,
   "metadata": {
    "id": "3pqX5ISWH6AT"
   },
   "outputs": [],
   "source": [
    "# Filter the DataFrame to separate data based on shipping category\n",
    "seller_pays_shipping = item_list_df[item_list_df['shipping'] == 1]['price'].median()\n",
    "buyer_pays_shipping = item_list_df[item_list_df['shipping'] == 0]['price'].median()"
   ]
  },
  {
   "cell_type": "code",
   "execution_count": 41,
   "metadata": {
    "colab": {
     "base_uri": "https://localhost:8080/",
     "height": 559
    },
    "id": "j4bPLzjQJJ1h",
    "outputId": "e14cf3ed-3f44-4f83-ba87-014a25417fc9"
   },
   "outputs": [
    {
     "data": {
      "image/png": "[encoded data removed]",
      "text/plain": [
       "<Figure size 640x480 with 1 Axes>"
      ]
     },
     "metadata": {},
     "output_type": "display_data"
    },
    {
     "name": "stdout",
     "output_type": "stream",
     "text": [
      "On comparison of when the price is higher between seller and buyer pays for shipping:\n",
      "\n",
      "The median price when seller pays is 14.0\n",
      "The median price when buyer pays is 19.0\n",
      "On average, items paid by buyers have a higher median price.\n"
     ]
    }
   ],
   "source": [
    "\n",
    "# Filter the DataFrame for items paid by sellers and buyers\n",
    "seller_pays_shipping = item_list_df[item_list_df['shipping'] == 1]['price']\n",
    "buyer_pays_shipping = item_list_df[item_list_df['shipping'] == 0]['price']\n",
    "\n",
    "# Calculate the median price for each category\n",
    "median_price_seller_pays = seller_pays_shipping.median()\n",
    "median_price_buyer_pays = buyer_pays_shipping.median()\n",
    "# Create a bar plot to compare median prices\n",
    "plt.bar(['Seller Pays', 'Buyer Pays'], [median_price_seller_pays, median_price_buyer_pays], color=['blue', 'green'])\n",
    "plt.xlabel('Shipping Category')\n",
    "plt.ylabel('Median Price')\n",
    "plt.title('Median Price Comparison: Seller Pays vs. Buyer Pays')\n",
    "plt.grid(True)\n",
    "\n",
    "# Show the plot\n",
    "plt.show()\n",
    "\n",
    "# Calculate the price difference\n",
    "price_difference = median_price_buyer_pays - median_price_seller_pays\n",
    "\n",
    "# Report the results\n",
    "print(f'On comparison of when the price is higher between seller and buyer pays for shipping:\\n')\n",
    "print(f'The median price when seller pays is', median_price_seller_pays)\n",
    "print(f'The median price when buyer pays is', median_price_buyer_pays)\n",
    "if price_difference < 0:\n",
    "    print(\"On average, items paid by sellers have a higher median price.\")\n",
    "elif price_difference > 0:\n",
    "    print(\"On average, items paid by buyers have a higher median price.\")\n",
    "else:\n",
    "    print(\"There is no significant difference in the median prices.\")\n"
   ]
  },
  {
   "cell_type": "markdown",
   "metadata": {
    "id": "rhL4bwPJJNaO"
   },
   "source": [
    "#### Question 1.4\n",
    "Write the code to find out (print) the count of the rows on each number (value) in column\n",
    "item_condition_id."
   ]
  },
  {
   "cell_type": "code",
   "execution_count": 48,
   "metadata": {},
   "outputs": [
    {
     "data": {
      "text/plain": [
       "1    153402\n",
       "3    104248\n",
       "2     89843\n",
       "4      7768\n",
       "5       547\n",
       "Name: item_condition_id, dtype: int64"
      ]
     },
     "execution_count": 48,
     "metadata": {},
     "output_type": "execute_result"
    }
   ],
   "source": [
    "item_list_df['item_condition_id'].value_counts()"
   ]
  },
  {
   "cell_type": "markdown",
   "metadata": {},
   "source": [
    "Draw the boxplot graphs (one plot) on the price for each item condition value, and find out\n",
    "out whether the better condition of the item could have higher median price"
   ]
  },
  {
   "cell_type": "code",
   "execution_count": 125,
   "metadata": {},
   "outputs": [],
   "source": [
    "def generateBoxPlots(df):\n",
    "    totalGroups=df.groupby('item_condition_id').groups\n",
    "    n=len(totalGroups.keys())\n",
    "    cols=2\n",
    "    rows=n//cols+(n%cols>0)\n",
    "    plt.figure(figsize=(20,20))\n",
    "    for k in totalGroups.keys():\n",
    "        ax=plt.subplot(rows,cols,k)\n",
    "        df_group=df.groupby('item_condition_id').get_group(k)\n",
    "        median_val=df_group['price'].median()\n",
    "        plt.title(f\"Item condition category {k} \\n Median price: {median_val}\",fontweight=\"bold\")\n",
    "        sns.boxplot(data=df_group,x=\"price\",palette=\"Set2\")"
   ]
  },
  {
   "cell_type": "code",
   "execution_count": 126,
   "metadata": {},
   "outputs": [
    {
     "data": {
      "image/png": "[encoded data removed]",
      "text/plain": [
       "<Figure size 2000x2000 with 5 Axes>"
      ]
     },
     "metadata": {},
     "output_type": "display_data"
    }
   ],
   "source": [
    "generateBoxPlots(item_list_df)"
   ]
  },
  {
   "cell_type": "markdown",
   "metadata": {},
   "source": [
    "Median price for best condition category is i.e category 1 is 19"
   ]
  },
  {
   "cell_type": "markdown",
   "metadata": {},
   "source": [
    "#### Question 1.5 \n",
    "Write the code to find out (print) how many unique categories you could find from column\n",
    "category_name"
   ]
  },
  {
   "cell_type": "code",
   "execution_count": 142,
   "metadata": {},
   "outputs": [
    {
     "data": {
      "text/plain": [
       "Women/Athletic Apparel/Pants, Tights, Leggings                       14336\n",
       "Women/Tops & Blouses/T-Shirts                                        11187\n",
       "Beauty/Makeup/Face                                                    8234\n",
       "Beauty/Makeup/Lips                                                    7188\n",
       "Electronics/Video Games & Consoles/Games                              6391\n",
       "Beauty/Makeup/Eyes                                                    6197\n",
       "Electronics/Cell Phones & Accessories/Cases, Covers & Skins           5881\n",
       "Women/Underwear/Bras                                                  5076\n",
       "Women/Tops & Blouses/Tank, Cami                                       4876\n",
       "Women/Tops & Blouses/Blouse                                           4858\n",
       "Women/Dresses/Above Knee, Mini                                        4826\n",
       "Women/Athletic Apparel/Shorts                                         4721\n",
       "Women/Jewelry/Necklaces                                               4634\n",
       "Beauty/Fragrance/Women                                                4482\n",
       "Beauty/Makeup/Makeup Palettes                                         4462\n",
       "Women/Shoes/Boots                                                     4353\n",
       "Beauty/Skin Care/Face                                                 3728\n",
       "Women/Dresses/Knee-Length                                             3620\n",
       "Women/Women's Handbags/Shoulder Bag                                   3596\n",
       "Men/Tops/T-shirts                                                     3581\n",
       "Women/Jewelry/Bracelets                                               3577\n",
       "Women/Shoes/Sandals                                                   3508\n",
       "Men/Shoes/Athletic                                                    3483\n",
       "Women/Athletic Apparel/Shirts & Tops                                  3472\n",
       "Kids/Toys/Dolls & Accessories                                         3365\n",
       "Women/Women's Accessories/Wallets                                     3237\n",
       "Women/Jeans/Slim, Skinny                                              3211\n",
       "Home/Home Décor/Home Décor Accents                                    3142\n",
       "Women/Shoes/Athletic                                                  3099\n",
       "Women/Swimwear/Two-Piece                                              3034\n",
       "Kids/Toys/Action Figures & Statues                                    3011\n",
       "Women/Jewelry/Earrings                                                2793\n",
       "Women/Jewelry/Rings                                                   2623\n",
       "Women/Sweaters/Hooded                                                 2562\n",
       "Women/Shoes/Fashion Sneakers                                          2486\n",
       "Beauty/Skin Care/Body                                                 2446\n",
       "Home/Kitchen & Dining/Coffee & Tea Accessories                        2318\n",
       "Women/Women's Handbags/Totes & Shoppers                               2298\n",
       "Electronics/Cell Phones & Accessories/Cell Phone Accessories          2281\n",
       "Women/Athletic Apparel/Sports Bras                                    2156\n",
       "Women/Women's Handbags/Messenger & Crossbody                          2110\n",
       "Women/Underwear/Panties                                               2105\n",
       "Electronics/Cell Phones & Accessories/Cell Phones & Smartphones       2036\n",
       "Women/Athletic Apparel/Jackets                                        1984\n",
       "Women/Sweaters/Cardigan                                               1977\n",
       "Kids/Girls 2T-5T/Shoes                                                1924\n",
       "Other/Other/Other                                                     1905\n",
       "Women/Tops & Blouses/Tunic                                            1845\n",
       "Women/Shoes/Pumps                                                     1773\n",
       "Women/Sweaters/Crewneck                                               1772\n",
       "Electronics/Media/DVD                                                 1751\n",
       "Kids/Toys/Arts & Crafts                                               1739\n",
       "Kids/Boys 2T-5T/Shoes                                                 1738\n",
       "Beauty/Tools & Accessories/Makeup Brushes & Tools                     1731\n",
       "Women/Women's Accessories/Sunglasses                                  1728\n",
       "Women/Other/Other                                                     1726\n",
       "Women/Jeans/Leggings                                                  1625\n",
       "Women/Jeans/Boot Cut                                                  1580\n",
       "Women/Athletic Apparel/Tracksuits & Sweats                            1579\n",
       "Men/Men's Accessories/Hats                                            1497\n",
       "Beauty/Makeup/Makeup Sets                                             1484\n",
       "Kids/Toys/Stuffed Animals & Plush                                     1419\n",
       "Beauty/Makeup/Nails                                                   1411\n",
       "Women/Women's Accessories/Hats                                        1410\n",
       "Women/Dresses/Full-Length                                             1380\n",
       "Other/Daily & Travel items/Personal Care                              1362\n",
       "Kids/Boys (4+)/Shoes                                                  1347\n",
       "Women/Shoes/Flats                                                     1341\n",
       "Vintage & Collectibles/Toy/Action Figure                              1308\n",
       "Kids/Girls 0-24 Mos/One-Pieces                                        1295\n",
       "Kids/Boys 0-24 Mos/One-Pieces                                         1273\n",
       "Women/Women's Accessories/Hair Accessories                            1271\n",
       "Home/Kitchen & Dining/Dining & Entertaining                           1251\n",
       "Vintage & Collectibles/Antique/Collectibles                           1223\n",
       "Beauty/Bath & Body/Bath                                               1200\n",
       "Women/Women's Handbags/Backpack Style                                 1195\n",
       "Men/Shoes/Fashion Sneakers                                            1189\n",
       "Other/Office supplies/Shipping Supplies                               1184\n",
       "Home/Home Décor/Home Fragrance                                        1161\n",
       "Electronics/TV, Audio & Surveillance/Headphones                       1126\n",
       "Kids/Boys 0-24 Mos/Shoes                                              1059\n",
       "Sports & Outdoors/Exercise/Fitness accessories                        1045\n",
       "Women/Shoes/Loafers & Slip-Ons                                        1030\n",
       "Kids/Toys/Games                                                       1023\n",
       "Handmade/Paper Goods/Sticker                                          1019\n",
       "Electronics/Video Games & Consoles/Consoles                           1007\n",
       "Kids/Boys (4+)/Top & T-shirts                                         1007\n",
       "Women/Women's Accessories/Watches                                      999\n",
       "Women/Swimwear/One-Piece                                               935\n",
       "Kids/Girls (4+)/Tops & T-Shirts                                        935\n",
       "Electronics/Video Games & Consoles/Accessories                         933\n",
       "Women/Women's Handbags/Cosmetic Bags                                   906\n",
       "Kids/Girls 0-24 Mos/Shoes                                              900\n",
       "Beauty/Tools & Accessories/Hair Styling Tools                          895\n",
       "Men/Sweats & Hoodies/Hoodie                                            874\n",
       "Women/Tops & Blouses/Button Down Shirt                                 871\n",
       "Kids/Boys 2T-5T/Tops & T-Shirts                                        823\n",
       "Men/Men's Accessories/Watches                                          814\n",
       "Women/Coats & Jackets/Fleece Jacket                                    808\n",
       "Men/Athletic Apparel/Jerseys                                           807\n",
       "Sports & Outdoors/Fan Shop/NFL                                         783\n",
       "Women/Dresses/Asymmetrical Hem                                         778\n",
       "Electronics/Cell Phones & Accessories/Cables & Adapters                778\n",
       "Women/Tops & Blouses/Knit Top                                          778\n",
       "Women/Skirts/Straight, Pencil                                          778\n",
       "Women/Athletic Apparel/Socks                                           775\n",
       "Kids/Girls 2T-5T/Tops & T-Shirts                                       736\n",
       "Women/Sweaters/Full Zip                                                732\n",
       "Vintage & Collectibles/Trading Cards/Animation                         731\n",
       "Men/Sweats & Hoodies/Sweatshirt, Pullover                              730\n",
       "Other/Books/Literature & Fiction                                       717\n",
       "Beauty/Fragrance/Candles & Home Scents                                 700\n",
       "Kids/Toys/Hobbies                                                      696\n",
       "Women/Women's Accessories/Other                                        678\n",
       "Women/Skirts/Mini                                                      676\n",
       "Kids/Girls (4+)/Shoes                                                  674\n",
       "Other/Daily & Travel items/Health Care                                 652\n",
       "Women/Pants/Casual Pants                                               651\n",
       "Handmade/Clothing/Lingerie                                             650\n",
       "Beauty/Makeup/Brushes & Applicators                                    649\n",
       "Vintage & Collectibles/Trading Cards/Sports                            648\n",
       "Home/Kitchen & Dining/Kitchen Utensils & Gadgets                       638\n",
       "Kids/Boys 0-24 Mos/Tops & T-Shirts                                     634\n",
       "Women/Skirts/Maxi                                                      622\n",
       "Women/Women's Accessories/Scarves & Wraps                              615\n",
       "Kids/Girls 2T-5T/Dresses                                               610\n",
       "Kids/Boys (4+)/Bottoms                                                 600\n",
       "Women/Tops & Blouses/Other                                             599\n",
       "Other/Pet Supplies/Dogs                                                594\n",
       "Beauty/Hair Care/Styling Products                                      590\n",
       "Kids/Girls (4+)/Dresses                                                578\n",
       "Handmade/Jewelry/Jewelry                                               578\n",
       "Women/Coats & Jackets/Vest                                             565\n",
       "Vintage & Collectibles/Electronics/Video Game                          563\n",
       "Handmade/Clothing/Costume                                              560\n",
       "Kids/Girls 0-24 Mos/Dresses                                            557\n",
       "Women/Women's Handbags/Satchel                                         547\n",
       "Home/Home Décor/Candles & Holders                                      536\n",
       "Home/Seasonal Décor/Halloween                                          533\n",
       "Men/Tops/Polo, Rugby                                                   523\n",
       "Electronics/Cell Phones & Accessories/Chargers & Cradles               519\n",
       "Men/Men's Accessories/Other                                            519\n",
       "Men/Athletic Apparel/Shirts & Tops                                     514\n",
       "Kids/Toys/Baby & Toddler Toys                                          513\n",
       "Beauty/Fragrance/Men                                                   511\n",
       "Women/Coats & Jackets/Windbreaker                                      508\n",
       "Electronics/Media/Blu-Ray                                              507\n",
       "Kids/Toys/Building Toys                                                504\n",
       "Sports & Outdoors/Exercise/Fitness technology                          504\n",
       "Electronics/TV, Audio & Surveillance/Portable Audio & Accessories      494\n",
       "Home/Seasonal Décor/Christmas                                          494\n",
       "Electronics/Cell Phones & Accessories/Headsets                         488\n",
       "Kids/Girls 2T-5T/Bottoms                                               485\n",
       "Electronics/Cell Phones & Accessories/Screen Protectors                477\n",
       "Men/Jeans/Classic, Straight Leg                                        476\n",
       "Other/Office supplies/School Supplies                                  474\n",
       "Electronics/Computers & Tablets/iPad/Tablet/eBook Readers              466\n",
       "Sports & Outdoors/Outdoors/Hiking & Camping                            463\n",
       "Women/Pants/Other                                                      462\n",
       "Women/Underwear/G-Strings & Thongs                                     454\n",
       "Men/Tops/Button-Front                                                  454\n",
       "Kids/Feeding/Bottle-Feeding                                            451\n",
       "Kids/Girls 0-24 Mos/Tops & T-Shirts                                    448\n",
       "Men/Athletic Apparel/Shorts                                            444\n",
       "Kids/Gear/Backpacks & Carriers                                         443\n",
       "Men/Men's Accessories/Backpacks, Bags & Briefcases                     439\n",
       "Women/Underwear/Other                                                  437\n",
       "Women/Shoes/Slippers                                                   434\n",
       "Beauty/Hair Care/Shampoo & Conditioner Sets                            433\n",
       "Men/Men's Accessories/Sunglasses                                       419\n",
       "Women/Coats & Jackets/Jean Jacket                                      416\n",
       "Home/Storage & Organization/Jewelry Boxes & Organizers                 415\n",
       "Electronics/Computers & Tablets/Laptops & Netbooks                     403\n",
       "Kids/Boys (4+)/Coats & Jackets                                         393\n",
       "Home/Bedding/Blankets & Throws                                         391\n",
       "Vintage & Collectibles/Accessories/Keychain                            389\n",
       "Women/Pants/Capris, Cropped                                            387\n",
       "Men/Athletic Apparel/Jackets                                           384\n",
       "Kids/Girls (4+)/Coats & Jackets                                        380\n",
       "Home/Cleaning Supplies/Household Cleaners                              375\n",
       "Kids/Boys 2T-5T/Bottoms                                                372\n",
       "Handmade/Bags and Purses/Purse                                         371\n",
       "Men/Sweats & Hoodies/Track & Sweat Pants                               367\n",
       "Men/Men's Accessories/Belts                                            363\n",
       "Kids/Girls 0-24 Mos/Accessories                                        362\n",
       "Men/Shoes/Boots                                                        361\n",
       "Electronics/Media/CD                                                   353\n",
       "Vintage & Collectibles/Bags and Purses/Handbag                         350\n",
       "Women/Jeans/Straight Leg                                               347\n",
       "Kids/Girls (4+)/Jeans                                                  347\n",
       "Kids/Nursery/Bedding                                                   336\n",
       "Kids/Girls (4+)/Other                                                  335\n",
       "Other/Daily & Travel items/Sports Nutrition                            329\n",
       "Other/Books/Education & Teaching                                       327\n",
       "Other/Books/Children's Books                                           322\n",
       "Electronics/Cameras & Photography/Digital Cameras                      320\n",
       "Women/Pants/Dress Pants                                                319\n",
       "Vintage & Collectibles/Collectibles/Other                              318\n",
       "Vintage & Collectibles/Clothing/Sweater                                317\n",
       "Men/Athletic Apparel/Socks                                             317\n",
       "Women/Jeans/Capri, Cropped                                             315\n",
       "Women/Athletic Apparel/Skirts, Skorts & Dresses                        314\n",
       "Women/Tops & Blouses/Halter                                            313\n",
       "Women/Suits & Blazers/Blazer                                           312\n",
       "Electronics/Video Games & Consoles/Video Gaming Merchandise            303\n",
       "Handmade/Accessories/Hair                                              297\n",
       "Vintage & Collectibles/Collectibles/Figurine                           294\n",
       "Handmade/Accessories/Lanyard                                           291\n",
       "Kids/Diapering/Diaper Bags                                             288\n",
       "Home/Home Appliances/Wine, Beer & Beverage Coolers                     287\n",
       "Kids/Girls (4+)/Accessories                                            286\n",
       "Vintage & Collectibles/Collectibles/Glass                              285\n",
       "Women/Women's Accessories/Belts                                        285\n",
       "Men/Men's Accessories/Wallets                                          284\n",
       "Home/Kitchen & Dining/Bakeware                                         283\n",
       "Beauty/Hair Care/Hair & Scalp Treatments                               281\n",
       "Women/Coats & Jackets/Motorcycle                                       276\n",
       "Women/Women's Handbags/Other                                           275\n",
       "Kids/Diapering/Disposable Diapers                                      269\n",
       "Electronics/Cameras & Photography/Camera & Photo Accessories           269\n",
       "Kids/Toys/Toy Remote Control & Play Vehicles                           267\n",
       "Kids/Toys/Dress Up & Pretend Play                                      266\n",
       "Sports & Outdoors/Apparel/Boys                                         266\n",
       "Sports & Outdoors/Fan Shop/NCAA                                        265\n",
       "Other/Pet Supplies/Others                                              262\n",
       "Women/Shoes/Mules & Clogs                                              262\n",
       "Kids/Girls 2T-5T/Coats & Jackets                                       261\n",
       "Women/Maternity/Dresses                                                261\n",
       "Vintage & Collectibles/Book/Comics                                     257\n",
       "Electronics/TV, Audio & Surveillance/Gadgets                           257\n",
       "Sports & Outdoors/Fan Shop/MLB                                         255\n",
       "Women/Coats & Jackets/Other                                            254\n",
       "Handmade/Bags and Purses/Wristlet                                      254\n",
       "Handmade/Paper Goods/Scrapbooking                                      254\n",
       "Men/Coats & Jackets/Windbreaker                                        252\n",
       "Women/Jeans/Other                                                      251\n",
       "Kids/Toys/Learning & Education                                         249\n",
       "Electronics/Cameras & Photography/Film Photography                     247\n",
       "Kids/Girls 0-24 Mos/Coats & Jackets                                    245\n",
       "Kids/Boys 2T-5T/Coats & Jackets                                        245\n",
       "Electronics/Computers & Tablets/iPad/Tablet/eBook Access               242\n",
       "Kids/Boys 0-24 Mos/Bottoms                                             241\n",
       "Sports & Outdoors/Apparel/Accessories                                  240\n",
       "Beauty/Skin Care/Sun                                                   235\n",
       "Electronics/Computers & Tablets/Components & Parts                     234\n",
       "Kids/Toys/Party Supplies                                               232\n",
       "Women/Swimwear/Cover-Ups                                               230\n",
       "Home/Bedding/Sheets & Pillowcases                                      229\n",
       "Women/Dresses/Other                                                    224\n",
       "Men/Shoes/Loafers & Slip-Ons                                           220\n",
       "Women/Swimwear/Beach Accessories                                       216\n",
       "Women/Coats & Jackets/Puffer                                           216\n",
       "Home/Bath/Bathroom Accessories                                         212\n",
       "Home/Kitchen & Dining/Storage & Organization                           212\n",
       "Women/Dresses/Mid-Calf                                                 209\n",
       "Kids/Other/Other                                                       208\n",
       "Men/Other/Other                                                        208\n",
       "Vintage & Collectibles/Collectibles/Doll                               208\n",
       "Handmade/Music/Vinyl                                                   207\n",
       "Kids/Toys/Electronics for Kids                                         207\n",
       "Other/Office supplies/Writing                                          207\n",
       "Vintage & Collectibles/Serving/Mug                                     206\n",
       "Beauty/Skin Care/Eyes                                                  206\n",
       "Other/Daily & Travel items/Medical Supplies & Equipment                205\n",
       "Beauty/Skin Care/Lips                                                  205\n",
       "Men/Jeans/Slim, Skinny                                                 203\n",
       "Vintage & Collectibles/Serving/Tumbler                                 203\n",
       "Women/Maternity/Tops & Blouses                                         200\n",
       "Electronics/Other/Other                                                200\n",
       "Home/Home Appliances/Kitchen Appliances                                199\n",
       "Beauty/Bath & Body/Scrubs & Body Treatments                            198\n",
       "Vintage & Collectibles/Collectibles/Souvenir                           197\n",
       "Women/Jeans/Flare                                                      196\n",
       "Kids/Boys 0-24 Mos/Coats & Jackets                                     195\n",
       "Beauty/Skin Care/Hands & Nails                                         194\n",
       "Home/Home Décor/Decorative Pillows                                     191\n",
       "Handmade/Accessories/Patch                                             190\n",
       "Handmade/Children/Toy                                                  190\n",
       "Women/Sweaters/Other                                                   189\n",
       "Kids/Girls 0-24 Mos/Other                                              188\n",
       "Women/Sweaters/V-Neck                                                  188\n",
       "Men/Sweaters/Crewneck                                                  186\n",
       "Women/Shoes/Other                                                      186\n",
       "Home/Home Décor/Photo Albums & Frames                                  183\n",
       "Women/Jeans/Boyfriend                                                  183\n",
       "Other/Office supplies/Electronics                                      183\n",
       "Kids/Feeding/Pacifiers & Accessories                                   178\n",
       "Other/Automotive/Exterior Accessories                                  177\n",
       "Kids/Girls 0-24 Mos/Bottoms                                            173\n",
       "Men/Jeans/Boot Cut                                                     172\n",
       "Home/Home Décor/Lamps& Accessories                                     171\n",
       "Home/Home Décor/Tapestries                                             171\n",
       "Home/Artwork/Posters & Prints                                          171\n",
       "Kids/Car Seats & Accessories/Accessories                               171\n",
       "Women/Skirts/A-Line                                                    169\n",
       "Kids/Boys 0-24 Mos/Other                                               169\n",
       "Vintage & Collectibles/Bags and Purses/Purse                           167\n",
       "Kids/Toys/Puzzles                                                      166\n",
       "Handmade/Accessories/Charm                                             164\n",
       "Kids/Boys 0-24 Mos/Accessories                                         162\n",
       "Beauty/Makeup/Body                                                     162\n",
       "Beauty/Bath & Body/Sets                                                162\n",
       "Sports & Outdoors/Team Sports/Baseball & Softball                      161\n",
       "Vintage & Collectibles/Toy/Car                                         160\n",
       "Beauty/Bath & Body/Cleansers                                           160\n",
       "Electronics/Computers & Tablets/Drives, Storage & Media                159\n",
       "Men/Shorts/Casual Shorts                                               158\n",
       "Kids/Feeding/Breastfeeding                                             157\n",
       "Women/Sweaters/Collared                                                156\n",
       "Men/Coats & Jackets/Fleece Jacket                                      156\n",
       "Kids/Diapering/Cloth Diapers                                           156\n",
       "Women/Tops & Blouses/Polo Shirt                                        155\n",
       "Sports & Outdoors/Apparel/Girls                                        154\n",
       "Men/Shoes/Sandals                                                      154\n",
       "Women/Coats & Jackets/Peacoat                                          154\n",
       "Kids/Feeding/Storage & Containers                                      153\n",
       "Vintage & Collectibles/Housewares/Ceramic                              152\n",
       "Other/Automotive/Tools & Equipment                                     150\n",
       "Handmade/Clothing/Corset                                               147\n",
       "Home/Home Décor/Window Treatments                                      146\n",
       "Women/Sweaters/Vest, Sleeveless                                        146\n",
       "Women/Sweaters/Cowl Neck                                               144\n",
       "Other/Office supplies/Organization                                     144\n",
       "Handmade/Accessories/Keychain                                          143\n",
       "Other/Office supplies/Calendars                                        141\n",
       "Beauty/Hair Care/Hair Color                                            140\n",
       "Beauty/Tools & Accessories/Bags & Cases                                138\n",
       "Sports & Outdoors/Fan Shop/NBA                                         135\n",
       "Kids/Boys (4+)/Other                                                   135\n",
       "Sports & Outdoors/Exercise/Dance/Ballet                                135\n",
       "Women/Skirts/Pleated                                                   134\n",
       "Kids/Girls 2T-5T/Other                                                 133\n",
       "Women/Tops & Blouses/Wrap                                              132\n",
       "Home/Bedding/Comforters & Sets                                         131\n",
       "Sports & Outdoors/Exercise/Yoga & Pilates                              130\n",
       "Men/Athletic Apparel/Pants                                             129\n",
       "Kids/Boys 2T-5T/Other                                                  129\n",
       "Sports & Outdoors/Team Sports/Soccer                                   128\n",
       "Beauty/Fragrance/Sets                                                  126\n",
       "Beauty/Other/Other                                                     125\n",
       "Beauty/Hair Care/Shampoos                                              123\n",
       "Vintage & Collectibles/Jewelry/Pendant                                 121\n",
       "Vintage & Collectibles/Housewares/Cup                                  120\n",
       "Women/Coats & Jackets/Raincoat                                         117\n",
       "Other/Office supplies/Ink & Toner                                      117\n",
       "Women/Maternity/Jeans                                                  116\n",
       "Home/Kitchen & Dining/Cookware                                         116\n",
       "Women/Sweaters/Scoop Neck                                              115\n",
       "Vintage & Collectibles/Bags and Purses/Luggage                         113\n",
       "Sports & Outdoors/Outdoors/Fishing                                     113\n",
       "Home/Storage & Organization/Clothing & Closet Storage                  112\n",
       "Home/Other/Other                                                       112\n",
       "Beauty/Hair Care/Conditioners                                          111\n",
       "Women/Coats & Jackets/Military                                         109\n",
       "Beauty/Tools & Accessories/Nail Tools                                  108\n",
       "Vintage & Collectibles/Clothing/Shorts                                 106\n",
       "Sports & Outdoors/Footwear/Cleats                                      105\n",
       "Beauty/Makeup/Makeup Remover                                           105\n",
       "Men/Men's Accessories/Ties                                             105\n",
       "Home/Kitchen & Dining/Kitchen & Table Linens                           103\n",
       "Vintage & Collectibles/Jewelry/Ring                                    103\n",
       "Electronics/TV, Audio & Surveillance/Televisions                       102\n",
       "Men/Shorts/Cargo                                                       102\n",
       "Kids/Girls 2T-5T/One-Pieces                                            102\n",
       "Vintage & Collectibles/Supplies/Charm                                  101\n",
       "Home/Cleaning Supplies/Air Fresheners                                   99\n",
       "Kids/Toys/Sports & Outdoor Play                                         98\n",
       "Handmade/Other/Other                                                    98\n",
       "Men/Tops/Dress Shirts                                                   97\n",
       "Handmade/Children/Baby                                                  97\n",
       "Women/Sweaters/Poncho                                                   96\n",
       "Other/Daily & Travel items/Household Supplies                           96\n",
       "Home/Kitchen & Dining/Small Appliances                                  96\n",
       "Kids/Girls (4+)/Swimwear                                                95\n",
       "Kids/Boys 2T-5T/One-Pieces                                              95\n",
       "Handmade/Toys/Food                                                      94\n",
       "Home/Storage & Organization/Racks, Shelves & Drawers                    94\n",
       "Women/Jeans/Overalls                                                    94\n",
       "Electronics/Media/VHS                                                   93\n",
       "Beauty/Tools & Accessories/Mirrors                                      93\n",
       "Vintage & Collectibles/Bags and Purses/Clutch                           93\n",
       "Women/Coats & Jackets/Trench                                            93\n",
       "Other/Automotive/Car Electronics & Accessories                          92\n",
       "Sports & Outdoors/Outdoors/Indoor/Outdoor Games                         92\n",
       "Women/Maternity/Pants                                                   91\n",
       "Vintage & Collectibles/Jewelry/Bracelet                                 91\n",
       "Vintage & Collectibles/Antique/Book                                     91\n",
       "Women/Pants/Khakis, Chinos                                              91\n",
       "Women/Suits & Blazers/Pant Suit                                         90\n",
       "Vintage & Collectibles/Jewelry/Necklace                                 90\n",
       "Men/Tops/Tank                                                           90\n",
       "Electronics/TV, Audio & Surveillance/Home Speakers & Subwoofers         90\n",
       "Women/Athletic Apparel/Jerseys                                          90\n",
       "Sports & Outdoors/Team Sports/Football                                  89\n",
       "Kids/Diapering/Wipes & Holders                                          88\n",
       "Other/Automotive/Lights & Lighting Accessories                          88\n",
       "Electronics/Computers & Tablets/Printers, Scanners & Supplies           88\n",
       "Home/Kitchen & Dining/Wine Accessories                                  87\n",
       "Handmade/Paper Goods/Cards                                              86\n",
       "Vintage & Collectibles/Toy/Electronic                                   85\n",
       "Sports & Outdoors/Other/Other                                           85\n",
       "Handmade/Accessories/Pinback Button                                     84\n",
       "Vintage & Collectibles/Housewares/Bowl                                  84\n",
       "Kids/Pregnancy & Maternity/Breastfeeding Pillows & Stools               84\n",
       "Home/Bedding/Decorative Pillows, Inserts & Covers                       83\n",
       "Handmade/Weddings/Decorations                                           82\n",
       "Women/Athletic Apparel/Other                                            81\n",
       "Kids/Feeding/Other                                                      81\n",
       "Vintage & Collectibles/Other/Other                                      81\n",
       "Men/Swimwear/Swim Trunks                                                80\n",
       "Kids/Girls 2T-5T/Accessories                                            80\n",
       "Vintage & Collectibles/Toy/Doll                                         80\n",
       "Other/Office supplies/Basic Supplies                                    80\n",
       "Women/Women's Handbags/Hobo                                             79\n",
       "Home/Kids' Home Store/Kids' Room Décor                                  79\n",
       "Vintage & Collectibles/Jewelry/Brooch                                   79\n",
       "Sports & Outdoors/Exercise/Athletic Training                            79\n",
       "Sports & Outdoors/Outdoors/Skateboard                                   78\n",
       "Sports & Outdoors/Outdoors/Water Sports                                 78\n",
       "Kids/Girls 2T-5T/Swimwear                                               78\n",
       "Other/Automotive/Interior Accessories                                   76\n",
       "Women/Sweaters/Turtleneck, Mock                                         76\n",
       "Electronics/Cell Phones & Accessories/Batteries                         75\n",
       "Kids/Toys/Other                                                         75\n",
       "Beauty/Skin Care/Feet                                                   75\n",
       "Vintage & Collectibles/Accessories/Eyewear                              73\n",
       "Electronics/Computers & Tablets/Networking & Connectivity               73\n",
       "Kids/Boys (4+)/Accessories                                              73\n",
       "Other/Books/Religion & Spirituality                                     71\n",
       "Other/Books/Medical Books                                               71\n",
       "Handmade/Bags and Purses/Tote                                           70\n",
       "Women/Skirts/Other                                                      70\n",
       "Kids/Strollers/Accessories                                              69\n",
       "Other/Books/Other                                                       68\n",
       "Handmade/Housewares/Wall Decor                                          68\n",
       "Women/Skirts/Full Skirt                                                 68\n",
       "Home/Home Décor/Clocks                                                  67\n",
       "Kids/Gear/Swings, Jumpers & Bouncers                                    67\n",
       "Men/Shoes/Slippers                                                      66\n",
       "Men/Pants/Khakis, Chinos                                                66\n",
       "Men/Coats & Jackets/Motorcycle                                          66\n",
       "Beauty/Hair Care/Styling Tools                                          66\n",
       "Women/Sweaters/Sweatercoat                                              66\n",
       "Sports & Outdoors/Outdoors/Bike & Skate                                 65\n",
       "Beauty/Bath & Body/Bathing Accessories                                  65\n",
       "Sports & Outdoors/Fan Shop/NHL                                          65\n",
       "Men/Coats & Jackets/Jean Jacket                                         64\n",
       "Home/Home Décor/Other                                                   64\n",
       "Vintage & Collectibles/Supplies/Bead                                    63\n",
       "Men/Coats & Jackets/Other                                               63\n",
       "Kids/Boys 2T-5T/Accessories                                             63\n",
       "Men/Coats & Jackets/Vest                                                62\n",
       "Men/Coats & Jackets/Flight/Bomber                                       62\n",
       "Vintage & Collectibles/Trading Cards/Sci-Fi, Fantasy                    62\n",
       "Handmade/Art/Painting                                                   61\n",
       "Handmade/Paper Goods/Stationery                                         61\n",
       "Sports & Outdoors/Outdoors/Snowboard                                    61\n",
       "Beauty/Tools & Accessories/Waxing                                       61\n",
       "Men/Shoes/Oxfords                                                       60\n",
       "Home/Home Décor/Baskets                                                 60\n",
       "Handmade/Glass/Bottles                                                  60\n",
       "Home/Bath/Towels                                                        59\n",
       "Kids/Pregnancy & Maternity/Family Planning Tests                        58\n",
       "Sports & Outdoors/Golf/Golf Apparel                                     58\n",
       "Women/Maternity/Other                                                   58\n",
       "Other/Musical instruments/Guitars                                       58\n",
       "Men/Jeans/Relaxed                                                       57\n",
       "Women/Coats & Jackets/Parka                                             57\n",
       "Vintage & Collectibles/Trading Cards/Vintage                            56\n",
       "Handmade/Accessories/Pin                                                56\n",
       "Home/Seasonal Décor/Easter                                              56\n",
       "Home/Storage & Organization/Baskets & Bins                              56\n",
       "Home/Kitchen & Dining/Kitchen Knives & Cutlery Accessories              56\n",
       "Kids/Bathing & Skin Care/Washcloths & Towels                            55\n",
       "Sports & Outdoors/Apparel/Women                                         55\n",
       "Vintage & Collectibles/Toy/Other                                        55\n",
       "Electronics/TV, Audio & Surveillance/DVD & Blu-ray Players              55\n",
       "Home/Bedding/Duvet Covers & Sets                                        54\n",
       "Kids/Safety/Monitors                                                    54\n",
       "Women/Underwear/Thermal Underwear                                       54\n",
       "Sports & Outdoors/Outdoors/Other                                        53\n",
       "Kids/Girls 0-24 Mos/Swimwear                                            53\n",
       "Home/Kitchen & Dining/Other                                             52\n",
       "Handmade/Accessories/Gloves                                             52\n",
       "Women/Tops & Blouses/Turtleneck                                         52\n",
       "Other/Books/Arts & Photography                                          51\n",
       "Vintage & Collectibles/Supplies/Fabric                                  51\n",
       "Men/Sweaters/V-Neck                                                     51\n",
       "Other/Books/Christian Books & Bibles                                    51\n",
       "Vintage & Collectibles/Electronics/Camera                               51\n",
       "Home/Home Appliances/Vacuums & Floor Care                               51\n",
       "Home/Seasonal Décor/Valentine                                           50\n",
       "Other/Musical instruments/Instrument Accessories                        49\n",
       "Vintage & Collectibles/Supplies/Yarn                                    49\n",
       "Kids/Car Seats & Accessories/Car Seats                                  48\n",
       "Other/Books/Biographies & Memoirs                                       48\n",
       "Vintage & Collectibles/Toy/Animal                                       48\n",
       "Home/Seasonal Décor/Thanksgiving                                        47\n",
       "Electronics/TV, Audio & Surveillance/Home Surveillance                  47\n",
       "Home/Kids' Home Store/Kids' Bedding                                     47\n",
       "Men/Shorts/Athletic                                                     46\n",
       "Men/Tops/Other                                                          46\n",
       "Sports & Outdoors/Golf/Men's Golf Clubs                                 46\n",
       "Vintage & Collectibles/Bags and Purses/Change Purse                     46\n",
       "Kids/Gear/Baby Gyms & Playmats                                          45\n",
       "Other/Musical instruments/Microphones & Accessories                     45\n",
       "Vintage & Collectibles/Antique/100 Years or Older                       45\n",
       "Kids/Gear/Baby Seats                                                    44\n",
       "Men/Swimwear/Board Shorts                                               44\n",
       "Vintage & Collectibles/Trading Cards/Other                              43\n",
       "Men/Pants/Cargo                                                         43\n",
       "Vintage & Collectibles/Paper Ephemera/Stamps                            43\n",
       "Kids/Bathing & Skin Care/Skin Care                                      43\n",
       "Other/Daily & Travel items/Stationery & Party Supplies                  42\n",
       "Home/Home Décor/Area Rugs & Pads                                        42\n",
       "Other/Daily & Travel items/Baby & Child Care                            42\n",
       "Beauty/Bath & Body/Other                                                42\n",
       "Home/Artwork/Paintings                                                  41\n",
       "Home/Kitchen & Dining/Water Coolers & Filters                           41\n",
       "Beauty/Tools & Accessories/Other                                        41\n",
       "Other/Magazines/Lifestyle & Cultures                                    41\n",
       "Kids/Toys/Novelty & Gag Toys                                            41\n",
       "Men/Sweaters/Full Zip                                                   40\n",
       "Men/Pants/Casual Pants                                                  40\n",
       "Home/Bedding/Quilts                                                     40\n",
       "Women/Pants/Linen                                                       40\n",
       "Women/Shoes/Oxfords                                                     40\n",
       "Women/Pants/Cargo                                                       40\n",
       "Handmade/Bags and Purses/Hip Bag                                        39\n",
       "Other/Pet Supplies/Cage                                                 39\n",
       "Women/Coats & Jackets/Wool                                              39\n",
       "Other/Books/Reference                                                   39\n",
       "Vintage & Collectibles/Home Decor/Wall Hanging                          38\n",
       "Other/Automotive/Motorcycle & Powersports                               38\n",
       "Vintage & Collectibles/Toy/Game                                         38\n",
       "Vintage & Collectibles/Antique/Electronics                              37\n",
       "Electronics/Car Audio, Video & GPS/GPS Units & Equipment                37\n",
       "Electronics/Car Audio, Video & GPS/Car Stereos & Components             37\n",
       "Electronics/Cameras & Photography/Tripods & Supports                    37\n",
       "Kids/Nursery/Nursery Décor                                              37\n",
       "Vintage & Collectibles/Book/Cookbook                                    37\n",
       "Vintage & Collectibles/Clothing/Jacket                                  37\n",
       "Other/Books/Business & Money                                            36\n",
       "Women/Sweaters/Tunic                                                    36\n",
       "Home/Bedding/Bed Pillows                                                36\n",
       "Kids/Bathing & Skin Care/Bathing Tubs & Seats                           36\n",
       "Home/Artwork/Drawings                                                   36\n",
       "Vintage & Collectibles/Jewelry/Earrings                                 35\n",
       "Home/Home Décor/Vases                                                   35\n",
       "Electronics/Media/Other                                                 35\n",
       "Handmade/Art/Other                                                      35\n",
       "Kids/Potty Training/Potties & Seats                                     35\n",
       "Electronics/Cameras & Photography/Lenses & Filters                      35\n",
       "Other/Books/Science & Math                                              34\n",
       "Handmade/Paper Goods/Journal                                            34\n",
       "Handmade/Bags and Purses/Backpack                                       33\n",
       "Sports & Outdoors/Apparel/Men                                           33\n",
       "Vintage & Collectibles/Jewelry/Watch                                    33\n",
       "Women/Shoes/Work & Safety                                               33\n",
       "Men/Pants/Other                                                         32\n",
       "Electronics/Computers & Tablets/Desktops & All-In-Ones                  32\n",
       "Vintage & Collectibles/Jewelry/Other                                    32\n",
       "Electronics/Cameras & Photography/Camcorders                            32\n",
       "Home/Home Appliances/Fans                                               32\n",
       "Other/Daily & Travel items/Other                                        32\n",
       "Handmade/Holidays/Halloween                                             31\n",
       "Vintage & Collectibles/Accessories/Other                                31\n",
       "Handmade/Needlecraft/Supplies                                           31\n",
       "Kids/Boys 0-24 Mos/Swimwear                                             31\n",
       "Sports & Outdoors/Exercise/Boxing & MMA                                 31\n",
       "Sports & Outdoors/Golf/Golf Balls                                       31\n",
       "Kids/Boys (4+)/Swimwear                                                 30\n",
       "Vintage & Collectibles/Clothing/Swimwear                                30\n",
       "Vintage & Collectibles/Bags and Purses/Pouch                            30\n",
       "Women/Skirts/Asymmetrical                                               30\n",
       "Kids/Boys 2T-5T/Swimwear                                                30\n",
       "Handmade/Accessories/Leg Warmers                                        30\n",
       "Men/Sweaters/Other                                                      30\n",
       "Sports & Outdoors/Exercise/Strength training                            29\n",
       "Sports & Outdoors/Team Sports/Volleyball                                28\n",
       "Handmade/Glass/Glassware                                                28\n",
       "Beauty/Hair Care/Hair Loss Products                                     28\n",
       "Vintage & Collectibles/Clothing/Dress                                   27\n",
       "Beauty/Hair Care/Other                                                  27\n",
       "Men/Athletic Apparel/Other                                              27\n",
       "Vintage & Collectibles/Collectibles/Porcelain                           27\n",
       "Handmade/Holidays/Christmas                                             27\n",
       "Women/Shoes/Outdoor                                                     26\n",
       "Handmade/Housewares/Home Decor                                          26\n",
       "Kids/Health & Baby Care/Other                                           26\n",
       "Handmade/Pets/Collar                                                    26\n",
       "Beauty/Fragrance/Kids                                                   26\n",
       "Kids/Health & Baby Care/Teething Relief                                 26\n",
       "Vintage & Collectibles/Antique/Jewelry                                  26\n",
       "Other/Musical instruments/Stringed Instruments                          25\n",
       "Kids/Strollers/Travel Systems                                           25\n",
       "Vintage & Collectibles/Clothing/Tshirt                                  25\n",
       "Beauty/Makeup/Other                                                     25\n",
       "Other/Office supplies/Other                                             25\n",
       "Men/Athletic Apparel/Tracksuits & Sweats                                25\n",
       "Electronics/Computers & Tablets/Other                                   25\n",
       "Sports & Outdoors/Team Sports/Lacrosse                                  25\n",
       "Sports & Outdoors/Team Sports/Basketball                                24\n",
       "Beauty/Tools & Accessories/Tweezers                                     24\n",
       "Other/Musical instruments/DJ, Electronic Music & Karaoke                24\n",
       "Kids/Diapering/Changing Pads & Covers                                   24\n",
       "Vintage & Collectibles/Book/Fiction                                     24\n",
       "Handmade/Art/Drawings                                                   24\n",
       "Kids/Gear/Shopping Cart Covers                                          24\n",
       "Handmade/Weddings/Accessories                                           24\n",
       "Sports & Outdoors/Team Sports/Tennis & Racquets                         24\n",
       "Handmade/Others/Magic                                                   23\n",
       "Beauty/Tools & Accessories/Epilators                                    23\n",
       "Kids/Toys/Kids' Furniture, Décor & Storage                              23\n",
       "Men/Coats & Jackets/Puffer                                              23\n",
       "Home/Storage & Organization/Laundry Storage & Organization              23\n",
       "Vintage & Collectibles/Home Decor/Other                                 22\n",
       "Home/Bedding/Mattress Pads                                              22\n",
       "Vintage & Collectibles/Serving/Salt and Pepper Shakers                  22\n",
       "Handmade/Knitting/Knitting Supplies                                     22\n",
       "Men/Pants/Dress - Flat Front                                            22\n",
       "Women/Jeans/Relaxed                                                     22\n",
       "Kids/Feeding/Highchairs & Booster Seats                                 22\n",
       "Beauty/Skin Care/Other                                                  21\n",
       "Men/Tops/Henley                                                         21\n",
       "Handmade/Patterns/Sewing                                                21\n",
       "Men/Shorts/Denim                                                        21\n",
       "Sports & Outdoors/Team Sports/Hockey                                    20\n",
       "Handmade/Crochet/Supplies                                               20\n",
       "Electronics/Car Audio, Video & GPS/GPS Accessories & Mounts             20\n",
       "Men/Coats & Jackets/Parka                                               20\n",
       "Women/Jeans/Wide Leg                                                    20\n",
       "Women/Sweaters/Shrug                                                    20\n",
       "Handmade/Paper Goods/Gift Wrap                                          20\n",
       "Home/Cleaning Supplies/Other                                            20\n",
       "Other/Musical instruments/Wind & Woodwind Instruments                   20\n",
       "Home/Storage & Organization/Other                                       20\n",
       "Home/Kitchen & Dining/Food Service Equipment & Supplies                 20\n",
       "Women/Maternity/Sweaters                                                19\n",
       "Men/Shorts/Khakis, Chinos                                               19\n",
       "Kids/Health & Baby Care/Humidifiers & Vaporizers                        19\n",
       "Kids/Pregnancy & Maternity/Prenatal Monitoring Devices                  19\n",
       "Men/Swimwear/Swim Briefs                                                19\n",
       "Handmade/Art/Print                                                      19\n",
       "Kids/Gear/Other                                                         19\n",
       "Kids/Health & Baby Care/Toothbrushes                                    18\n",
       "Handmade/Children/Art                                                   18\n",
       "Home/Bedding/Bedspreads & Coverlets                                     18\n",
       "Men/Sweaters/Cardigan                                                   18\n",
       "Handmade/Accessories/Men                                                18\n",
       "Beauty/Skin Care/Sets & Kits                                            18\n",
       "Men/Jeans/Other                                                         18\n",
       "Men/Sweats & Hoodies/Track & Sweat Suits                                18\n",
       "Kids/Health & Baby Care/Teethers                                        17\n",
       "Handmade/Paper Goods/Notebook                                           17\n",
       "Home/Home Appliances/Space Heaters                                      17\n",
       "Home/Home Appliances/Humidifiers                                        17\n",
       "Electronics/Cell Phones & Accessories/Other                             17\n",
       "Handmade/Pets/Pet Lover                                                 17\n",
       "Vintage & Collectibles/Antique/50 To 75 Years                           17\n",
       "Handmade/Glass/Bowls                                                    16\n",
       "Sports & Outdoors/Golf/Other                                            16\n",
       "Handmade/Crochet/Hat                                                    16\n",
       "Kids/Safety/Harnesses & Leashes                                         16\n",
       "Kids/Toys/Tricycles, Scooters & Wagons                                  16\n",
       "Women/Pants/Corduroys                                                   16\n",
       "Handmade/Others/Other                                                   16\n",
       "Handmade/Clothing/Tshirt                                                16\n",
       "Vintage & Collectibles/Toy/Children                                     16\n",
       "Electronics/TV, Audio & Surveillance/Home Audio                         16\n",
       "Women/Suits & Blazers/Skirt Suit                                        16\n",
       "Handmade/Candles/Other                                                  16\n",
       "Men/Shoes/Work & Safety                                                 15\n",
       "Kids/Nursery/Other                                                      15\n",
       "Handmade/Art/Printmaking                                                15\n",
       "Kids/Bathing & Skin Care/Soaps & Cleansers                              15\n",
       "Men/Shoes/Outdoor                                                       15\n",
       "Women/Athletic Apparel/Snowsuits & Bibs                                 15\n",
       "Handmade/Glass/Ornaments                                                15\n",
       "Vintage & Collectibles/Home Decor/Candle Holder                         14\n",
       "Handmade/Accessories/Other                                              14\n",
       "Handmade/Accessories/Scarf                                              14\n",
       "Vintage & Collectibles/Housewares/Glass                                 14\n",
       "Vintage & Collectibles/Housewares/Other                                 14\n",
       "Electronics/Cameras & Photography/Binoculars & Telescopes               14\n",
       "Women/Pants/Leather                                                     14\n",
       "Vintage & Collectibles/Book/Children                                    14\n",
       "Home/Cleaning Supplies/Mopping                                          14\n",
       "Men/Coats & Jackets/Rainwear                                            14\n",
       "Kids/Potty Training/Training Pants                                      14\n",
       "Electronics/Video Games & Consoles/Strategy Guides                      14\n",
       "Other/Musical instruments/Keyboards                                     14\n",
       "Women/Coats & Jackets/Cape                                              13\n",
       "Men/Coats & Jackets/Varsity/Baseball                                    13\n",
       "Women/Suits & Blazers/Other                                             13\n",
       "Sports & Outdoors/Team Sports/All Other Sports                          13\n",
       "Handmade/Others/Personalized                                            13\n",
       "Vintage & Collectibles/Accessories/Hat                                  13\n",
       "Handmade/Others/Custom                                                  13\n",
       "Vintage & Collectibles/Supplies/Other                                   13\n",
       "Vintage & Collectibles/Clothing/Shirt                                   13\n",
       "Kids/Gear/Walkers                                                       13\n",
       "Handmade/Needlecraft/Cross Stitch                                       13\n",
       "Vintage & Collectibles/Book/Other                                       12\n",
       "Men/Tops/Hawaiian                                                       12\n",
       "Other/Musical instruments/Amplifiers & Effects                          12\n",
       "Sports & Outdoors/Fan Shop/Other                                        12\n",
       "Handmade/Housewares/Magnets                                             12\n",
       "Vintage & Collectibles/Bags and Purses/Formal                           12\n",
       "Women/Maternity/Skirts                                                  12\n",
       "Handmade/Holidays/Valentine                                             12\n",
       "Men/Jeans/Baggy, Loose                                                  12\n",
       "Women/Sweaters/Wrap                                                     12\n",
       "Women/Women's Handbags/Baguette                                         12\n",
       "Home/Artwork/Other                                                      12\n",
       "Men/Sweats & Hoodies/Track Jacket                                       12\n",
       "Home/Home Appliances/Irons & Ironing Boards                             11\n",
       "Beauty/Hair Care/Shampoo Plus Conditioner                               11\n",
       "Men/Coats & Jackets/Wool                                                11\n",
       "Home/Cleaning Supplies/Gloves                                           11\n",
       "Sports & Outdoors/Exercise/Other                                        11\n",
       "Vintage & Collectibles/Book/Nonfiction                                  11\n",
       "Electronics/Car Audio, Video & GPS/Other Accessories                    11\n",
       "Handmade/Bags and Purses/Pouch                                          11\n",
       "Handmade/Accessories/Women                                              11\n",
       "Sports & Outdoors/Apparel/Other                                         11\n",
       "Kids/Health & Baby Care/Thermometers                                    11\n",
       "Kids/Safety/Cabinet Locks & Straps                                      11\n",
       "Handmade/Accessories/Apron                                              11\n",
       "Men/Coats & Jackets/Military                                            11\n",
       "Vintage & Collectibles/Book/Poetry                                      11\n",
       "Vintage & Collectibles/Antique/75 To 100 Years                          11\n",
       "Home/Seasonal Décor/Other                                               11\n",
       "Men/Suits/Two Button                                                    10\n",
       "Beauty/Skin Care/Maternity                                              10\n",
       "Other/Books/Politics & Social Sciences                                  10\n",
       "Vintage & Collectibles/Book/Health                                      10\n",
       "Home/Cleaning Supplies/Paper Towels                                     10\n",
       "Handmade/Toys/Other                                                     10\n",
       "Handmade/Woodworking/Home Decor                                         10\n",
       "Men/Coats & Jackets/Peacoat                                             10\n",
       "Electronics/Car Audio, Video & GPS/Car Speakers & Systems               10\n",
       "Kids/Pregnancy & Maternity/Maternity Pillows                            10\n",
       "Vintage & Collectibles/Home Decor/Planter                               10\n",
       "Other/Office supplies/Paper                                             10\n",
       "Vintage & Collectibles/Book/Crafting                                    10\n",
       "Vintage & Collectibles/Clothing/Skirt                                   10\n",
       "Kids/Diapering/Diaper Pails & Refills                                   10\n",
       "Vintage & Collectibles/Toy/Puzzle                                       10\n",
       "Kids/Safety/Outdoor Safety                                               9\n",
       "Home/Home Décor/Mirrors                                                  9\n",
       "Handmade/Others/Religious                                                9\n",
       "Men/Sweaters/Vest                                                        9\n",
       "Vintage & Collectibles/Home Decor/Vase                                   9\n",
       "Women/Maternity/Athletic Apparel                                         9\n",
       "Home/Home Appliances/Garment Steamers                                    9\n",
       "Other/Musical instruments/Drums & Percussion                             9\n",
       "Vintage & Collectibles/Electronics/Radio                                 9\n",
       "Vintage & Collectibles/Serving/Teacup                                    9\n",
       "Electronics/Cameras & Photography/Lighting & Studio                      9\n",
       "Handmade/Bags and Purses/Laptop                                          9\n",
       "Home/Cleaning Supplies/Trash Bags                                        9\n",
       "Home/Seasonal Décor/St Patrick's                                         9\n",
       "Vintage & Collectibles/Antique/Bags and Purses                           9\n",
       "Vintage & Collectibles/Electronics/Other                                 9\n",
       "Men/Sweaters/Polo                                                        9\n",
       "Handmade/Glass/Sculptures                                                8\n",
       "Men/Pants/Carpenter                                                      8\n",
       "Sports & Outdoors/Golf/Electronics                                       8\n",
       "Electronics/Video Games & Consoles/Replacement Parts & Tools             8\n",
       "Home/Home Appliances/Air Conditioners                                    8\n",
       "Women/Skirts/Wrap                                                        8\n",
       "Vintage & Collectibles/Clothing/Corset                                   8\n",
       "Handmade/Woodworking/Signs                                               8\n",
       "Home/Furniture/Living Room Furniture                                     8\n",
       "Vintage & Collectibles/Home Decor/Box                                    8\n",
       "Vintage & Collectibles/Antique/Toy                                       8\n",
       "Vintage & Collectibles/Housewares/Plate                                  8\n",
       "Vintage & Collectibles/Accessories/Buckle                                8\n",
       "Vintage & Collectibles/Clothing/Other                                    8\n",
       "Home/Seasonal Décor/Birthday                                             8\n",
       "Electronics/TV, Audio & Surveillance/Other                               8\n",
       "Handmade/Geekery/Accessory                                               8\n",
       "Electronics/Video Games & Consoles/Other                                 8\n",
       "Kids/Feeding/Gift Sets                                                   8\n",
       "Men/Coats & Jackets/Trench                                               8\n",
       "Handmade/Glass/Stained Glass                                             8\n",
       "Vintage & Collectibles/Bags and Purses/Other                             8\n",
       "Handmade/Weddings/Cake Toppers                                           8\n",
       "Home/Home Appliances/Refrigerators                                       7\n",
       "Home/Home Appliances/Air Purifiers                                       7\n",
       "Home/Kids' Home Store/Kids' Furniture                                    7\n",
       "Women/Coats & Jackets/Poncho                                             7\n",
       "Handmade/Crochet/Accessories                                             7\n",
       "Vintage & Collectibles/Home Decor/Basket                                 7\n",
       "Other/Magazines/Other                                                    7\n",
       "Home/Furniture/Other                                                     7\n",
       "Vintage & Collectibles/Supplies/Cabochon                                 7\n",
       "Other/Books/History                                                      7\n",
       "Handmade/Geekery/Gadget                                                  7\n",
       "Handmade/Weddings/Favors                                                 7\n",
       "Men/Athletic Apparel/Snowsuits & Bibs                                    7\n",
       "Men/Shorts/Other                                                         7\n",
       "Men/Sweaters/Turtleneck                                                  7\n",
       "Kids/Nursery/Furniture                                                   7\n",
       "Handmade/Crochet/Other                                                   7\n",
       "Home/Bedding/Other                                                       7\n",
       "Other/Automotive/Car Care                                                7\n",
       "Handmade/Needlecraft/Accessories                                         7\n",
       "Handmade/Pets/Small Animal                                               7\n",
       "Home/Kitchen & Dining/Home Brewing & Wine Making                         7\n",
       "Home/Bedding/Shams, Bed Skirts & Bed Frame Draperies                     7\n",
       "Handmade/Pets/Leash                                                      7\n",
       "Kids/Pregnancy & Maternity/Other                                         7\n",
       "Vintage & Collectibles/Home Decor/Lighting                               7\n",
       "Vintage & Collectibles/Accessories/Brooch                                7\n",
       "Other/Musical instruments/Studio Recording Equipment                     7\n",
       "Other/Automotive/Tires & Wheels                                          6\n",
       "Kids/Bathing & Skin Care/Bubble Bath                                     6\n",
       "Men/Shorts/Board, Surf                                                   6\n",
       "Vintage & Collectibles/Accessories/Cuff Links                            6\n",
       "Home/Artwork/Lithographs, Etchings & Woodcuts                            6\n",
       "Vintage & Collectibles/Serving/Plate                                     6\n",
       "Vintage & Collectibles/Home Decor/Tray                                   6\n",
       "Women/Suits & Blazers/Dress Suit                                         6\n",
       "Vintage & Collectibles/Accessories/Scarf                                 6\n",
       "Handmade/Pets/Clothing                                                   6\n",
       "Home/Furniture/Bedroom Furniture                                         6\n",
       "Handmade/Children/Clothing                                               6\n",
       "Home/Bath/Other                                                          6\n",
       "Electronics/Cameras & Photography/Other                                  6\n",
       "Handmade/Accessories/Hat                                                 6\n",
       "Kids/Health & Baby Care/Nasal Aspirators                                 6\n",
       "Handmade/Books and Zines/Book                                            6\n",
       "Handmade/Paper Goods/Papermaking                                         6\n",
       "Handmade/Music/Tape                                                      6\n",
       "Handmade/Art/Mixed Media                                                 6\n",
       "Handmade/Paper Goods/Other                                               6\n",
       "Handmade/Clothing/Women                                                  6\n",
       "Sports & Outdoors/Footwear/Kids                                          6\n",
       "Men/Sweats & Hoodies/Other                                               6\n",
       "Handmade/Toys/Plush                                                      6\n",
       "Women/Sweaters/Henley                                                    6\n",
       "Kids/Bathing & Skin Care/Other                                           6\n",
       "Handmade/Clothing/Shirt                                                  6\n",
       "Sports & Outdoors/Golf/Golf Shoes                                        6\n",
       "Handmade/Music/Poster                                                    6\n",
       "Handmade/Needlecraft/Embroidery                                          5\n",
       "Other/Automotive/Performance Parts & Accessories                         5\n",
       "Home/Storage & Organization/Bathroom Storage & Organization              5\n",
       "Home/Furniture/Other Furniture                                           5\n",
       "Women/Athletic Apparel/Vests                                             5\n",
       "Vintage & Collectibles/Paper Ephemera/Postcard                           5\n",
       "Kids/Safety/Kitchen Safety                                               5\n",
       "Women/Skirts/Peasant                                                     5\n",
       "Men/Blazers & Sport Coats/Two Button                                     5\n",
       "Kids/Gear/Playards                                                       5\n",
       "Vintage & Collectibles/Home Decor/Frame                                  5\n",
       "Handmade/Holidays/Birthday                                               5\n",
       "Handmade/Glass/Supplies                                                  5\n",
       "Vintage & Collectibles/Book/History                                      5\n",
       "Vintage & Collectibles/Book/Reference                                    5\n",
       "Handmade/Quilts/Patch                                                    5\n",
       "Handmade/Patterns/Crochet                                                5\n",
       "Vintage & Collectibles/Housewares/Magnet                                 5\n",
       "Beauty/Tools & Accessories/Bathing Accessories                           5\n",
       "Home/Kids' Home Store/Other                                              5\n",
       "Handmade/Jewelry/Other                                                   5\n",
       "Electronics/Car Audio, Video & GPS/Car Security & Convenience            5\n",
       "Kids/Diapering/Powders & Lotions                                         5\n",
       "Vintage & Collectibles/Paper Ephemera/Other                              4\n",
       "Vintage & Collectibles/Serving/Cream and Sugar Set                       4\n",
       "Handmade/Geekery/Science                                                 4\n",
       "Handmade/Crochet/Housewares                                              4\n",
       "Handmade/Pets/Grooming                                                   4\n",
       "Beauty/Hair Care/Hair Perms & Texturizers                                4\n",
       "Men/Shorts/Dress Shorts                                                  4\n",
       "Women/Maternity/Coats & Jackets                                          4\n",
       "Handmade/Children/Accessories                                            4\n",
       "Kids/Strollers/Standard                                                  4\n",
       "Vintage & Collectibles/Housewares/Coaster                                4\n",
       "Home/Bath/Bathroom Furniture Sets                                        4\n",
       "Men/Blazers & Sport Coats/Three Button                                   4\n",
       "Kids/Diapering/Diaper Stackers & Caddies                                 4\n",
       "Men/Shoes/Mules & Clogs                                                  4\n",
       "Handmade/Knitting/Blanket                                                4\n",
       "Handmade/Glass/Beads                                                     4\n",
       "Vintage & Collectibles/Accessories/Gloves                                4\n",
       "Handmade/Ceramics and Pottery/Home Decor                                 4\n",
       "Vintage & Collectibles/Book/Biography                                    4\n",
       "Kids/Health & Baby Care/Nail Care                                        4\n",
       "Handmade/Jewelry/Music                                                   4\n",
       "Vintage & Collectibles/Accessories/Shoes                                 4\n",
       "Vintage & Collectibles/Book/How to                                       4\n",
       "Kids/Strollers/Lightweight                                               4\n",
       "Kids/Bathing & Skin Care/Grooming & Healthcare Kits                      4\n",
       "Vintage & Collectibles/Toy/Block                                         4\n",
       "Home/Bedding/Bed in a Bag                                                4\n",
       "Vintage & Collectibles/Accessories/Wallet                                4\n",
       "Home/Home Appliances/Microwaves                                          4\n",
       "Men/Jeans/Carpenter                                                      4\n",
       "Vintage & Collectibles/Clothing/Outerwear                                4\n",
       "Sports & Outdoors/Golf/Golf Bags                                         4\n",
       "Vintage & Collectibles/Antique/Accessories                               4\n",
       "Other/Automotive/Other                                                   4\n",
       "Other/Automotive/Paint, Body & Trim                                      4\n",
       "Vintage & Collectibles/Serving/Other                                     4\n",
       "Kids/Diapering/Other                                                     4\n",
       "Kids/Bathing & Skin Care/Shampoo                                         4\n",
       "Men/Pants/Dress - Pleat                                                  4\n",
       "Vintage & Collectibles/Bags and Purses/Case                              3\n",
       "Handmade/Housewares/Kitchen                                              3\n",
       "Handmade/Music/Instrument                                                3\n",
       "Vintage & Collectibles/Serving/Dinnerware Set                            3\n",
       "Handmade/Needlecraft/Pillow                                              3\n",
       "Men/Jeans/Overalls                                                       3\n",
       "Other/Office supplies/Presentation                                       3\n",
       "Handmade/Weddings/Bouquets                                               3\n",
       "Home/Bedding/Inflatable Beds                                             3\n",
       "Beauty/Tools & Accessories/Toiletry Kits                                 3\n",
       "Vintage & Collectibles/Serving/Flatware                                  3\n",
       "Handmade/Geekery/Toy                                                     3\n",
       "Vintage & Collectibles/Trading Cards/Comic                               3\n",
       "Other/Musical instruments/Other                                          3\n",
       "Handmade/Glass/Other                                                     3\n",
       "Handmade/Children/Jewelry                                                3\n",
       "Vintage & Collectibles/Supplies/Trim                                     3\n",
       "Home/Bath/Bath Rugs                                                      3\n",
       "Handmade/Glass/Home Decor                                                3\n",
       "Handmade/Others/Graphic Design                                           3\n",
       "Handmade/Patterns/Doll Clothing                                          3\n",
       "Handmade/Needlecraft/Other                                               3\n",
       "Handmade/Holidays/Other                                                  3\n",
       "Vintage & Collectibles/Paper Ephemera/Game                               3\n",
       "Home/Bath/Bath Linen Sets                                                3\n",
       "Electronics/Car Audio, Video & GPS/Car Video                             3\n",
       "Women/Skirts/Bubble                                                      3\n",
       "Other/Automotive/Automotive Enthusiast Merchandise                       3\n",
       "Home/Cleaning Supplies/Sweeping                                          3\n",
       "Handmade/Books and Zines/Bookmark                                        3\n",
       "Handmade/Pets/Feeding                                                    3\n",
       "Handmade/Dolls and Miniatures/Human Figure Doll                          3\n",
       "Home/Seasonal Décor/Day of the Dead                                      3\n",
       "Vintage & Collectibles/Clothing/Pants                                    3\n",
       "Men/Tops/Turtleneck                                                      3\n",
       "Kids/Car Seats & Accessories/Other                                       3\n",
       "Electronics/Cameras & Photography/Flashes & Flash Accessories            3\n",
       "Home/Storage & Organization/Kitchen Storage & Organization               3\n",
       "Vintage & Collectibles/Clothing/Shawl                                    3\n",
       "Vintage & Collectibles/Book/Art                                          3\n",
       "Kids/Bathing & Skin Care/Travel Bathing Kits                             3\n",
       "Vintage & Collectibles/Antique/Supplies                                  3\n",
       "Kids/Safety/Gates & Doorways                                             3\n",
       "Handmade/Books and Zines/Journal                                         3\n",
       "Vintage & Collectibles/Accessories/Apron                                 3\n",
       "Sports & Outdoors/Footwear/Women                                         3\n",
       "Home/Storage & Organization/Garage Storage & Organization                3\n",
       "Electronics/Car Audio, Video & GPS/Other                                 3\n",
       "Home/Furniture/Home Office Furniture                                     3\n",
       "Other/Musical instruments/Brass Instruments                              3\n",
       "Vintage & Collectibles/Trading Cards/Price Guides & Publications         3\n",
       "Vintage & Collectibles/Supplies/Button                                   3\n",
       "Men/Suits/Three Button                                                   3\n",
       "Vintage & Collectibles/Electronics/Clock                                 3\n",
       "Men/Athletic Apparel/Vests                                               3\n",
       "Home/Kids' Home Store/Nursery Bedding                                    3\n",
       "Sports & Outdoors/Exercise/Bowling                                       2\n",
       "Vintage & Collectibles/Bags and Purses/Tote                              2\n",
       "Vintage & Collectibles/Accessories/Handkerchief                          2\n",
       "Vintage & Collectibles/Clothing/Children                                 2\n",
       "Kids/Gear/Harnesses & Leashes                                            2\n",
       "Handmade/Patterns/Accessories                                            2\n",
       "Kids/Safety/Crib Netting                                                 2\n",
       "Kids/Bathing & Skin Care/Bathroom Safety                                 2\n",
       "Handmade/Patterns/Other                                                  2\n",
       "Handmade/Geekery/Other                                                   2\n",
       "Handmade/Weddings/Other                                                  2\n",
       "Handmade/Clothing/Other                                                  2\n",
       "Kids/Gear/Activity Centers & Entertainers                                2\n",
       "Handmade/Geekery/Horror                                                  2\n",
       "Handmade/Weddings/Something Blue                                         2\n",
       "Vintage & Collectibles/Antique/Housewares                                2\n",
       "Handmade/Weddings/Pillows                                                2\n",
       "Other/Automotive/Oils & Fluids                                           2\n",
       "Handmade/Needlecraft/Pattern                                             2\n",
       "Handmade/Music/Other                                                     2\n",
       "Handmade/Art/Sculptures                                                  2\n",
       "Home/Home Décor/Slipcovers                                               2\n",
       "Vintage & Collectibles/Antique/Home Decor                                2\n",
       "Vintage & Collectibles/Book/Science                                      2\n",
       "Home/Kids' Home Store/Nursery Décor                                      2\n",
       "Vintage & Collectibles/Housewares/Table                                  2\n",
       "Handmade/Patterns/Knitting                                               2\n",
       "Handmade/Ceramics and Pottery/Kitchen                                    2\n",
       "Vintage & Collectibles/Serving/Teapot                                    2\n",
       "Kids/Feeding/Pillows & Stools                                            2\n",
       "Vintage & Collectibles/Supplies/Finding                                  2\n",
       "Handmade/Pets/Accessories                                                2\n",
       "Handmade/Housewares/Other                                                2\n",
       "Handmade/Geekery/Jewelry                                                 2\n",
       "Other/Office supplies/Furniture                                          2\n",
       "Handmade/Bags and Purses/Clutch                                          2\n",
       "Vintage & Collectibles/Supplies/Pattern                                  2\n",
       "Vintage & Collectibles/Housewares/Pot Holder                             2\n",
       "Handmade/Dolls and Miniatures/Scale Dollhouse Miniature                  2\n",
       "Handmade/Pets/Other                                                      2\n",
       "Home/Home Appliances/Dehumidifiers                                       2\n",
       "Vintage & Collectibles/Clothing/Baby                                     2\n",
       "Handmade/Children/Toddler                                                2\n",
       "Vintage & Collectibles/Antique/Other                                     2\n",
       "Other/Books/Engineering & Transportation                                 2\n",
       "Electronics/Car Audio, Video & GPS/Car Subwoofers                        2\n",
       "Kids/Safety/Electrical Safety                                            2\n",
       "Handmade/Crochet/Clothing                                                2\n",
       "Vintage & Collectibles/Book/Instructional                                2\n",
       "Kids/Gear/Travel Beds                                                    2\n",
       "Handmade/Woodworking/Toys                                                2\n",
       "Handmade/Accessories/Watch                                               2\n",
       "Other/Automotive/Replacement Parts                                       2\n",
       "Handmade/Art/Collages                                                    2\n",
       "Kids/Diapering/Washcloths & Towels                                       2\n",
       "Other/Musical instruments/Band & Orchestra                               2\n",
       "Vintage & Collectibles/Book/Religion                                     2\n",
       "Handmade/Crochet/Bags and Purses                                         2\n",
       "Home/Kids' Home Store/Kids' Bath                                         2\n",
       "Sports & Outdoors/Footwear/Men                                           2\n",
       "Handmade/Dolls and Miniatures/Figurines                                  2\n",
       "Handmade/Paper Goods/Tag                                                 2\n",
       "Home/Home Décor/Fireplaces & Accessories                                 2\n",
       "Handmade/Geekery/Fantasy                                                 1\n",
       "Handmade/Dolls and Miniatures/Fashion Dolls Apparel                      1\n",
       "Vintage & Collectibles/Antique/Furniture                                 1\n",
       "Kids/Safety/Sleep Positioners                                            1\n",
       "Vintage & Collectibles/Furniture/Entertainment                           1\n",
       "Handmade/Glass/Dishes                                                    1\n",
       "Handmade/Woodworking/Boxes                                               1\n",
       "Handmade/Woodworking/Jewelry                                             1\n",
       "Handmade/Ceramics and Pottery/Other                                      1\n",
       "Handmade/Weddings/Invitations                                            1\n",
       "Kids/Safety/Other                                                        1\n",
       "Vintage & Collectibles/Home Decor/Pillow                                 1\n",
       "Home/Cleaning Supplies/Brushes                                           1\n",
       "Vintage & Collectibles/Home Decor/Bedding                                1\n",
       "Kids/Diapering/Changing Kits                                             1\n",
       "Handmade/Housewares/Storage Solutions                                    1\n",
       "Handmade/Dolls and Miniatures/Art Doll                                   1\n",
       "Home/Home Appliances/Washers & Dryers                                    1\n",
       "Beauty/Hair Care/Hair Relaxers                                           1\n",
       "Handmade/Ceramics and Pottery/Planters                                   1\n",
       "Kids/Strollers/Other                                                     1\n",
       "Beauty/Tools & Accessories/Hair Coloring Tools                           1\n",
       "Handmade/Bags and Purses/Other                                           1\n",
       "Handmade/Accessories/Eyewear                                             1\n",
       "Handmade/Ceramics and Pottery/Supplies                                   1\n",
       "Handmade/Woodworking/Burning                                             1\n",
       "Handmade/Geekery/Humor                                                   1\n",
       "Home/Kids' Home Store/Kids' Flatware                                     1\n",
       "Kids/Potty Training/Other                                                1\n",
       "Vintage & Collectibles/Serving/Butter Dish                               1\n",
       "Handmade/Weddings/Men                                                    1\n",
       "Vintage & Collectibles/Trading Cards/Action, Adventure                   1\n",
       "Home/Seasonal Décor/New Year's                                           1\n",
       "Vintage & Collectibles/Electronics/Television                            1\n",
       "Vintage & Collectibles/Bags and Purses/Leather                           1\n",
       "Handmade/Holidays/Easter                                                 1\n",
       "Men/Shorts/Carpenter, Utility                                            1\n",
       "Handmade/Weddings/Clothing                                               1\n",
       "Vintage & Collectibles/Serving/Tray                                      1\n",
       "Vintage & Collectibles/Trading Cards/Historical, Military                1\n",
       "Kids/Health & Baby Care/Sun Protection                                   1\n",
       "Handmade/Patterns/Painting                                               1\n",
       "Home/Seasonal Décor/Hanukkah                                             1\n",
       "Handmade/Knitting/Hat                                                    1\n",
       "Home/Storage & Organization/Storage Cabinets                             1\n",
       "Handmade/Accessories/Cozy                                                1\n",
       "Handmade/Housewares/Entertaining/Serving                                 1\n",
       "Handmade/Glass/Jewelry                                                   1\n",
       "Handmade/Glass/Paperweights                                              1\n",
       "Handmade/Toys/Children                                                   1\n",
       "Handmade/Accessories/Case                                                1\n",
       "Handmade/Glass/Vases                                                     1\n",
       "Handmade/Art/Illustration                                                1\n",
       "Handmade/Crochet/Doll                                                    1\n",
       "Vintage & Collectibles/Serving/Pitcher                                   1\n",
       "Handmade/Quilts/Wall Hanging                                             1\n",
       "Handmade/Accessories/Necktie                                             1\n",
       "Handmade/Quilts/Patchwork                                                1\n",
       "Vintage & Collectibles/Electronics/Telephone                             1\n",
       "Handmade/Paper Goods/Origami                                             1\n",
       "Handmade/Ceramics and Pottery/Coasters                                   1\n",
       "Other/Musical instruments/Bass Guitars                                   1\n",
       "Home/Artwork/Photographs                                                 1\n",
       "Vintage & Collectibles/Serving/Bowl                                      1\n",
       "Home/Bedding/Feather Beds                                                1\n",
       "Handmade/Clothing/Children                                               1\n",
       "Home/Storage & Organization/Holiday Décor Storage                        1\n",
       "Handmade/Geekery/Videogame                                               1\n",
       "Vintage & Collectibles/Bags and Purses/Diaper Bag                        1\n",
       "Vintage & Collectibles/Serving/Casserole                                 1\n",
       "Vintage & Collectibles/Accessories/Compact                               1\n",
       "Handmade/Clothing/Shoes                                                  1\n",
       "Vintage & Collectibles/Supplies/Chain                                    1\n",
       "Handmade/Pets/Bowl                                                       1\n",
       "Handmade/Books and Zines/Other                                           1\n",
       "Vintage & Collectibles/Furniture/Fixture                                 1\n",
       "Vintage & Collectibles/Housewares/Tray                                   1\n",
       "Handmade/Holidays/New Years                                              1\n",
       "Women/Maternity/Suits & Blazers                                          1\n",
       "Handmade/Accessories/Mirror                                              1\n",
       "Handmade/Candles/Stationery                                              1\n",
       "Handmade/Children/Other                                                  1\n",
       "Vintage & Collectibles/Antique/Serving                                   1\n",
       "Handmade/Paper Goods/Bookmark                                            1\n",
       "Men/Blazers & Sport Coats/One Button                                     1\n",
       "Handmade/Pets/Tag                                                        1\n",
       "Handmade/Art/Photography                                                 1\n",
       "Handmade/Weddings/Guest Books                                            1\n",
       "Home/Home Décor/Doorstops                                                1\n",
       "Handmade/Quilts/Baby                                                     1\n",
       "Handmade/Quilts/Other                                                    1\n",
       "Vintage & Collectibles/Clothing/Blouse                                   1\n",
       "Men/Jeans/Cargo                                                          1\n",
       "Handmade/Music/Equipment                                                 1\n",
       "Kids/Strollers/Prams                                                     1\n",
       "Home/Cleaning Supplies/Sponges                                           1\n",
       "Handmade/Dolls and Miniatures/Miniature                                  1\n",
       "Home/Home Appliances/Water Coolers & Filters                             1\n",
       "Handmade/Quilts/Trim                                                     1\n",
       "Vintage & Collectibles/Housewares/Light                                  1\n",
       "Vintage & Collectibles/Antique/Paper Ephemera                            1\n",
       "Handmade/Patterns/Handmade                                               1\n",
       "Vintage & Collectibles/Serving/Glassware                                 1\n",
       "Handmade/Clothing/Dress                                                  1\n",
       "Handmade/Pets/Toy                                                        1\n",
       "Handmade/Books and Zines/Comic                                           1\n",
       "Name: category_name, dtype: int64"
      ]
     },
     "execution_count": 142,
     "metadata": {},
     "output_type": "execute_result"
    }
   ],
   "source": [
    "#Using value counts printing unique categories in descinding order of frequency\n",
    "pd.set_option(\"display.max_rows\", None)\n",
    "item_list_df['category_name'].value_counts()"
   ]
  },
  {
   "cell_type": "code",
   "execution_count": 143,
   "metadata": {},
   "outputs": [
    {
     "name": "stdout",
     "output_type": "stream",
     "text": [
      "Number of unique categories  1135\n"
     ]
    }
   ],
   "source": [
    "print(\"Number of unique categories \",len(item_list_df['category_name'].value_counts()))"
   ]
  },
  {
   "cell_type": "markdown",
   "metadata": {},
   "source": [
    "For the items with worst condition only (highest value from item_condition_id), write code\n",
    "to (print) find out the top 3 categories"
   ]
  },
  {
   "cell_type": "code",
   "execution_count": 144,
   "metadata": {},
   "outputs": [
    {
     "data": {
      "text/plain": [
       "Electronics/Cell Phones & Accessories/Cell Phones & Smartphones    137\n",
       "Electronics/Video Games & Consoles/Games                            42\n",
       "Electronics/Video Games & Consoles/Consoles                         35\n",
       "Name: category_name, dtype: int64"
      ]
     },
     "execution_count": 144,
     "metadata": {},
     "output_type": "execute_result"
    }
   ],
   "source": [
    "#Using group by to group all data in based on worst item condition i.e. 5.\n",
    "df_group=item_list_df.groupby('item_condition_id').get_group(5)\n",
    "#Using values counts to get number and frequency of unique categories in category 5 \n",
    "categories=df_group['category_name'].value_counts()\n",
    "#Printing top 3 categories based on items with worst condition \n",
    "categories.head(3)"
   ]
  },
  {
   "cell_type": "markdown",
   "metadata": {},
   "source": [
    "#### Question 1.6\n",
    "\n",
    "Write the function (must be function) to split the text content (string value in each row) in\n",
    "column category_name by ’/’ character"
   ]
  },
  {
   "cell_type": "code",
   "execution_count": 177,
   "metadata": {},
   "outputs": [],
   "source": [
    "def createSubCategories(df):\n",
    "    #extract category data\n",
    "    category_data=df['category_name']\n",
    "    main_cat=[]\n",
    "    sub_cat_1=[]\n",
    "    sub_cat_2=[]\n",
    "    unknown_val=\"Category Unknown\"\n",
    "    #iterate category series data and append the categories in main_cat,sub_cat_1,sub_cat_2 list\n",
    "    for (i,val) in category_data.items():\n",
    "        if(pd.isna(val)):\n",
    "            main_cat.append(unknown_val)\n",
    "            sub_cat_1.append(unknown_val)\n",
    "            sub_cat_2.append(unknown_val)\n",
    "        else:\n",
    "            data=val.split('/')\n",
    "            if(len(data)<1):\n",
    "                print(\"zerodata\")\n",
    "                main_cat.append(unknown_val)\n",
    "                sub_cat_1.append(unknown_val)\n",
    "                sub_cat_2.append(unknown_val)\n",
    "            else:\n",
    "                main_cat.append(data[0])\n",
    "                sub_cat_1.append(data[1])\n",
    "                sub_cat_2.append(data[2])\n",
    "    df['main_cat']=main_cat\n",
    "    df['sub_cat_1']=sub_cat_1\n",
    "    df['sub_cat_2']=sub_cat_2"
   ]
  },
  {
   "cell_type": "code",
   "execution_count": 178,
   "metadata": {},
   "outputs": [],
   "source": [
    "createSubCategories(item_list_df)"
   ]
  },
  {
   "cell_type": "markdown",
   "metadata": {},
   "source": [
    " Print out the dataframe to show the top 5 rows for three new columns main_cat,subcat_1 and subcat_2"
   ]
  },
  {
   "cell_type": "code",
   "execution_count": 187,
   "metadata": {},
   "outputs": [
    {
     "data": {
      "text/html": [
       "<div>\n",
       "<style scoped>\n",
       "    .dataframe tbody tr th:only-of-type {\n",
       "        vertical-align: middle;\n",
       "    }\n",
       "\n",
       "    .dataframe tbody tr th {\n",
       "        vertical-align: top;\n",
       "    }\n",
       "\n",
       "    .dataframe thead th {\n",
       "        text-align: right;\n",
       "    }\n",
       "</style>\n",
       "<table border=\"1\" class=\"dataframe\">\n",
       "  <thead>\n",
       "    <tr style=\"text-align: right;\">\n",
       "      <th></th>\n",
       "      <th>main_cat</th>\n",
       "      <th>sub_cat_1</th>\n",
       "      <th>sub_cat_2</th>\n",
       "    </tr>\n",
       "  </thead>\n",
       "  <tbody>\n",
       "    <tr>\n",
       "      <th>0</th>\n",
       "      <td>women</td>\n",
       "      <td>tops &amp; blouses</td>\n",
       "      <td>blouse</td>\n",
       "    </tr>\n",
       "    <tr>\n",
       "      <th>1</th>\n",
       "      <td>women</td>\n",
       "      <td>tops &amp; blouses</td>\n",
       "      <td>tank, cami</td>\n",
       "    </tr>\n",
       "    <tr>\n",
       "      <th>2</th>\n",
       "      <td>kids</td>\n",
       "      <td>toys</td>\n",
       "      <td>action figures &amp; statues</td>\n",
       "    </tr>\n",
       "    <tr>\n",
       "      <th>3</th>\n",
       "      <td>kids</td>\n",
       "      <td>boys 2t-5t</td>\n",
       "      <td>shoes</td>\n",
       "    </tr>\n",
       "    <tr>\n",
       "      <th>4</th>\n",
       "      <td>kids</td>\n",
       "      <td>girls 0-24 mos</td>\n",
       "      <td>dresses</td>\n",
       "    </tr>\n",
       "  </tbody>\n",
       "</table>\n",
       "</div>"
      ],
      "text/plain": [
       "  main_cat       sub_cat_1                 sub_cat_2\n",
       "0    women  tops & blouses                    blouse\n",
       "1    women  tops & blouses                tank, cami\n",
       "2     kids            toys  action figures & statues\n",
       "3     kids      boys 2t-5t                     shoes\n",
       "4     kids  girls 0-24 mos                   dresses"
      ]
     },
     "execution_count": 187,
     "metadata": {},
     "output_type": "execute_result"
    }
   ],
   "source": [
    "item_list_df[['main_cat', 'sub_cat_1','sub_cat_2']].head(5)"
   ]
  },
  {
   "cell_type": "markdown",
   "metadata": {},
   "source": [
    "As observed above top 5 records for dataframe and new added colums for main_cat,subcat_1 and subcat_2"
   ]
  },
  {
   "cell_type": "markdown",
   "metadata": {},
   "source": [
    "#### Question 1.7"
   ]
  },
  {
   "cell_type": "markdown",
   "metadata": {},
   "source": [
    "Write code (or function) to change the text (value in each row) from the new three columns\n",
    "to lowercase"
   ]
  },
  {
   "cell_type": "code",
   "execution_count": 190,
   "metadata": {},
   "outputs": [],
   "source": [
    "def seriesToLower(df):\n",
    "    df['main_cat'] = df['main_cat'].apply(lambda x : x.lower())\n",
    "    df['sub_cat_1'] = df['sub_cat_1'].apply(lambda x : x.lower())\n",
    "    df['sub_cat_2'] = df['sub_cat_2'].apply(lambda x : x.lower())\n",
    "    \n",
    "seriesToLower(item_list_df)"
   ]
  },
  {
   "cell_type": "code",
   "execution_count": 191,
   "metadata": {},
   "outputs": [
    {
     "data": {
      "text/html": [
       "<div>\n",
       "<style scoped>\n",
       "    .dataframe tbody tr th:only-of-type {\n",
       "        vertical-align: middle;\n",
       "    }\n",
       "\n",
       "    .dataframe tbody tr th {\n",
       "        vertical-align: top;\n",
       "    }\n",
       "\n",
       "    .dataframe thead th {\n",
       "        text-align: right;\n",
       "    }\n",
       "</style>\n",
       "<table border=\"1\" class=\"dataframe\">\n",
       "  <thead>\n",
       "    <tr style=\"text-align: right;\">\n",
       "      <th></th>\n",
       "      <th>train_id</th>\n",
       "      <th>name</th>\n",
       "      <th>item_condition_id</th>\n",
       "      <th>category_name</th>\n",
       "      <th>brand_name</th>\n",
       "      <th>price</th>\n",
       "      <th>shipping</th>\n",
       "      <th>clean_description</th>\n",
       "      <th>main_cat</th>\n",
       "      <th>sub_cat_1</th>\n",
       "      <th>sub_cat_2</th>\n",
       "    </tr>\n",
       "  </thead>\n",
       "  <tbody>\n",
       "    <tr>\n",
       "      <th>0</th>\n",
       "      <td>128037</td>\n",
       "      <td>Bundle for Sassy Sisters</td>\n",
       "      <td>3</td>\n",
       "      <td>Women/Tops &amp; Blouses/Blouse</td>\n",
       "      <td>NaN</td>\n",
       "      <td>16.0</td>\n",
       "      <td>0</td>\n",
       "      <td>max cleo black dress paper crane black tank to...</td>\n",
       "      <td>women</td>\n",
       "      <td>tops &amp; blouses</td>\n",
       "      <td>blouse</td>\n",
       "    </tr>\n",
       "    <tr>\n",
       "      <th>1</th>\n",
       "      <td>491755</td>\n",
       "      <td>PINK VS TANK</td>\n",
       "      <td>2</td>\n",
       "      <td>Women/Tops &amp; Blouses/Tank, Cami</td>\n",
       "      <td>NaN</td>\n",
       "      <td>17.0</td>\n",
       "      <td>0</td>\n",
       "      <td>sequin pink sign sequins missing gently worn</td>\n",
       "      <td>women</td>\n",
       "      <td>tops &amp; blouses</td>\n",
       "      <td>tank, cami</td>\n",
       "    </tr>\n",
       "    <tr>\n",
       "      <th>2</th>\n",
       "      <td>470924</td>\n",
       "      <td>Funko Pop Unmasked Cyclops</td>\n",
       "      <td>1</td>\n",
       "      <td>Kids/Toys/Action Figures &amp; Statues</td>\n",
       "      <td>Funko</td>\n",
       "      <td>30.0</td>\n",
       "      <td>1</td>\n",
       "      <td>box great condition comes soft pop protector p...</td>\n",
       "      <td>kids</td>\n",
       "      <td>toys</td>\n",
       "      <td>action figures &amp; statues</td>\n",
       "    </tr>\n",
       "    <tr>\n",
       "      <th>3</th>\n",
       "      <td>491263</td>\n",
       "      <td>Baby Roshe Runs</td>\n",
       "      <td>3</td>\n",
       "      <td>Kids/Boys 2T-5T/Shoes</td>\n",
       "      <td>Nike</td>\n",
       "      <td>19.0</td>\n",
       "      <td>0</td>\n",
       "      <td>baby black nike roshe runs size 5c</td>\n",
       "      <td>kids</td>\n",
       "      <td>boys 2t-5t</td>\n",
       "      <td>shoes</td>\n",
       "    </tr>\n",
       "    <tr>\n",
       "      <th>4</th>\n",
       "      <td>836489</td>\n",
       "      <td>Baby Girl Ralph Lauren dresses</td>\n",
       "      <td>3</td>\n",
       "      <td>Kids/Girls 0-24 Mos/Dresses</td>\n",
       "      <td>Ralph Lauren</td>\n",
       "      <td>24.0</td>\n",
       "      <td>0</td>\n",
       "      <td>2 polo dresses 3 months wore washed dreft pink...</td>\n",
       "      <td>kids</td>\n",
       "      <td>girls 0-24 mos</td>\n",
       "      <td>dresses</td>\n",
       "    </tr>\n",
       "  </tbody>\n",
       "</table>\n",
       "</div>"
      ],
      "text/plain": [
       "   train_id                            name  item_condition_id  \\\n",
       "0    128037        Bundle for Sassy Sisters                  3   \n",
       "1    491755                    PINK VS TANK                  2   \n",
       "2    470924      Funko Pop Unmasked Cyclops                  1   \n",
       "3    491263                 Baby Roshe Runs                  3   \n",
       "4    836489  Baby Girl Ralph Lauren dresses                  3   \n",
       "\n",
       "                        category_name    brand_name  price  shipping  \\\n",
       "0         Women/Tops & Blouses/Blouse           NaN   16.0         0   \n",
       "1     Women/Tops & Blouses/Tank, Cami           NaN   17.0         0   \n",
       "2  Kids/Toys/Action Figures & Statues         Funko   30.0         1   \n",
       "3               Kids/Boys 2T-5T/Shoes          Nike   19.0         0   \n",
       "4         Kids/Girls 0-24 Mos/Dresses  Ralph Lauren   24.0         0   \n",
       "\n",
       "                                   clean_description main_cat       sub_cat_1  \\\n",
       "0  max cleo black dress paper crane black tank to...    women  tops & blouses   \n",
       "1       sequin pink sign sequins missing gently worn    women  tops & blouses   \n",
       "2  box great condition comes soft pop protector p...     kids            toys   \n",
       "3                 baby black nike roshe runs size 5c     kids      boys 2t-5t   \n",
       "4  2 polo dresses 3 months wore washed dreft pink...     kids  girls 0-24 mos   \n",
       "\n",
       "                  sub_cat_2  \n",
       "0                    blouse  \n",
       "1                tank, cami  \n",
       "2  action figures & statues  \n",
       "3                     shoes  \n",
       "4                   dresses  "
      ]
     },
     "execution_count": 191,
     "metadata": {},
     "output_type": "execute_result"
    }
   ],
   "source": [
    "item_list_df.head()"
   ]
  },
  {
   "cell_type": "markdown",
   "metadata": {},
   "source": [
    "Draw the bar chart to find out the top 5 most popular main categories (in column main_cat)\n",
    "in the data"
   ]
  },
  {
   "cell_type": "code",
   "execution_count": 207,
   "metadata": {},
   "outputs": [
    {
     "data": {
      "text/plain": [
       "<Axes: >"
      ]
     },
     "execution_count": 207,
     "metadata": {},
     "output_type": "execute_result"
    },
    {
     "data": {
      "image/png": "[encoded data removed]",
      "text/plain": [
       "<Figure size 1000x1000 with 1 Axes>"
      ]
     },
     "metadata": {},
     "output_type": "display_data"
    }
   ],
   "source": [
    "hist_data=item_list_df['main_cat'].value_counts().head(5)\n",
    "hist_data.plot(kind='bar')"
   ]
  },
  {
   "cell_type": "markdown",
   "metadata": {},
   "source": [
    "Write code (or function) to (print) find out how many unique main categories (in col umn\n",
    "main_cat), unique first sub-categories (in column subcat_1) and unique second\n",
    "sub-categories (in column subcat_2) respectively"
   ]
  },
  {
   "cell_type": "code",
   "execution_count": 248,
   "metadata": {},
   "outputs": [
    {
     "name": "stdout",
     "output_type": "stream",
     "text": [
      "Number of unique main categories  11\n",
      "Number of unique sub_cat_1 categories  114\n",
      "Number of unique sub_cat_2 categories  788\n"
     ]
    }
   ],
   "source": [
    "print(\"Number of unique main categories \",len(item_list_df['main_cat'].value_counts()))\n",
    "print(\"Number of unique sub_cat_1 categories \",len(item_list_df['sub_cat_1'].value_counts()))\n",
    "print(\"Number of unique sub_cat_2 categories \",len(item_list_df['sub_cat_2'].value_counts()))"
   ]
  }
 ],
 "metadata": {
  "colab": {
   "provenance": []
  },
  "kernelspec": {
   "display_name": "Python 3 (ipykernel)",
   "language": "python",
   "name": "python3"
  },
  "language_info": {
   "codemirror_mode": {
    "name": "ipython",
    "version": 3
   },
   "file_extension": ".py",
   "mimetype": "text/x-python",
   "name": "python",
   "nbconvert_exporter": "python",
   "pygments_lexer": "ipython3",
   "version": "3.9.12"
  }
 },
 "nbformat": 4,
 "nbformat_minor": 1
}
